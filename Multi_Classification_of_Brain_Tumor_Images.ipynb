{
  "nbformat": 4,
  "nbformat_minor": 0,
  "metadata": {
    "accelerator": "GPU",
    "colab": {
      "name": "Multi-Classification_of_Brain_Tumor_Images.ipynb",
      "provenance": [],
      "collapsed_sections": [],
      "authorship_tag": "ABX9TyOcYe6T6vQiyxo0ouJLsKmV"
    },
    "kernelspec": {
      "display_name": "Python 3",
      "name": "python3"
    },
    "language_info": {
      "name": "python"
    }
  },
  "cells": [
    {
      "cell_type": "code",
      "metadata": {
        "colab": {
          "base_uri": "https://localhost:8080/"
        },
        "id": "EvUGd4r9Sn1v",
        "outputId": "9cc5350d-47ca-4ce3-bb53-f417263669cb"
      },
      "source": [
        "#Importação de bibliotecas\n",
        "import torch\n",
        "import glob\n",
        "import os\n",
        "import pathlib\n",
        "import cv2\n",
        "import shutil\n",
        "import random\n",
        "\n",
        "import numpy                as np\n",
        "import pandas               as pd\n",
        "import matplotlib.pyplot    as plt\n",
        "import cv2                  as cv \n",
        "import matplotlib.pyplot    as plt\n",
        "import torch.nn.functional  as F\n",
        "import seaborn              as sns\n",
        "import plotly.express       as px\n",
        "import plotly.graph_objects as go\n",
        "\n",
        "from random                  import sample\n",
        "from plotly.subplots         import make_subplots\n",
        "from google.colab            import drive\n",
        "from google.colab.patches    import cv2_imshow\n",
        "from skimage                 import io\n",
        "from PIL                     import Image\n",
        "from torch                   import nn, optim\n",
        "from torchvision             import datasets, transforms\n",
        "from sklearn.model_selection import train_test_split\n",
        "from tensorflow.keras.preprocessing.image import ImageDataGenerator\n",
        "print(\"Versão:\",torch.__version__)"
      ],
      "execution_count": 32,
      "outputs": [
        {
          "output_type": "stream",
          "name": "stdout",
          "text": [
            "Versão: 1.10.0+cu111\n"
          ]
        }
      ]
    },
    {
      "cell_type": "code",
      "metadata": {
        "colab": {
          "base_uri": "https://localhost:8080/"
        },
        "id": "k2qHreBIhUs4",
        "outputId": "7c178215-33a9-4ba4-c13b-3881ade49277"
      },
      "source": [
        "#Leituras de arquivo do drive\n",
        "drive.mount('/content/gdrive')"
      ],
      "execution_count": 33,
      "outputs": [
        {
          "output_type": "stream",
          "name": "stdout",
          "text": [
            "Drive already mounted at /content/gdrive; to attempt to forcibly remount, call drive.mount(\"/content/gdrive\", force_remount=True).\n"
          ]
        }
      ]
    },
    {
      "cell_type": "code",
      "metadata": {
        "id": "s_4kaFY-7A7k"
      },
      "source": [
        "#Modelo de arquitetura da CNN\n",
        "class classificador(nn.Module):\n",
        "    def __init__ (self):\n",
        "        super().__init__()\n",
        "      \n",
        "        self.conv1 = nn.Conv2d(in_channels=3, out_channels=64, kernel_size=10, stride=(1,1), padding=(0,0))\n",
        "        self.conv2 = nn.Conv2d(in_channels=64, out_channels=64, kernel_size=3, stride=(1,1), padding=(2,2))\n",
        "        self.conv3 = nn.Conv2d(in_channels=64, out_channels=64, kernel_size=2, stride=(1,1), padding=(2,2))\n",
        "\n",
        "        self.activation = nn.ReLU() \n",
        "        self.bnorm = nn.BatchNorm2d(num_features=64)\n",
        "        self.pool = nn.MaxPool2d(kernel_size=(2,2))\n",
        "        \n",
        "        self.flatten = nn.Flatten()\n",
        "        \n",
        "        self.linear1 = nn.Linear(in_features=16384, out_features=256)\n",
        "        self.linear2 = nn.Linear(in_features=256, out_features=128)\n",
        "        self.output = nn.Linear(in_features=128, out_features=4)\n",
        "\n",
        "        self.dropout1 = nn.Dropout(p = 0.1)\n",
        "        self.dropout2 = nn.Dropout(p = 0.2)\n",
        "        \n",
        "    def forward(self, X):\n",
        "        X = self.pool(self.bnorm(self.activation(self.conv1(X))))\n",
        "        X = self.dropout1(self.pool(self.activation(self.conv2(X))))\n",
        "        X = self.dropout2(self.pool(self.activation(self.conv3(X))))\n",
        "        X = self.flatten(X)\n",
        "        \n",
        "        X = self.activation(self.linear1(X))\n",
        "        X = self.activation(self.linear2(X))\n",
        "        X = self.output(X)\n",
        "        \n",
        "        return X"
      ],
      "execution_count": 34,
      "outputs": []
    },
    {
      "cell_type": "code",
      "metadata": {
        "id": "JWx1Wx6lrNaA"
      },
      "source": [
        "path_train = '/content/gdrive/MyDrive/MRI_TUMOR_CNN/80_20_Brain_Tumor/BrainTumor_80/'\n",
        "path_test = '/content/gdrive/MyDrive/MRI_TUMOR_CNN/80_20_Brain_Tumor/BrainTumor_20/'"
      ],
      "execution_count": 35,
      "outputs": []
    },
    {
      "cell_type": "code",
      "metadata": {
        "id": "2c8vfiUqvkkk"
      },
      "source": [
        "from torchvision.transforms.transforms import RandomHorizontalFlip\n",
        "transform_train = transforms.Compose(\n",
        "    [\n",
        "     transforms.Resize([128,128]),\n",
        "     transforms.RandomHorizontalFlip(),\n",
        "     transforms.RandomRotation(45),\n",
        "     transforms.ToTensor()\n",
        "    ]\n",
        ")\n",
        "\n",
        "transform_test = transforms.Compose(\n",
        "    [\n",
        "     transforms.Resize([128,128]),\n",
        "     transforms.ToTensor()\n",
        "    ]\n",
        ")"
      ],
      "execution_count": 36,
      "outputs": []
    },
    {
      "cell_type": "code",
      "metadata": {
        "id": "MJP9vNppzHsl"
      },
      "source": [
        "train_dataset = datasets.ImageFolder(path_train, transform=transform_train)\n",
        "test_dataset = datasets.ImageFolder(path_test, transform=transform_test)"
      ],
      "execution_count": 37,
      "outputs": []
    },
    {
      "cell_type": "code",
      "metadata": {
        "id": "XrLlnOJIz4o_"
      },
      "source": [
        "train_loader = torch.utils.data.DataLoader(train_dataset, batch_size=32, shuffle=True)\n",
        "test_loader = torch.utils.data.DataLoader(test_dataset, batch_size=32, shuffle=True)"
      ],
      "execution_count": 38,
      "outputs": []
    },
    {
      "cell_type": "code",
      "source": [
        "def get_class_distribution(dataset_obj):\n",
        "  count_dict = {k:0 for k, v in dataset_obj.class_to_idx.items()}\n",
        "  for i in dataset_obj:\n",
        "    y_labels = i[1]\n",
        "    y_labels = idx2class[y_labels]\n",
        "    count_dict[y_labels] += 1\n",
        "  return count_dict\n",
        "\n",
        "idx2class = {v: k for k, v in train_dataset.class_to_idx.items()}\n",
        "df_treino = pd.DataFrame.from_dict([get_class_distribution(train_dataset)]).melt()\n",
        "\n",
        "idx2class = {v: k for k, v in test_dataset.class_to_idx.items()}\n",
        "df_teste = pd.DataFrame.from_dict([get_class_distribution(test_dataset)]).melt()\n",
        "\n",
        "fig = make_subplots(rows=1, cols=2, specs=[[{'type':'domain'}, {'type':'domain'}]])\n",
        "\n",
        "fig.add_trace(go.Pie(\n",
        "    labels=df_treino['variable'],\n",
        "     values=df_treino['value'],\n",
        "      pull=[0, 0, 0.1, 0]),\n",
        "       1, 1)\n",
        "\n",
        "fig.add_trace(go.Pie(\n",
        "    labels=df_teste['variable'],\n",
        "     values=df_teste['value'],\n",
        "      pull=[0, 0, 0.1, 0]),\n",
        "       1, 2)\n",
        "\n",
        "fig.update_traces(hole=.4,\n",
        "    hoverinfo='label+percent',\n",
        "                  textinfo='value',\n",
        "                  textfont_size=12.5,\n",
        "                  marker=dict(\n",
        "                      line=dict(\n",
        "                          color='#000000',\n",
        "                           width=1)\n",
        "                      )\n",
        "                  )\n",
        "\n",
        "fig.update_layout(\n",
        "    title_text = 'Proporção da base de dados de treino e teste',\n",
        "    annotations=[dict(text='Treino', x=0.181, y=0.5, font_size=20, showarrow=False),\n",
        "                 dict(text='Teste', x=0.80, y=0.5, font_size=20, showarrow=False)]\n",
        ")\n",
        "\n",
        "fig.show()"
      ],
      "metadata": {
        "colab": {
          "base_uri": "https://localhost:8080/",
          "height": 542
        },
        "id": "VEQU-lmgwzqj",
        "outputId": "8204f5cb-1263-46e2-e00e-252bb815b7f3"
      },
      "execution_count": 40,
      "outputs": [
        {
          "output_type": "display_data",
          "data": {
            "text/html": [
              "<html>\n",
              "<head><meta charset=\"utf-8\" /></head>\n",
              "<body>\n",
              "    <div>\n",
              "            <script src=\"https://cdnjs.cloudflare.com/ajax/libs/mathjax/2.7.5/MathJax.js?config=TeX-AMS-MML_SVG\"></script><script type=\"text/javascript\">if (window.MathJax) {MathJax.Hub.Config({SVG: {font: \"STIX-Web\"}});}</script>\n",
              "                <script type=\"text/javascript\">window.PlotlyConfig = {MathJaxConfig: 'local'};</script>\n",
              "        <script src=\"https://cdn.plot.ly/plotly-latest.min.js\"></script>    \n",
              "            <div id=\"45c779eb-6404-4bea-94f8-a482988f3e62\" class=\"plotly-graph-div\" style=\"height:525px; width:100%;\"></div>\n",
              "            <script type=\"text/javascript\">\n",
              "                \n",
              "                    window.PLOTLYENV=window.PLOTLYENV || {};\n",
              "                    \n",
              "                if (document.getElementById(\"45c779eb-6404-4bea-94f8-a482988f3e62\")) {\n",
              "                    Plotly.newPlot(\n",
              "                        '45c779eb-6404-4bea-94f8-a482988f3e62',\n",
              "                        [{\"domain\": {\"x\": [0.0, 0.45], \"y\": [0.0, 1.0]}, \"hole\": 0.4, \"hoverinfo\": \"label+percent\", \"labels\": [\"glioma_tumor\", \"meningioma_tumor\", \"no_tumor\", \"pituitary_tumor\"], \"marker\": {\"line\": {\"color\": \"#000000\", \"width\": 1}}, \"pull\": [0, 0, 0.1, 0], \"textfont\": {\"size\": 12.5}, \"textinfo\": \"value\", \"type\": \"pie\", \"values\": [400, 400, 400, 400]}, {\"domain\": {\"x\": [0.55, 1.0], \"y\": [0.0, 1.0]}, \"hole\": 0.4, \"hoverinfo\": \"label+percent\", \"labels\": [\"glioma_tumor\", \"meningioma_tumor\", \"no_tumor\", \"pituitary_tumor\"], \"marker\": {\"line\": {\"color\": \"#000000\", \"width\": 1}}, \"pull\": [0, 0, 0.1, 0], \"textfont\": {\"size\": 12.5}, \"textinfo\": \"value\", \"type\": \"pie\", \"values\": [185, 187, 100, 180]}],\n",
              "                        {\"annotations\": [{\"font\": {\"size\": 20}, \"showarrow\": false, \"text\": \"Treino\", \"x\": 0.181, \"y\": 0.5}, {\"font\": {\"size\": 20}, \"showarrow\": false, \"text\": \"Teste\", \"x\": 0.8, \"y\": 0.5}], \"template\": {\"data\": {\"bar\": [{\"error_x\": {\"color\": \"#2a3f5f\"}, \"error_y\": {\"color\": \"#2a3f5f\"}, \"marker\": {\"line\": {\"color\": \"#E5ECF6\", \"width\": 0.5}}, \"type\": \"bar\"}], \"barpolar\": [{\"marker\": {\"line\": {\"color\": \"#E5ECF6\", \"width\": 0.5}}, \"type\": \"barpolar\"}], \"carpet\": [{\"aaxis\": {\"endlinecolor\": \"#2a3f5f\", \"gridcolor\": \"white\", \"linecolor\": \"white\", \"minorgridcolor\": \"white\", \"startlinecolor\": \"#2a3f5f\"}, \"baxis\": {\"endlinecolor\": \"#2a3f5f\", \"gridcolor\": \"white\", \"linecolor\": \"white\", \"minorgridcolor\": \"white\", \"startlinecolor\": \"#2a3f5f\"}, \"type\": \"carpet\"}], \"choropleth\": [{\"colorbar\": {\"outlinewidth\": 0, \"ticks\": \"\"}, \"type\": \"choropleth\"}], \"contour\": [{\"colorbar\": {\"outlinewidth\": 0, \"ticks\": \"\"}, \"colorscale\": [[0.0, \"#0d0887\"], [0.1111111111111111, \"#46039f\"], [0.2222222222222222, \"#7201a8\"], [0.3333333333333333, \"#9c179e\"], [0.4444444444444444, \"#bd3786\"], [0.5555555555555556, \"#d8576b\"], [0.6666666666666666, \"#ed7953\"], [0.7777777777777778, \"#fb9f3a\"], [0.8888888888888888, \"#fdca26\"], [1.0, \"#f0f921\"]], \"type\": \"contour\"}], \"contourcarpet\": [{\"colorbar\": {\"outlinewidth\": 0, \"ticks\": \"\"}, \"type\": \"contourcarpet\"}], \"heatmap\": [{\"colorbar\": {\"outlinewidth\": 0, \"ticks\": \"\"}, \"colorscale\": [[0.0, \"#0d0887\"], [0.1111111111111111, \"#46039f\"], [0.2222222222222222, \"#7201a8\"], [0.3333333333333333, \"#9c179e\"], [0.4444444444444444, \"#bd3786\"], [0.5555555555555556, \"#d8576b\"], [0.6666666666666666, \"#ed7953\"], [0.7777777777777778, \"#fb9f3a\"], [0.8888888888888888, \"#fdca26\"], [1.0, \"#f0f921\"]], \"type\": \"heatmap\"}], \"heatmapgl\": [{\"colorbar\": {\"outlinewidth\": 0, \"ticks\": \"\"}, \"colorscale\": [[0.0, \"#0d0887\"], [0.1111111111111111, \"#46039f\"], [0.2222222222222222, \"#7201a8\"], [0.3333333333333333, \"#9c179e\"], [0.4444444444444444, \"#bd3786\"], [0.5555555555555556, \"#d8576b\"], [0.6666666666666666, \"#ed7953\"], [0.7777777777777778, \"#fb9f3a\"], [0.8888888888888888, \"#fdca26\"], [1.0, \"#f0f921\"]], \"type\": \"heatmapgl\"}], \"histogram\": [{\"marker\": {\"colorbar\": {\"outlinewidth\": 0, \"ticks\": \"\"}}, \"type\": \"histogram\"}], \"histogram2d\": [{\"colorbar\": {\"outlinewidth\": 0, \"ticks\": \"\"}, \"colorscale\": [[0.0, \"#0d0887\"], [0.1111111111111111, \"#46039f\"], [0.2222222222222222, \"#7201a8\"], [0.3333333333333333, \"#9c179e\"], [0.4444444444444444, \"#bd3786\"], [0.5555555555555556, \"#d8576b\"], [0.6666666666666666, \"#ed7953\"], [0.7777777777777778, \"#fb9f3a\"], [0.8888888888888888, \"#fdca26\"], [1.0, \"#f0f921\"]], \"type\": \"histogram2d\"}], \"histogram2dcontour\": [{\"colorbar\": {\"outlinewidth\": 0, \"ticks\": \"\"}, \"colorscale\": [[0.0, \"#0d0887\"], [0.1111111111111111, \"#46039f\"], [0.2222222222222222, \"#7201a8\"], [0.3333333333333333, \"#9c179e\"], [0.4444444444444444, \"#bd3786\"], [0.5555555555555556, \"#d8576b\"], [0.6666666666666666, \"#ed7953\"], [0.7777777777777778, \"#fb9f3a\"], [0.8888888888888888, \"#fdca26\"], [1.0, \"#f0f921\"]], \"type\": \"histogram2dcontour\"}], \"mesh3d\": [{\"colorbar\": {\"outlinewidth\": 0, \"ticks\": \"\"}, \"type\": \"mesh3d\"}], \"parcoords\": [{\"line\": {\"colorbar\": {\"outlinewidth\": 0, \"ticks\": \"\"}}, \"type\": \"parcoords\"}], \"pie\": [{\"automargin\": true, \"type\": \"pie\"}], \"scatter\": [{\"marker\": {\"colorbar\": {\"outlinewidth\": 0, \"ticks\": \"\"}}, \"type\": \"scatter\"}], \"scatter3d\": [{\"line\": {\"colorbar\": {\"outlinewidth\": 0, \"ticks\": \"\"}}, \"marker\": {\"colorbar\": {\"outlinewidth\": 0, \"ticks\": \"\"}}, \"type\": \"scatter3d\"}], \"scattercarpet\": [{\"marker\": {\"colorbar\": {\"outlinewidth\": 0, \"ticks\": \"\"}}, \"type\": \"scattercarpet\"}], \"scattergeo\": [{\"marker\": {\"colorbar\": {\"outlinewidth\": 0, \"ticks\": \"\"}}, \"type\": \"scattergeo\"}], \"scattergl\": [{\"marker\": {\"colorbar\": {\"outlinewidth\": 0, \"ticks\": \"\"}}, \"type\": \"scattergl\"}], \"scattermapbox\": [{\"marker\": {\"colorbar\": {\"outlinewidth\": 0, \"ticks\": \"\"}}, \"type\": \"scattermapbox\"}], \"scatterpolar\": [{\"marker\": {\"colorbar\": {\"outlinewidth\": 0, \"ticks\": \"\"}}, \"type\": \"scatterpolar\"}], \"scatterpolargl\": [{\"marker\": {\"colorbar\": {\"outlinewidth\": 0, \"ticks\": \"\"}}, \"type\": \"scatterpolargl\"}], \"scatterternary\": [{\"marker\": {\"colorbar\": {\"outlinewidth\": 0, \"ticks\": \"\"}}, \"type\": \"scatterternary\"}], \"surface\": [{\"colorbar\": {\"outlinewidth\": 0, \"ticks\": \"\"}, \"colorscale\": [[0.0, \"#0d0887\"], [0.1111111111111111, \"#46039f\"], [0.2222222222222222, \"#7201a8\"], [0.3333333333333333, \"#9c179e\"], [0.4444444444444444, \"#bd3786\"], [0.5555555555555556, \"#d8576b\"], [0.6666666666666666, \"#ed7953\"], [0.7777777777777778, \"#fb9f3a\"], [0.8888888888888888, \"#fdca26\"], [1.0, \"#f0f921\"]], \"type\": \"surface\"}], \"table\": [{\"cells\": {\"fill\": {\"color\": \"#EBF0F8\"}, \"line\": {\"color\": \"white\"}}, \"header\": {\"fill\": {\"color\": \"#C8D4E3\"}, \"line\": {\"color\": \"white\"}}, \"type\": \"table\"}]}, \"layout\": {\"annotationdefaults\": {\"arrowcolor\": \"#2a3f5f\", \"arrowhead\": 0, \"arrowwidth\": 1}, \"coloraxis\": {\"colorbar\": {\"outlinewidth\": 0, \"ticks\": \"\"}}, \"colorscale\": {\"diverging\": [[0, \"#8e0152\"], [0.1, \"#c51b7d\"], [0.2, \"#de77ae\"], [0.3, \"#f1b6da\"], [0.4, \"#fde0ef\"], [0.5, \"#f7f7f7\"], [0.6, \"#e6f5d0\"], [0.7, \"#b8e186\"], [0.8, \"#7fbc41\"], [0.9, \"#4d9221\"], [1, \"#276419\"]], \"sequential\": [[0.0, \"#0d0887\"], [0.1111111111111111, \"#46039f\"], [0.2222222222222222, \"#7201a8\"], [0.3333333333333333, \"#9c179e\"], [0.4444444444444444, \"#bd3786\"], [0.5555555555555556, \"#d8576b\"], [0.6666666666666666, \"#ed7953\"], [0.7777777777777778, \"#fb9f3a\"], [0.8888888888888888, \"#fdca26\"], [1.0, \"#f0f921\"]], \"sequentialminus\": [[0.0, \"#0d0887\"], [0.1111111111111111, \"#46039f\"], [0.2222222222222222, \"#7201a8\"], [0.3333333333333333, \"#9c179e\"], [0.4444444444444444, \"#bd3786\"], [0.5555555555555556, \"#d8576b\"], [0.6666666666666666, \"#ed7953\"], [0.7777777777777778, \"#fb9f3a\"], [0.8888888888888888, \"#fdca26\"], [1.0, \"#f0f921\"]]}, \"colorway\": [\"#636efa\", \"#EF553B\", \"#00cc96\", \"#ab63fa\", \"#FFA15A\", \"#19d3f3\", \"#FF6692\", \"#B6E880\", \"#FF97FF\", \"#FECB52\"], \"font\": {\"color\": \"#2a3f5f\"}, \"geo\": {\"bgcolor\": \"white\", \"lakecolor\": \"white\", \"landcolor\": \"#E5ECF6\", \"showlakes\": true, \"showland\": true, \"subunitcolor\": \"white\"}, \"hoverlabel\": {\"align\": \"left\"}, \"hovermode\": \"closest\", \"mapbox\": {\"style\": \"light\"}, \"paper_bgcolor\": \"white\", \"plot_bgcolor\": \"#E5ECF6\", \"polar\": {\"angularaxis\": {\"gridcolor\": \"white\", \"linecolor\": \"white\", \"ticks\": \"\"}, \"bgcolor\": \"#E5ECF6\", \"radialaxis\": {\"gridcolor\": \"white\", \"linecolor\": \"white\", \"ticks\": \"\"}}, \"scene\": {\"xaxis\": {\"backgroundcolor\": \"#E5ECF6\", \"gridcolor\": \"white\", \"gridwidth\": 2, \"linecolor\": \"white\", \"showbackground\": true, \"ticks\": \"\", \"zerolinecolor\": \"white\"}, \"yaxis\": {\"backgroundcolor\": \"#E5ECF6\", \"gridcolor\": \"white\", \"gridwidth\": 2, \"linecolor\": \"white\", \"showbackground\": true, \"ticks\": \"\", \"zerolinecolor\": \"white\"}, \"zaxis\": {\"backgroundcolor\": \"#E5ECF6\", \"gridcolor\": \"white\", \"gridwidth\": 2, \"linecolor\": \"white\", \"showbackground\": true, \"ticks\": \"\", \"zerolinecolor\": \"white\"}}, \"shapedefaults\": {\"line\": {\"color\": \"#2a3f5f\"}}, \"ternary\": {\"aaxis\": {\"gridcolor\": \"white\", \"linecolor\": \"white\", \"ticks\": \"\"}, \"baxis\": {\"gridcolor\": \"white\", \"linecolor\": \"white\", \"ticks\": \"\"}, \"bgcolor\": \"#E5ECF6\", \"caxis\": {\"gridcolor\": \"white\", \"linecolor\": \"white\", \"ticks\": \"\"}}, \"title\": {\"x\": 0.05}, \"xaxis\": {\"automargin\": true, \"gridcolor\": \"white\", \"linecolor\": \"white\", \"ticks\": \"\", \"title\": {\"standoff\": 15}, \"zerolinecolor\": \"white\", \"zerolinewidth\": 2}, \"yaxis\": {\"automargin\": true, \"gridcolor\": \"white\", \"linecolor\": \"white\", \"ticks\": \"\", \"title\": {\"standoff\": 15}, \"zerolinecolor\": \"white\", \"zerolinewidth\": 2}}}, \"title\": {\"text\": \"Propor\\u00e7\\u00e3o da base de dados de treino e teste\"}},\n",
              "                        {\"responsive\": true}\n",
              "                    ).then(function(){\n",
              "                            \n",
              "var gd = document.getElementById('45c779eb-6404-4bea-94f8-a482988f3e62');\n",
              "var x = new MutationObserver(function (mutations, observer) {{\n",
              "        var display = window.getComputedStyle(gd).display;\n",
              "        if (!display || display === 'none') {{\n",
              "            console.log([gd, 'removed!']);\n",
              "            Plotly.purge(gd);\n",
              "            observer.disconnect();\n",
              "        }}\n",
              "}});\n",
              "\n",
              "// Listen for the removal of the full notebook cells\n",
              "var notebookContainer = gd.closest('#notebook-container');\n",
              "if (notebookContainer) {{\n",
              "    x.observe(notebookContainer, {childList: true});\n",
              "}}\n",
              "\n",
              "// Listen for the clearing of the current output cell\n",
              "var outputEl = gd.closest('.output');\n",
              "if (outputEl) {{\n",
              "    x.observe(outputEl, {childList: true});\n",
              "}}\n",
              "\n",
              "                        })\n",
              "                };\n",
              "                \n",
              "            </script>\n",
              "        </div>\n",
              "</body>\n",
              "</html>"
            ]
          },
          "metadata": {}
        }
      ]
    },
    {
      "cell_type": "code",
      "metadata": {
        "id": "RZ-TiO9Bh2mz"
      },
      "source": [
        "net = classificador()\n",
        "criterion = nn.CrossEntropyLoss()\n",
        "optimizer = optim.SGD(net.parameters(), lr=0.01)"
      ],
      "execution_count": 41,
      "outputs": []
    },
    {
      "cell_type": "code",
      "metadata": {
        "colab": {
          "base_uri": "https://localhost:8080/"
        },
        "id": "durV3rM4312g",
        "outputId": "40a14df4-5d2a-4c64-a5a1-4aa9a4d953df"
      },
      "source": [
        "#Setamos a GPU necessária para realizar nossa classificação\n",
        "device = torch.device(\"cuda\") if torch.cuda.is_available else torch.device(\"cpu\")\n",
        "print(device)\n",
        "\n",
        "net.to(device)"
      ],
      "execution_count": 42,
      "outputs": [
        {
          "output_type": "stream",
          "name": "stdout",
          "text": [
            "cuda\n"
          ]
        },
        {
          "output_type": "execute_result",
          "data": {
            "text/plain": [
              "classificador(\n",
              "  (conv1): Conv2d(3, 64, kernel_size=(10, 10), stride=(1, 1))\n",
              "  (conv2): Conv2d(64, 64, kernel_size=(3, 3), stride=(1, 1), padding=(2, 2))\n",
              "  (conv3): Conv2d(64, 64, kernel_size=(2, 2), stride=(1, 1), padding=(2, 2))\n",
              "  (activation): ReLU()\n",
              "  (bnorm): BatchNorm2d(64, eps=1e-05, momentum=0.1, affine=True, track_running_stats=True)\n",
              "  (pool): MaxPool2d(kernel_size=(2, 2), stride=(2, 2), padding=0, dilation=1, ceil_mode=False)\n",
              "  (flatten): Flatten(start_dim=1, end_dim=-1)\n",
              "  (linear1): Linear(in_features=16384, out_features=256, bias=True)\n",
              "  (linear2): Linear(in_features=256, out_features=128, bias=True)\n",
              "  (output): Linear(in_features=128, out_features=4, bias=True)\n",
              "  (dropout1): Dropout(p=0.1, inplace=False)\n",
              "  (dropout2): Dropout(p=0.2, inplace=False)\n",
              ")"
            ]
          },
          "metadata": {},
          "execution_count": 42
        }
      ]
    },
    {
      "cell_type": "code",
      "metadata": {
        "id": "_bI3AYHY371r"
      },
      "source": [
        "loss_values = []\n",
        "accu_values = []\n",
        "def training_loop(loader, epoch):\n",
        "    running_loss = 0.\n",
        "    running_accuracy = 0.\n",
        "    for i, data in enumerate(loader):\n",
        "        \n",
        "        inputs, labels = data\n",
        "        \n",
        "        inputs, labels = inputs.to(device), labels.to(device)\n",
        "        \n",
        "        optimizer.zero_grad()\n",
        "        outputs = net(inputs)\n",
        "        \n",
        "        loss = criterion(outputs, labels)\n",
        "        loss.backward()\n",
        "        \n",
        "        optimizer.step()\n",
        "        \n",
        "        running_loss += loss.item()\n",
        "        #loss_values.append(running_loss / len(train_dataset))\n",
        "        \n",
        "        ps = F.softmax(outputs, dim=1)\n",
        "        top_p, top_class = ps.topk(k=1, dim=1)\n",
        "        equals = top_class == labels.view(*top_class.shape)\n",
        "        \n",
        "        accuracy= torch.mean(equals.type(torch.float))\n",
        "        \n",
        "        running_accuracy += accuracy\n",
        "        \n",
        "        #Imprimir os dados referentes a este loop\n",
        "        print(\"Época {:3d} - Loop {:3d} de {:3d}: perda {:03.2f} - precisão {:03.2f}\".format(epoch + 1, i+1, len(loader)\\\n",
        "                                                                                             , loss, accuracy), end= '\\r')\n",
        "    #Impressão referente à épocas\n",
        "    print(\"Época {:3d} Finalizada: perda {:.5f} - precisão {:.5f}\".format(epoch+1, running_loss/len(loader)\\\n",
        "                                                                         ,running_accuracy/len(loader)))\n",
        "    loss_values.append(running_loss / len(loader))\n",
        "    accu_values.append(running_accuracy/len(loader))"
      ],
      "execution_count": 43,
      "outputs": []
    },
    {
      "cell_type": "code",
      "metadata": {
        "id": "NOIzLlztCUXS"
      },
      "source": [
        "loss_train = [item for item in loss_values]\n",
        "accu_train = [item for item in accu_values]"
      ],
      "execution_count": 44,
      "outputs": []
    },
    {
      "cell_type": "code",
      "metadata": {
        "colab": {
          "base_uri": "https://localhost:8080/"
        },
        "id": "9V4gBYXK4bd2",
        "outputId": "23846e0e-9496-4d36-a6f5-8813d538c118"
      },
      "source": [
        "for epoch in range(100):\n",
        "    print(\"Treinando...\")\n",
        "    training_loop(train_loader, epoch)\n",
        "    net.eval()\n",
        "    net.train()"
      ],
      "execution_count": 45,
      "outputs": [
        {
          "output_type": "stream",
          "name": "stdout",
          "text": [
            "Treinando...\n",
            "Época   1 Finalizada: perda 1.17554 - precisão 0.46206\n",
            "Treinando...\n",
            "Época   2 Finalizada: perda 0.92788 - precisão 0.59826\n",
            "Treinando...\n",
            "Época   3 Finalizada: perda 0.82863 - precisão 0.66604\n",
            "Treinando...\n",
            "Época   4 Finalizada: perda 0.76956 - precisão 0.68532\n",
            "Treinando...\n",
            "Época   5 Finalizada: perda 0.75352 - precisão 0.68843\n",
            "Treinando...\n",
            "Época   6 Finalizada: perda 0.68313 - precisão 0.71082\n",
            "Treinando...\n",
            "Época   7 Finalizada: perda 0.67501 - precisão 0.71766\n",
            "Treinando...\n",
            "Época   8 Finalizada: perda 0.62681 - precisão 0.74689\n",
            "Treinando...\n",
            "Época   9 Finalizada: perda 0.61784 - precisão 0.74005\n",
            "Treinando...\n",
            "Época  10 Finalizada: perda 0.58187 - precisão 0.75311\n",
            "Treinando...\n",
            "Época  11 Finalizada: perda 0.54972 - precisão 0.76555\n",
            "Treinando...\n",
            "Época  12 Finalizada: perda 0.55727 - precisão 0.76555\n",
            "Treinando...\n",
            "Época  13 Finalizada: perda 0.50059 - precisão 0.79789\n",
            "Treinando...\n",
            "Época  14 Finalizada: perda 0.50792 - precisão 0.78669\n",
            "Treinando...\n",
            "Época  15 Finalizada: perda 0.47703 - precisão 0.80846\n",
            "Treinando...\n",
            "Época  16 Finalizada: perda 0.46521 - precisão 0.81032\n",
            "Treinando...\n",
            "Época  17 Finalizada: perda 0.44740 - precisão 0.81157\n",
            "Treinando...\n",
            "Época  18 Finalizada: perda 0.41993 - precisão 0.83147\n",
            "Treinando...\n",
            "Época  19 Finalizada: perda 0.41674 - precisão 0.83085\n",
            "Treinando...\n",
            "Época  20 Finalizada: perda 0.40135 - precisão 0.83458\n",
            "Treinando...\n",
            "Época  21 Finalizada: perda 0.37236 - precisão 0.85075\n",
            "Treinando...\n",
            "Época  22 Finalizada: perda 0.35949 - precisão 0.85386\n",
            "Treinando...\n",
            "Época  23 Finalizada: perda 0.35786 - precisão 0.85137\n",
            "Treinando...\n",
            "Época  24 Finalizada: perda 0.31874 - precisão 0.87749\n",
            "Treinando...\n",
            "Época  25 Finalizada: perda 0.32799 - precisão 0.85945\n",
            "Treinando...\n",
            "Época  26 Finalizada: perda 0.31003 - precisão 0.87500\n",
            "Treinando...\n",
            "Época  27 Finalizada: perda 0.28652 - precisão 0.88930\n",
            "Treinando...\n",
            "Época  28 Finalizada: perda 0.25883 - precisão 0.90672\n",
            "Treinando...\n",
            "Época  29 Finalizada: perda 0.28013 - precisão 0.88619\n",
            "Treinando...\n",
            "Época  30 Finalizada: perda 0.25753 - precisão 0.90672\n",
            "Treinando...\n",
            "Época  31 Finalizada: perda 0.27567 - precisão 0.89490\n",
            "Treinando...\n",
            "Época  32 Finalizada: perda 0.24122 - precisão 0.90672\n",
            "Treinando...\n",
            "Época  33 Finalizada: perda 0.24221 - precisão 0.91231\n",
            "Treinando...\n",
            "Época  34 Finalizada: perda 0.23557 - precisão 0.90858\n",
            "Treinando...\n",
            "Época  35 Finalizada: perda 0.23500 - precisão 0.90547\n",
            "Treinando...\n",
            "Época  36 Finalizada: perda 0.23283 - precisão 0.91169\n",
            "Treinando...\n",
            "Época  37 Finalizada: perda 0.21101 - precisão 0.91542\n",
            "Treinando...\n",
            "Época  38 Finalizada: perda 0.21635 - precisão 0.91791\n",
            "Treinando...\n",
            "Época  39 Finalizada: perda 0.21094 - precisão 0.91853\n",
            "Treinando...\n",
            "Época  40 Finalizada: perda 0.18423 - precisão 0.93719\n",
            "Treinando...\n",
            "Época  41 Finalizada: perda 0.18353 - precisão 0.92786\n",
            "Treinando...\n",
            "Época  42 Finalizada: perda 0.17264 - precisão 0.93595\n",
            "Treinando...\n",
            "Época  43 Finalizada: perda 0.22443 - precisão 0.91418\n",
            "Treinando...\n",
            "Época  44 Finalizada: perda 0.16183 - precisão 0.94154\n",
            "Treinando...\n",
            "Época  45 Finalizada: perda 0.15900 - precisão 0.94527\n",
            "Treinando...\n",
            "Época  46 Finalizada: perda 0.16579 - precisão 0.93657\n",
            "Treinando...\n",
            "Época  47 Finalizada: perda 0.17085 - precisão 0.93843\n",
            "Treinando...\n",
            "Época  48 Finalizada: perda 0.14964 - precisão 0.94527\n",
            "Treinando...\n",
            "Época  49 Finalizada: perda 0.14979 - precisão 0.94154\n",
            "Treinando...\n",
            "Época  50 Finalizada: perda 0.11740 - precisão 0.95958\n",
            "Treinando...\n",
            "Época  51 Finalizada: perda 0.12439 - precisão 0.95025\n",
            "Treinando...\n",
            "Época  52 Finalizada: perda 0.11527 - precisão 0.95895\n",
            "Treinando...\n",
            "Época  53 Finalizada: perda 0.12256 - precisão 0.95585\n",
            "Treinando...\n",
            "Época  54 Finalizada: perda 0.13745 - precisão 0.94900\n",
            "Treinando...\n",
            "Época  55 Finalizada: perda 0.10697 - precisão 0.96269\n",
            "Treinando...\n",
            "Época  56 Finalizada: perda 0.11565 - precisão 0.96020\n",
            "Treinando...\n",
            "Época  57 Finalizada: perda 0.11353 - precisão 0.96144\n",
            "Treinando...\n",
            "Época  58 Finalizada: perda 0.07838 - precisão 0.96953\n",
            "Treinando...\n",
            "Época  59 Finalizada: perda 0.11113 - precisão 0.96020\n",
            "Treinando...\n",
            "Época  60 Finalizada: perda 0.11124 - precisão 0.95647\n",
            "Treinando...\n",
            "Época  61 Finalizada: perda 0.08926 - precisão 0.96517\n",
            "Treinando...\n",
            "Época  62 Finalizada: perda 0.07514 - precisão 0.96891\n",
            "Treinando...\n",
            "Época  63 Finalizada: perda 0.09497 - precisão 0.96393\n",
            "Treinando...\n",
            "Época  64 Finalizada: perda 0.07764 - precisão 0.97139\n",
            "Treinando...\n",
            "Época  65 Finalizada: perda 0.09506 - precisão 0.96517\n",
            "Treinando...\n",
            "Época  66 Finalizada: perda 0.08638 - precisão 0.97450\n",
            "Treinando...\n",
            "Época  67 Finalizada: perda 0.07262 - precisão 0.97699\n",
            "Treinando...\n",
            "Época  68 Finalizada: perda 0.07848 - precisão 0.96953\n",
            "Treinando...\n",
            "Época  69 Finalizada: perda 0.10118 - precisão 0.96393\n",
            "Treinando...\n",
            "Época  70 Finalizada: perda 0.06593 - precisão 0.97575\n",
            "Treinando...\n",
            "Época  71 Finalizada: perda 0.06215 - precisão 0.97886\n",
            "Treinando...\n",
            "Época  72 Finalizada: perda 0.08625 - precisão 0.96766\n",
            "Treinando...\n",
            "Época  73 Finalizada: perda 0.06568 - precisão 0.97388\n",
            "Treinando...\n",
            "Época  74 Finalizada: perda 0.06569 - precisão 0.97388\n",
            "Treinando...\n",
            "Época  75 Finalizada: perda 0.05980 - precisão 0.97388\n",
            "Treinando...\n",
            "Época  76 Finalizada: perda 0.06143 - precisão 0.97637\n",
            "Treinando...\n",
            "Época  77 Finalizada: perda 0.06395 - precisão 0.97512\n",
            "Treinando...\n",
            "Época  78 Finalizada: perda 0.04778 - precisão 0.98072\n",
            "Treinando...\n",
            "Época  79 Finalizada: perda 0.06741 - precisão 0.97699\n",
            "Treinando...\n",
            "Época  80 Finalizada: perda 0.06621 - precisão 0.97450\n",
            "Treinando...\n",
            "Época  81 Finalizada: perda 0.08675 - precisão 0.96704\n",
            "Treinando...\n",
            "Época  82 Finalizada: perda 0.05010 - precisão 0.98445\n",
            "Treinando...\n",
            "Época  83 Finalizada: perda 0.08045 - precisão 0.97388\n",
            "Treinando...\n",
            "Época  84 Finalizada: perda 0.05846 - precisão 0.97823\n",
            "Treinando...\n",
            "Época  85 Finalizada: perda 0.06234 - precisão 0.98072\n",
            "Treinando...\n",
            "Época  86 Finalizada: perda 0.06154 - precisão 0.97886\n",
            "Treinando...\n",
            "Época  87 Finalizada: perda 0.07068 - precisão 0.97388\n",
            "Treinando...\n",
            "Época  88 Finalizada: perda 0.06099 - precisão 0.97512\n",
            "Treinando...\n",
            "Época  89 Finalizada: perda 0.03596 - precisão 0.98694\n",
            "Treinando...\n",
            "Época  90 Finalizada: perda 0.06032 - precisão 0.97823\n",
            "Treinando...\n",
            "Época  91 Finalizada: perda 0.06276 - precisão 0.97388\n",
            "Treinando...\n",
            "Época  92 Finalizada: perda 0.04528 - precisão 0.98445\n",
            "Treinando...\n",
            "Época  93 Finalizada: perda 0.04714 - precisão 0.98321\n",
            "Treinando...\n",
            "Época  94 Finalizada: perda 0.04447 - precisão 0.98259\n",
            "Treinando...\n",
            "Época  95 Finalizada: perda 0.03476 - precisão 0.98632\n",
            "Treinando...\n",
            "Época  96 Finalizada: perda 0.05975 - precisão 0.98383\n",
            "Treinando...\n",
            "Época  97 Finalizada: perda 0.02931 - precisão 0.98943\n",
            "Treinando...\n",
            "Época  98 Finalizada: perda 0.02670 - precisão 0.99067\n",
            "Treinando...\n",
            "Época  99 Finalizada: perda 0.04337 - precisão 0.98259\n",
            "Treinando...\n",
            "Época 100 Finalizada: perda 0.03298 - precisão 0.98507\n"
          ]
        }
      ]
    },
    {
      "cell_type": "code",
      "metadata": {
        "id": "FoC7sC-I7-M8",
        "colab": {
          "base_uri": "https://localhost:8080/"
        },
        "outputId": "dd40a028-7ca8-408c-bf41-7f48be43901d"
      },
      "source": [
        "loss_train = [item for item in loss_values]\n",
        "accu_train = [item for item in accu_values]\n",
        "print(len(loss_train), len(accu_train))"
      ],
      "execution_count": 46,
      "outputs": [
        {
          "output_type": "stream",
          "name": "stdout",
          "text": [
            "100 100\n"
          ]
        }
      ]
    },
    {
      "cell_type": "code",
      "metadata": {
        "colab": {
          "base_uri": "https://localhost:8080/"
        },
        "id": "tZ_S8ryZpLsg",
        "outputId": "5d14d614-0a0f-4511-ecf3-af01fe94c4c6"
      },
      "source": [
        "accu_values.clear()\n",
        "loss_values.clear()\n",
        "for epoch in range(100):\n",
        "    net.eval()\n",
        "    print(\"Validando...\")\n",
        "    training_loop(test_loader, epoch)\n",
        "    net.train()"
      ],
      "execution_count": 47,
      "outputs": [
        {
          "output_type": "stream",
          "name": "stdout",
          "text": [
            "Validando...\n",
            "Época   1 Finalizada: perda 2.01776 - precisão 0.57576\n",
            "Validando...\n",
            "Época   2 Finalizada: perda 0.59826 - precisão 0.77576\n",
            "Validando...\n",
            "Época   3 Finalizada: perda 0.36664 - precisão 0.84242\n",
            "Validando...\n",
            "Época   4 Finalizada: perda 0.69404 - precisão 0.74091\n",
            "Validando...\n",
            "Época   5 Finalizada: perda 0.23424 - precisão 0.92121\n",
            "Validando...\n",
            "Época   6 Finalizada: perda 0.10341 - precisão 0.97576\n",
            "Validando...\n",
            "Época   7 Finalizada: perda 0.05151 - precisão 0.98788\n",
            "Validando...\n",
            "Época   8 Finalizada: perda 0.02708 - precisão 0.99545\n",
            "Validando...\n",
            "Época   9 Finalizada: perda 0.02057 - precisão 0.99394\n",
            "Validando...\n",
            "Época  10 Finalizada: perda 0.03408 - precisão 0.99091\n",
            "Validando...\n",
            "Época  11 Finalizada: perda 0.01500 - precisão 0.99545\n",
            "Validando...\n",
            "Época  12 Finalizada: perda 0.01517 - precisão 0.99545\n",
            "Validando...\n",
            "Época  13 Finalizada: perda 0.01661 - precisão 0.99394\n",
            "Validando...\n",
            "Época  14 Finalizada: perda 0.01511 - precisão 0.99394\n",
            "Validando...\n",
            "Época  15 Finalizada: perda 0.01521 - precisão 0.99394\n",
            "Validando...\n",
            "Época  16 Finalizada: perda 0.01184 - precisão 0.99545\n",
            "Validando...\n",
            "Época  17 Finalizada: perda 0.01271 - precisão 0.99545\n",
            "Validando...\n",
            "Época  18 Finalizada: perda 0.01130 - precisão 0.99545\n",
            "Validando...\n",
            "Época  19 Finalizada: perda 0.01190 - precisão 0.99545\n",
            "Validando...\n",
            "Época  20 Finalizada: perda 0.01067 - precisão 0.99545\n",
            "Validando...\n",
            "Época  21 Finalizada: perda 0.01124 - precisão 0.99545\n",
            "Validando...\n",
            "Época  22 Finalizada: perda 0.01320 - precisão 0.99394\n",
            "Validando...\n",
            "Época  23 Finalizada: perda 0.00977 - precisão 0.99697\n",
            "Validando...\n",
            "Época  24 Finalizada: perda 0.01094 - precisão 0.99242\n",
            "Validando...\n",
            "Época  25 Finalizada: perda 0.01041 - precisão 0.99545\n",
            "Validando...\n",
            "Época  26 Finalizada: perda 0.01012 - precisão 0.99545\n",
            "Validando...\n",
            "Época  27 Finalizada: perda 0.01044 - precisão 0.99394\n",
            "Validando...\n",
            "Época  28 Finalizada: perda 0.01126 - precisão 0.99394\n",
            "Validando...\n",
            "Época  29 Finalizada: perda 0.01068 - precisão 0.99394\n",
            "Validando...\n",
            "Época  30 Finalizada: perda 0.00955 - precisão 0.99545\n",
            "Validando...\n",
            "Época  31 Finalizada: perda 0.01007 - precisão 0.99545\n",
            "Validando...\n",
            "Época  32 Finalizada: perda 0.01041 - precisão 0.99394\n",
            "Validando...\n",
            "Época  33 Finalizada: perda 0.01072 - precisão 0.99242\n",
            "Validando...\n",
            "Época  34 Finalizada: perda 0.00944 - precisão 0.99697\n",
            "Validando...\n",
            "Época  35 Finalizada: perda 0.00942 - precisão 0.99394\n",
            "Validando...\n",
            "Época  36 Finalizada: perda 0.00988 - precisão 0.99242\n",
            "Validando...\n",
            "Época  37 Finalizada: perda 0.00810 - precisão 0.99697\n",
            "Validando...\n",
            "Época  38 Finalizada: perda 0.00892 - precisão 0.99394\n",
            "Validando...\n",
            "Época  39 Finalizada: perda 0.00890 - precisão 0.99394\n",
            "Validando...\n",
            "Época  40 Finalizada: perda 0.00863 - precisão 0.99697\n",
            "Validando...\n",
            "Época  41 Finalizada: perda 0.00845 - precisão 0.99394\n",
            "Validando...\n",
            "Época  42 Finalizada: perda 0.00847 - precisão 0.99545\n",
            "Validando...\n",
            "Época  43 Finalizada: perda 0.00824 - precisão 0.99545\n",
            "Validando...\n",
            "Época  44 Finalizada: perda 0.00818 - precisão 0.99394\n",
            "Validando...\n",
            "Época  45 Finalizada: perda 0.00825 - precisão 0.99697\n",
            "Validando...\n",
            "Época  46 Finalizada: perda 0.00818 - precisão 0.99394\n",
            "Validando...\n",
            "Época  47 Finalizada: perda 0.00779 - precisão 0.99697\n",
            "Validando...\n",
            "Época  48 Finalizada: perda 0.00742 - precisão 0.99545\n",
            "Validando...\n",
            "Época  49 Finalizada: perda 0.00819 - precisão 0.99394\n",
            "Validando...\n",
            "Época  50 Finalizada: perda 0.00814 - precisão 0.99697\n",
            "Validando...\n",
            "Época  51 Finalizada: perda 0.00810 - precisão 0.99545\n",
            "Validando...\n",
            "Época  52 Finalizada: perda 0.00807 - precisão 0.99394\n",
            "Validando...\n",
            "Época  53 Finalizada: perda 0.00752 - precisão 0.99697\n",
            "Validando...\n",
            "Época  54 Finalizada: perda 0.00844 - precisão 0.99394\n",
            "Validando...\n",
            "Época  55 Finalizada: perda 0.00729 - precisão 0.99545\n",
            "Validando...\n",
            "Época  56 Finalizada: perda 0.00720 - precisão 0.99697\n",
            "Validando...\n",
            "Época  57 Finalizada: perda 0.00762 - precisão 0.99545\n",
            "Validando...\n",
            "Época  58 Finalizada: perda 0.01095 - precisão 0.99242\n",
            "Validando...\n",
            "Época  59 Finalizada: perda 0.01225 - precisão 0.99545\n",
            "Validando...\n",
            "Época  60 Finalizada: perda 0.00845 - precisão 0.99697\n",
            "Validando...\n",
            "Época  61 Finalizada: perda 0.00752 - precisão 0.99697\n",
            "Validando...\n",
            "Época  62 Finalizada: perda 0.00797 - precisão 0.99545\n",
            "Validando...\n",
            "Época  63 Finalizada: perda 0.00737 - precisão 0.99545\n",
            "Validando...\n",
            "Época  64 Finalizada: perda 0.00781 - precisão 0.99394\n",
            "Validando...\n",
            "Época  65 Finalizada: perda 0.00731 - precisão 0.99545\n",
            "Validando...\n",
            "Época  66 Finalizada: perda 0.00761 - precisão 0.99394\n",
            "Validando...\n",
            "Época  67 Finalizada: perda 0.00752 - precisão 0.99545\n",
            "Validando...\n",
            "Época  68 Finalizada: perda 0.00714 - precisão 0.99697\n",
            "Validando...\n",
            "Época  69 Finalizada: perda 0.00757 - precisão 0.99697\n",
            "Validando...\n",
            "Época  70 Finalizada: perda 0.00724 - precisão 0.99697\n",
            "Validando...\n",
            "Época  71 Finalizada: perda 0.00736 - precisão 0.99697\n",
            "Validando...\n",
            "Época  72 Finalizada: perda 0.00746 - precisão 0.99545\n",
            "Validando...\n",
            "Época  73 Finalizada: perda 0.00739 - precisão 0.99545\n",
            "Validando...\n",
            "Época  74 Finalizada: perda 0.00729 - precisão 0.99697\n",
            "Validando...\n",
            "Época  75 Finalizada: perda 0.00716 - precisão 0.99697\n",
            "Validando...\n",
            "Época  76 Finalizada: perda 0.00735 - precisão 0.99545\n",
            "Validando...\n",
            "Época  77 Finalizada: perda 0.00714 - precisão 0.99697\n",
            "Validando...\n",
            "Época  78 Finalizada: perda 0.00729 - precisão 0.99697\n",
            "Validando...\n",
            "Época  79 Finalizada: perda 0.00702 - precisão 0.99545\n",
            "Validando...\n",
            "Época  80 Finalizada: perda 0.00671 - precisão 0.99545\n",
            "Validando...\n",
            "Época  81 Finalizada: perda 0.00704 - precisão 0.99545\n",
            "Validando...\n",
            "Época  82 Finalizada: perda 0.00715 - precisão 0.99697\n",
            "Validando...\n",
            "Época  83 Finalizada: perda 0.00672 - precisão 0.99697\n",
            "Validando...\n",
            "Época  84 Finalizada: perda 0.00658 - precisão 0.99697\n",
            "Validando...\n",
            "Época  85 Finalizada: perda 0.00704 - precisão 0.99697\n",
            "Validando...\n",
            "Época  86 Finalizada: perda 0.00697 - precisão 0.99697\n",
            "Validando...\n",
            "Época  87 Finalizada: perda 0.00691 - precisão 0.99697\n",
            "Validando...\n",
            "Época  88 Finalizada: perda 0.00652 - precisão 0.99545\n",
            "Validando...\n",
            "Época  89 Finalizada: perda 0.00705 - precisão 0.99545\n",
            "Validando...\n",
            "Época  90 Finalizada: perda 0.00700 - precisão 0.99545\n",
            "Validando...\n",
            "Época  91 Finalizada: perda 0.00703 - precisão 0.99697\n",
            "Validando...\n",
            "Época  92 Finalizada: perda 0.00709 - precisão 0.99545\n",
            "Validando...\n",
            "Época  93 Finalizada: perda 0.00713 - precisão 0.99697\n",
            "Validando...\n",
            "Época  94 Finalizada: perda 0.00691 - precisão 0.99697\n",
            "Validando...\n",
            "Época  95 Finalizada: perda 0.00687 - precisão 0.99697\n",
            "Validando...\n",
            "Época  96 Finalizada: perda 0.00606 - precisão 0.99848\n",
            "Validando...\n",
            "Época  97 Finalizada: perda 0.00657 - precisão 0.99697\n",
            "Validando...\n",
            "Época  98 Finalizada: perda 0.00665 - precisão 0.99697\n",
            "Validando...\n",
            "Época  99 Finalizada: perda 0.00683 - precisão 0.99697\n",
            "Validando...\n",
            "Época 100 Finalizada: perda 0.00629 - precisão 0.99545\n"
          ]
        }
      ]
    },
    {
      "cell_type": "code",
      "metadata": {
        "id": "4WKtVjovpO6n"
      },
      "source": [
        "loss_test = [item for item in loss_values]\n",
        "accu_test = [item for item in accu_values]"
      ],
      "execution_count": 48,
      "outputs": []
    },
    {
      "cell_type": "code",
      "metadata": {
        "colab": {
          "base_uri": "https://localhost:8080/"
        },
        "id": "g-MAoFXTx9Gs",
        "outputId": "e189b431-fd77-440f-b4b6-0f6db461a26c"
      },
      "source": [
        "print(len(loss_test), len(accu_test))"
      ],
      "execution_count": 49,
      "outputs": [
        {
          "output_type": "stream",
          "name": "stdout",
          "text": [
            "100 100\n"
          ]
        }
      ]
    },
    {
      "cell_type": "code",
      "metadata": {
        "colab": {
          "base_uri": "https://localhost:8080/",
          "height": 621
        },
        "id": "LnBHP-AypUZA",
        "outputId": "a81e0461-0683-472e-c711-2da3c8ffd52b"
      },
      "source": [
        "epochs_x = range(1, len(loss_test) + 1)\n",
        "plt.figure(figsize=(10,10))\n",
        "plt.subplot(2,1,1)\n",
        "plt.plot(epochs_x, loss_train, 'bo', label='Training loss')\n",
        "plt.plot(epochs_x, loss_test, 'b', label='Testing loss')\n",
        "plt.title('Training and Testing Loss and Accuracy')\n",
        "plt.xlabel('Epochs')\n",
        "plt.ylabel('Loss')\n",
        "plt.subplot(2,1,2)\n",
        "plt.plot(epochs_x, accu_train, 'bo', label='Training acc')\n",
        "plt.plot(epochs_x, accu_test, 'b', label='Testing acc')\n",
        "plt.xlabel('Epochs')\n",
        "plt.ylabel('Acc')\n",
        "plt.legend()\n",
        "plt.show()"
      ],
      "execution_count": 50,
      "outputs": [
        {
          "output_type": "display_data",
          "data": {
            "image/png": "[encoded data removed]",
            "text/plain": [
              "<Figure size 720x720 with 2 Axes>"
            ]
          },
          "metadata": {
            "needs_background": "light"
          }
        }
      ]
    },
    {
      "cell_type": "code",
      "metadata": {
        "id": "kJRgzjBYSzs3"
      },
      "source": [
        "numero_de_classes = 4\n",
        "\n",
        "matriz = torch.zeros(numero_de_classes, numero_de_classes)\n",
        "with torch.no_grad():\n",
        "  for i, (inputs, classes) in enumerate(test_loader):\n",
        "    inputs = inputs.to(device)\n",
        "    outputs = net(inputs)\n",
        "    _, previsao = torch.max(outputs, 1)\n",
        "    for k, l in zip(classes.view(-1), previsao.view(-1)):\n",
        "      matriz[k.long(), l.long()] += 1"
      ],
      "execution_count": 51,
      "outputs": []
    },
    {
      "cell_type": "code",
      "metadata": {
        "id": "V4YYVXE2TzlZ",
        "colab": {
          "base_uri": "https://localhost:8080/"
        },
        "outputId": "21d1f353-87e5-4feb-8321-e6fd0181731b"
      },
      "source": [
        "print(matriz)"
      ],
      "execution_count": 52,
      "outputs": [
        {
          "output_type": "stream",
          "name": "stdout",
          "text": [
            "tensor([[182.,   1.,   2.,   0.],\n",
            "        [ 17., 168.,   1.,   1.],\n",
            "        [  2.,   0.,  98.,   0.],\n",
            "        [  6.,   0.,   0., 174.]])\n"
          ]
        }
      ]
    },
    {
      "cell_type": "code",
      "metadata": {
        "colab": {
          "base_uri": "https://localhost:8080/"
        },
        "id": "3js-idEpjl-X",
        "outputId": "e489e895-7e12-4ca3-ede7-59566a1886f6"
      },
      "source": [
        "print(matriz.diag()/matriz.sum(1))"
      ],
      "execution_count": 53,
      "outputs": [
        {
          "output_type": "stream",
          "name": "stdout",
          "text": [
            "tensor([0.9838, 0.8984, 0.9800, 0.9667])\n"
          ]
        }
      ]
    },
    {
      "cell_type": "code",
      "source": [
        ""
      ],
      "metadata": {
        "id": "c9pZIG2C2Ow4"
      },
      "execution_count": 53,
      "outputs": []
    }
  ]
}