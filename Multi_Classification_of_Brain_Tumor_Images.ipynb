{
  "nbformat": 4,
  "nbformat_minor": 0,
  "metadata": {
    "accelerator": "GPU",
    "colab": {
      "name": "Multi-Classification_of_Brain_Tumor_Images.ipynb",
      "provenance": [],
      "collapsed_sections": [],
      "authorship_tag": "ABX9TyOXNO7D2j0oPp5UaQw/ohIY"
    },
    "kernelspec": {
      "display_name": "Python 3",
      "name": "python3"
    },
    "language_info": {
      "name": "python"
    }
  },
  "cells": [
    {
      "cell_type": "code",
      "metadata": {
        "colab": {
          "base_uri": "https://localhost:8080/"
        },
        "id": "EvUGd4r9Sn1v",
        "outputId": "724e4c6f-280c-4396-f941-670f958d3359"
      },
      "source": [
        "#Importação de bibliotecas\n",
        "import torch\n",
        "import glob\n",
        "import os\n",
        "import pathlib\n",
        "import cv2\n",
        "import shutil\n",
        "import random\n",
        "\n",
        "import numpy                as np\n",
        "import pandas               as pd\n",
        "import matplotlib.pyplot    as plt\n",
        "import cv2                  as cv \n",
        "import matplotlib.pyplot    as plt\n",
        "import torch.nn.functional  as F\n",
        "import seaborn              as sns\n",
        "import plotly.express       as px\n",
        "import plotly.graph_objects as go\n",
        "\n",
        "from random                  import sample\n",
        "from plotly.subplots         import make_subplots\n",
        "from google.colab            import drive\n",
        "from google.colab.patches    import cv2_imshow\n",
        "from skimage                 import io\n",
        "from PIL                     import Image\n",
        "from torch                   import nn, optim\n",
        "from torchvision             import datasets, transforms\n",
        "from sklearn.model_selection import train_test_split\n",
        "from tensorflow.keras.preprocessing.image import ImageDataGenerator\n",
        "print(\"Versão:\",torch.__version__)"
      ],
      "execution_count": 1,
      "outputs": [
        {
          "output_type": "stream",
          "name": "stdout",
          "text": [
            "Versão: 1.10.0+cu111\n"
          ]
        }
      ]
    },
    {
      "cell_type": "code",
      "metadata": {
        "colab": {
          "base_uri": "https://localhost:8080/"
        },
        "id": "k2qHreBIhUs4",
        "outputId": "4a1f7ad5-93ea-4cd4-d7b4-ff74cddad96a"
      },
      "source": [
        "#Leituras de arquivo do drive\n",
        "drive.mount('/content/gdrive')"
      ],
      "execution_count": 2,
      "outputs": [
        {
          "output_type": "stream",
          "name": "stdout",
          "text": [
            "Mounted at /content/gdrive\n"
          ]
        }
      ]
    },
    {
      "cell_type": "code",
      "metadata": {
        "id": "s_4kaFY-7A7k",
        "colab": {
          "base_uri": "https://localhost:8080/",
          "height": 140
        },
        "outputId": "90ab4415-9809-4270-ad60-757174c1f832"
      },
      "source": [
        "#Modelo de arquitetura da CNN\n",
        "'''class classificador(nn.Module):\n",
        "    def __init__ (self):\n",
        "        super().__init__()\n",
        "      \n",
        "        self.conv1 = nn.Conv2d(in_channels=3, out_channels=64, kernel_size=10, stride=(1,1), padding=(0,0))\n",
        "        self.conv2 = nn.Conv2d(in_channels=64, out_channels=64, kernel_size=3, stride=(1,1), padding=(2,2))\n",
        "        self.conv3 = nn.Conv2d(in_channels=64, out_channels=64, kernel_size=2, stride=(1,1), padding=(2,2))\n",
        "\n",
        "        self.activation = nn.ReLU() \n",
        "        self.bnorm = nn.BatchNorm2d(num_features=64)\n",
        "        self.pool = nn.MaxPool2d(kernel_size=(2,2))\n",
        "        \n",
        "        self.flatten = nn.Flatten()\n",
        "        \n",
        "        self.linear1 = nn.Linear(in_features=16384, out_features=256)\n",
        "        self.linear2 = nn.Linear(in_features=256, out_features=128)\n",
        "        self.output = nn.Linear(in_features=128, out_features=4)\n",
        "\n",
        "        self.dropout1 = nn.Dropout(p = 0.1)\n",
        "        self.dropout2 = nn.Dropout(p = 0.2)\n",
        "        \n",
        "    def forward(self, X):\n",
        "        X = self.pool(self.bnorm(self.activation(self.conv1(X))))\n",
        "        X = self.dropout1(self.pool(self.activation(self.conv2(X))))\n",
        "        X = self.dropout2(self.pool(self.activation(self.conv3(X))))\n",
        "        X = self.flatten(X)\n",
        "        \n",
        "        X = self.activation(self.linear1(X))\n",
        "        X = self.activation(self.linear2(X))\n",
        "        X = self.output(X)\n",
        "        \n",
        "        return X'''"
      ],
      "execution_count": 3,
      "outputs": [
        {
          "output_type": "execute_result",
          "data": {
            "application/vnd.google.colaboratory.intrinsic+json": {
              "type": "string"
            },
            "text/plain": [
              "'class classificador(nn.Module):\\n    def __init__ (self):\\n        super().__init__()\\n      \\n        self.conv1 = nn.Conv2d(in_channels=3, out_channels=64, kernel_size=10, stride=(1,1), padding=(0,0))\\n        self.conv2 = nn.Conv2d(in_channels=64, out_channels=64, kernel_size=3, stride=(1,1), padding=(2,2))\\n        self.conv3 = nn.Conv2d(in_channels=64, out_channels=64, kernel_size=2, stride=(1,1), padding=(2,2))\\n\\n        self.activation = nn.ReLU() \\n        self.bnorm = nn.BatchNorm2d(num_features=64)\\n        self.pool = nn.MaxPool2d(kernel_size=(2,2))\\n        \\n        self.flatten = nn.Flatten()\\n        \\n        self.linear1 = nn.Linear(in_features=16384, out_features=256)\\n        self.linear2 = nn.Linear(in_features=256, out_features=128)\\n        self.output = nn.Linear(in_features=128, out_features=4)\\n\\n        self.dropout1 = nn.Dropout(p = 0.1)\\n        self.dropout2 = nn.Dropout(p = 0.2)\\n        \\n    def forward(self, X):\\n        X = self.pool(self.bnorm(self.activation(self.conv1(X))))\\n        X = self.dropout1(self.pool(self.activation(self.conv2(X))))\\n        X = self.dropout2(self.pool(self.activation(self.conv3(X))))\\n        X = self.flatten(X)\\n        \\n        X = self.activation(self.linear1(X))\\n        X = self.activation(self.linear2(X))\\n        X = self.output(X)\\n        \\n        return X'"
            ]
          },
          "metadata": {},
          "execution_count": 3
        }
      ]
    },
    {
      "cell_type": "code",
      "source": [
        "#Modelo de arquitetura da CNN\n",
        "class classificador(nn.Module):\n",
        "    def __init__ (self):\n",
        "        super().__init__()\n",
        "      \n",
        "        self.conv1 = nn.Conv2d(in_channels=3, out_channels=64, kernel_size=10, stride=(1,1), padding=(0,0))\n",
        "        self.conv2 = nn.Conv2d(in_channels=64, out_channels=64, kernel_size=3, stride=(1,1), padding=(2,2))\n",
        "        self.conv3 = nn.Conv2d(in_channels=64, out_channels=64, kernel_size=2, stride=(1,1), padding=(2,2))\n",
        "\n",
        "        self.activation = nn.ReLU() \n",
        "        self.bnorm = nn.BatchNorm2d(num_features=64)\n",
        "        self.pool = nn.MaxPool2d(kernel_size=(2,2))\n",
        "        \n",
        "        self.flatten = nn.Flatten()\n",
        "        \n",
        "        self.linear1 = nn.Linear(in_features=16384, out_features=128)\n",
        "        self.output = nn.Linear(in_features=128, out_features=4)\n",
        "\n",
        "        self.dropout1 = nn.Dropout(p = 0.1)\n",
        "        self.dropout2 = nn.Dropout(p = 0.2)\n",
        "        \n",
        "    def forward(self, X):\n",
        "        X = self.pool(self.bnorm(self.activation(self.conv1(X))))\n",
        "        X = self.dropout1(self.pool(self.activation(self.conv2(X))))\n",
        "        X = self.dropout2(self.pool(self.activation(self.conv3(X))))\n",
        "        X = self.flatten(X)\n",
        "        \n",
        "        X = self.activation(self.linear1(X))\n",
        "        X = self.output(X)\n",
        "        \n",
        "        return X"
      ],
      "metadata": {
        "id": "JcaSUGBCgYKM"
      },
      "execution_count": 4,
      "outputs": []
    },
    {
      "cell_type": "code",
      "metadata": {
        "id": "JWx1Wx6lrNaA"
      },
      "source": [
        "path_train = '/content/gdrive/MyDrive/MRI_TUMOR_CNN/80_20_Brain_Tumor/BrainTumor_80/'\n",
        "path_test = '/content/gdrive/MyDrive/MRI_TUMOR_CNN/80_20_Brain_Tumor/BrainTumor_20/'"
      ],
      "execution_count": 5,
      "outputs": []
    },
    {
      "cell_type": "code",
      "metadata": {
        "id": "2c8vfiUqvkkk"
      },
      "source": [
        "from torchvision.transforms.transforms import RandomHorizontalFlip\n",
        "transform_train = transforms.Compose(\n",
        "    [\n",
        "     transforms.Resize([128,128]),\n",
        "     transforms.RandomHorizontalFlip(),\n",
        "     transforms.RandomRotation(45),\n",
        "     transforms.ToTensor()\n",
        "    ]\n",
        ")\n",
        "\n",
        "transform_test = transforms.Compose(\n",
        "    [\n",
        "     transforms.Resize([128,128]),\n",
        "     transforms.ToTensor()\n",
        "    ]\n",
        ")"
      ],
      "execution_count": 6,
      "outputs": []
    },
    {
      "cell_type": "code",
      "metadata": {
        "id": "MJP9vNppzHsl"
      },
      "source": [
        "train_dataset = datasets.ImageFolder(path_train, transform=transform_train)\n",
        "test_dataset = datasets.ImageFolder(path_test, transform=transform_test)"
      ],
      "execution_count": 7,
      "outputs": []
    },
    {
      "cell_type": "code",
      "metadata": {
        "id": "XrLlnOJIz4o_"
      },
      "source": [
        "train_loader = torch.utils.data.DataLoader(train_dataset, batch_size=32, shuffle=True)\n",
        "test_loader = torch.utils.data.DataLoader(test_dataset, batch_size=32, shuffle=True)"
      ],
      "execution_count": 8,
      "outputs": []
    },
    {
      "cell_type": "code",
      "source": [
        "def get_class_distribution(dataset_obj):\n",
        "  count_dict = {k:0 for k, v in dataset_obj.class_to_idx.items()}\n",
        "  for i in dataset_obj:\n",
        "    y_labels = i[1]\n",
        "    y_labels = idx2class[y_labels]\n",
        "    count_dict[y_labels] += 1\n",
        "  return count_dict\n",
        "\n",
        "idx2class = {v: k for k, v in train_dataset.class_to_idx.items()}\n",
        "df_treino = pd.DataFrame.from_dict([get_class_distribution(train_dataset)]).melt()\n",
        "\n",
        "idx2class = {v: k for k, v in test_dataset.class_to_idx.items()}\n",
        "df_teste = pd.DataFrame.from_dict([get_class_distribution(test_dataset)]).melt()\n",
        "\n",
        "fig = make_subplots(rows=1, cols=2, specs=[[{'type':'domain'}, {'type':'domain'}]])\n",
        "\n",
        "fig.add_trace(go.Pie(\n",
        "    labels=df_treino['variable'],\n",
        "     values=df_treino['value'],\n",
        "      pull=[0, 0, 0.1, 0]),\n",
        "       1, 1)\n",
        "\n",
        "fig.add_trace(go.Pie(\n",
        "    labels=df_teste['variable'],\n",
        "     values=df_teste['value'],\n",
        "      pull=[0, 0, 0.1, 0]),\n",
        "       1, 2)\n",
        "\n",
        "fig.update_traces(hole=.4,\n",
        "    hoverinfo='label+percent',\n",
        "                  textinfo='value',\n",
        "                  textfont_size=12.5,\n",
        "                  marker=dict(\n",
        "                      line=dict(\n",
        "                          color='#000000',\n",
        "                           width=1)\n",
        "                      )\n",
        "                  )\n",
        "\n",
        "fig.update_layout(\n",
        "    title_text = 'Proporção da base de dados de treino e teste',\n",
        "    annotations=[dict(text='Treino', x=0.181, y=0.5, font_size=20, showarrow=False),\n",
        "                 dict(text='Teste', x=0.80, y=0.5, font_size=20, showarrow=False)]\n",
        ")\n",
        "\n",
        "fig.show()"
      ],
      "metadata": {
        "colab": {
          "base_uri": "https://localhost:8080/",
          "height": 542
        },
        "id": "VEQU-lmgwzqj",
        "outputId": "af00a012-eca5-4e6c-9cf0-35cce88b702d"
      },
      "execution_count": 9,
      "outputs": [
        {
          "output_type": "display_data",
          "data": {
            "text/html": [
              "<html>\n",
              "<head><meta charset=\"utf-8\" /></head>\n",
              "<body>\n",
              "    <div>\n",
              "            <script src=\"https://cdnjs.cloudflare.com/ajax/libs/mathjax/2.7.5/MathJax.js?config=TeX-AMS-MML_SVG\"></script><script type=\"text/javascript\">if (window.MathJax) {MathJax.Hub.Config({SVG: {font: \"STIX-Web\"}});}</script>\n",
              "                <script type=\"text/javascript\">window.PlotlyConfig = {MathJaxConfig: 'local'};</script>\n",
              "        <script src=\"https://cdn.plot.ly/plotly-latest.min.js\"></script>    \n",
              "            <div id=\"81e513de-e405-4767-9e9b-0df25d2188e2\" class=\"plotly-graph-div\" style=\"height:525px; width:100%;\"></div>\n",
              "            <script type=\"text/javascript\">\n",
              "                \n",
              "                    window.PLOTLYENV=window.PLOTLYENV || {};\n",
              "                    \n",
              "                if (document.getElementById(\"81e513de-e405-4767-9e9b-0df25d2188e2\")) {\n",
              "                    Plotly.newPlot(\n",
              "                        '81e513de-e405-4767-9e9b-0df25d2188e2',\n",
              "                        [{\"domain\": {\"x\": [0.0, 0.45], \"y\": [0.0, 1.0]}, \"hole\": 0.4, \"hoverinfo\": \"label+percent\", \"labels\": [\"glioma_tumor\", \"meningioma_tumor\", \"no_tumor\", \"pituitary_tumor\"], \"marker\": {\"line\": {\"color\": \"#000000\", \"width\": 1}}, \"pull\": [0, 0, 0.1, 0], \"textfont\": {\"size\": 12.5}, \"textinfo\": \"value\", \"type\": \"pie\", \"values\": [400, 400, 400, 400]}, {\"domain\": {\"x\": [0.55, 1.0], \"y\": [0.0, 1.0]}, \"hole\": 0.4, \"hoverinfo\": \"label+percent\", \"labels\": [\"glioma_tumor\", \"meningioma_tumor\", \"no_tumor\", \"pituitary_tumor\"], \"marker\": {\"line\": {\"color\": \"#000000\", \"width\": 1}}, \"pull\": [0, 0, 0.1, 0], \"textfont\": {\"size\": 12.5}, \"textinfo\": \"value\", \"type\": \"pie\", \"values\": [185, 187, 100, 180]}],\n",
              "                        {\"annotations\": [{\"font\": {\"size\": 20}, \"showarrow\": false, \"text\": \"Treino\", \"x\": 0.181, \"y\": 0.5}, {\"font\": {\"size\": 20}, \"showarrow\": false, \"text\": \"Teste\", \"x\": 0.8, \"y\": 0.5}], \"template\": {\"data\": {\"bar\": [{\"error_x\": {\"color\": \"#2a3f5f\"}, \"error_y\": {\"color\": \"#2a3f5f\"}, \"marker\": {\"line\": {\"color\": \"#E5ECF6\", \"width\": 0.5}}, \"type\": \"bar\"}], \"barpolar\": [{\"marker\": {\"line\": {\"color\": \"#E5ECF6\", \"width\": 0.5}}, \"type\": \"barpolar\"}], \"carpet\": [{\"aaxis\": {\"endlinecolor\": \"#2a3f5f\", \"gridcolor\": \"white\", \"linecolor\": \"white\", \"minorgridcolor\": \"white\", \"startlinecolor\": \"#2a3f5f\"}, \"baxis\": {\"endlinecolor\": \"#2a3f5f\", \"gridcolor\": \"white\", \"linecolor\": \"white\", \"minorgridcolor\": \"white\", \"startlinecolor\": \"#2a3f5f\"}, \"type\": \"carpet\"}], \"choropleth\": [{\"colorbar\": {\"outlinewidth\": 0, \"ticks\": \"\"}, \"type\": \"choropleth\"}], \"contour\": [{\"colorbar\": {\"outlinewidth\": 0, \"ticks\": \"\"}, \"colorscale\": [[0.0, \"#0d0887\"], [0.1111111111111111, \"#46039f\"], [0.2222222222222222, \"#7201a8\"], [0.3333333333333333, \"#9c179e\"], [0.4444444444444444, \"#bd3786\"], [0.5555555555555556, \"#d8576b\"], [0.6666666666666666, \"#ed7953\"], [0.7777777777777778, \"#fb9f3a\"], [0.8888888888888888, \"#fdca26\"], [1.0, \"#f0f921\"]], \"type\": \"contour\"}], \"contourcarpet\": [{\"colorbar\": {\"outlinewidth\": 0, \"ticks\": \"\"}, \"type\": \"contourcarpet\"}], \"heatmap\": [{\"colorbar\": {\"outlinewidth\": 0, \"ticks\": \"\"}, \"colorscale\": [[0.0, \"#0d0887\"], [0.1111111111111111, \"#46039f\"], [0.2222222222222222, \"#7201a8\"], [0.3333333333333333, \"#9c179e\"], [0.4444444444444444, \"#bd3786\"], [0.5555555555555556, \"#d8576b\"], [0.6666666666666666, \"#ed7953\"], [0.7777777777777778, \"#fb9f3a\"], [0.8888888888888888, \"#fdca26\"], [1.0, \"#f0f921\"]], \"type\": \"heatmap\"}], \"heatmapgl\": [{\"colorbar\": {\"outlinewidth\": 0, \"ticks\": \"\"}, \"colorscale\": [[0.0, \"#0d0887\"], [0.1111111111111111, \"#46039f\"], [0.2222222222222222, \"#7201a8\"], [0.3333333333333333, \"#9c179e\"], [0.4444444444444444, \"#bd3786\"], [0.5555555555555556, \"#d8576b\"], [0.6666666666666666, \"#ed7953\"], [0.7777777777777778, \"#fb9f3a\"], [0.8888888888888888, \"#fdca26\"], [1.0, \"#f0f921\"]], \"type\": \"heatmapgl\"}], \"histogram\": [{\"marker\": {\"colorbar\": {\"outlinewidth\": 0, \"ticks\": \"\"}}, \"type\": \"histogram\"}], \"histogram2d\": [{\"colorbar\": {\"outlinewidth\": 0, \"ticks\": \"\"}, \"colorscale\": [[0.0, \"#0d0887\"], [0.1111111111111111, \"#46039f\"], [0.2222222222222222, \"#7201a8\"], [0.3333333333333333, \"#9c179e\"], [0.4444444444444444, \"#bd3786\"], [0.5555555555555556, \"#d8576b\"], [0.6666666666666666, \"#ed7953\"], [0.7777777777777778, \"#fb9f3a\"], [0.8888888888888888, \"#fdca26\"], [1.0, \"#f0f921\"]], \"type\": \"histogram2d\"}], \"histogram2dcontour\": [{\"colorbar\": {\"outlinewidth\": 0, \"ticks\": \"\"}, \"colorscale\": [[0.0, \"#0d0887\"], [0.1111111111111111, \"#46039f\"], [0.2222222222222222, \"#7201a8\"], [0.3333333333333333, \"#9c179e\"], [0.4444444444444444, \"#bd3786\"], [0.5555555555555556, \"#d8576b\"], [0.6666666666666666, \"#ed7953\"], [0.7777777777777778, \"#fb9f3a\"], [0.8888888888888888, \"#fdca26\"], [1.0, \"#f0f921\"]], \"type\": \"histogram2dcontour\"}], \"mesh3d\": [{\"colorbar\": {\"outlinewidth\": 0, \"ticks\": \"\"}, \"type\": \"mesh3d\"}], \"parcoords\": [{\"line\": {\"colorbar\": {\"outlinewidth\": 0, \"ticks\": \"\"}}, \"type\": \"parcoords\"}], \"pie\": [{\"automargin\": true, \"type\": \"pie\"}], \"scatter\": [{\"marker\": {\"colorbar\": {\"outlinewidth\": 0, \"ticks\": \"\"}}, \"type\": \"scatter\"}], \"scatter3d\": [{\"line\": {\"colorbar\": {\"outlinewidth\": 0, \"ticks\": \"\"}}, \"marker\": {\"colorbar\": {\"outlinewidth\": 0, \"ticks\": \"\"}}, \"type\": \"scatter3d\"}], \"scattercarpet\": [{\"marker\": {\"colorbar\": {\"outlinewidth\": 0, \"ticks\": \"\"}}, \"type\": \"scattercarpet\"}], \"scattergeo\": [{\"marker\": {\"colorbar\": {\"outlinewidth\": 0, \"ticks\": \"\"}}, \"type\": \"scattergeo\"}], \"scattergl\": [{\"marker\": {\"colorbar\": {\"outlinewidth\": 0, \"ticks\": \"\"}}, \"type\": \"scattergl\"}], \"scattermapbox\": [{\"marker\": {\"colorbar\": {\"outlinewidth\": 0, \"ticks\": \"\"}}, \"type\": \"scattermapbox\"}], \"scatterpolar\": [{\"marker\": {\"colorbar\": {\"outlinewidth\": 0, \"ticks\": \"\"}}, \"type\": \"scatterpolar\"}], \"scatterpolargl\": [{\"marker\": {\"colorbar\": {\"outlinewidth\": 0, \"ticks\": \"\"}}, \"type\": \"scatterpolargl\"}], \"scatterternary\": [{\"marker\": {\"colorbar\": {\"outlinewidth\": 0, \"ticks\": \"\"}}, \"type\": \"scatterternary\"}], \"surface\": [{\"colorbar\": {\"outlinewidth\": 0, \"ticks\": \"\"}, \"colorscale\": [[0.0, \"#0d0887\"], [0.1111111111111111, \"#46039f\"], [0.2222222222222222, \"#7201a8\"], [0.3333333333333333, \"#9c179e\"], [0.4444444444444444, \"#bd3786\"], [0.5555555555555556, \"#d8576b\"], [0.6666666666666666, \"#ed7953\"], [0.7777777777777778, \"#fb9f3a\"], [0.8888888888888888, \"#fdca26\"], [1.0, \"#f0f921\"]], \"type\": \"surface\"}], \"table\": [{\"cells\": {\"fill\": {\"color\": \"#EBF0F8\"}, \"line\": {\"color\": \"white\"}}, \"header\": {\"fill\": {\"color\": \"#C8D4E3\"}, \"line\": {\"color\": \"white\"}}, \"type\": \"table\"}]}, \"layout\": {\"annotationdefaults\": {\"arrowcolor\": \"#2a3f5f\", \"arrowhead\": 0, \"arrowwidth\": 1}, \"coloraxis\": {\"colorbar\": {\"outlinewidth\": 0, \"ticks\": \"\"}}, \"colorscale\": {\"diverging\": [[0, \"#8e0152\"], [0.1, \"#c51b7d\"], [0.2, \"#de77ae\"], [0.3, \"#f1b6da\"], [0.4, \"#fde0ef\"], [0.5, \"#f7f7f7\"], [0.6, \"#e6f5d0\"], [0.7, \"#b8e186\"], [0.8, \"#7fbc41\"], [0.9, \"#4d9221\"], [1, \"#276419\"]], \"sequential\": [[0.0, \"#0d0887\"], [0.1111111111111111, \"#46039f\"], [0.2222222222222222, \"#7201a8\"], [0.3333333333333333, \"#9c179e\"], [0.4444444444444444, \"#bd3786\"], [0.5555555555555556, \"#d8576b\"], [0.6666666666666666, \"#ed7953\"], [0.7777777777777778, \"#fb9f3a\"], [0.8888888888888888, \"#fdca26\"], [1.0, \"#f0f921\"]], \"sequentialminus\": [[0.0, \"#0d0887\"], [0.1111111111111111, \"#46039f\"], [0.2222222222222222, \"#7201a8\"], [0.3333333333333333, \"#9c179e\"], [0.4444444444444444, \"#bd3786\"], [0.5555555555555556, \"#d8576b\"], [0.6666666666666666, \"#ed7953\"], [0.7777777777777778, \"#fb9f3a\"], [0.8888888888888888, \"#fdca26\"], [1.0, \"#f0f921\"]]}, \"colorway\": [\"#636efa\", \"#EF553B\", \"#00cc96\", \"#ab63fa\", \"#FFA15A\", \"#19d3f3\", \"#FF6692\", \"#B6E880\", \"#FF97FF\", \"#FECB52\"], \"font\": {\"color\": \"#2a3f5f\"}, \"geo\": {\"bgcolor\": \"white\", \"lakecolor\": \"white\", \"landcolor\": \"#E5ECF6\", \"showlakes\": true, \"showland\": true, \"subunitcolor\": \"white\"}, \"hoverlabel\": {\"align\": \"left\"}, \"hovermode\": \"closest\", \"mapbox\": {\"style\": \"light\"}, \"paper_bgcolor\": \"white\", \"plot_bgcolor\": \"#E5ECF6\", \"polar\": {\"angularaxis\": {\"gridcolor\": \"white\", \"linecolor\": \"white\", \"ticks\": \"\"}, \"bgcolor\": \"#E5ECF6\", \"radialaxis\": {\"gridcolor\": \"white\", \"linecolor\": \"white\", \"ticks\": \"\"}}, \"scene\": {\"xaxis\": {\"backgroundcolor\": \"#E5ECF6\", \"gridcolor\": \"white\", \"gridwidth\": 2, \"linecolor\": \"white\", \"showbackground\": true, \"ticks\": \"\", \"zerolinecolor\": \"white\"}, \"yaxis\": {\"backgroundcolor\": \"#E5ECF6\", \"gridcolor\": \"white\", \"gridwidth\": 2, \"linecolor\": \"white\", \"showbackground\": true, \"ticks\": \"\", \"zerolinecolor\": \"white\"}, \"zaxis\": {\"backgroundcolor\": \"#E5ECF6\", \"gridcolor\": \"white\", \"gridwidth\": 2, \"linecolor\": \"white\", \"showbackground\": true, \"ticks\": \"\", \"zerolinecolor\": \"white\"}}, \"shapedefaults\": {\"line\": {\"color\": \"#2a3f5f\"}}, \"ternary\": {\"aaxis\": {\"gridcolor\": \"white\", \"linecolor\": \"white\", \"ticks\": \"\"}, \"baxis\": {\"gridcolor\": \"white\", \"linecolor\": \"white\", \"ticks\": \"\"}, \"bgcolor\": \"#E5ECF6\", \"caxis\": {\"gridcolor\": \"white\", \"linecolor\": \"white\", \"ticks\": \"\"}}, \"title\": {\"x\": 0.05}, \"xaxis\": {\"automargin\": true, \"gridcolor\": \"white\", \"linecolor\": \"white\", \"ticks\": \"\", \"title\": {\"standoff\": 15}, \"zerolinecolor\": \"white\", \"zerolinewidth\": 2}, \"yaxis\": {\"automargin\": true, \"gridcolor\": \"white\", \"linecolor\": \"white\", \"ticks\": \"\", \"title\": {\"standoff\": 15}, \"zerolinecolor\": \"white\", \"zerolinewidth\": 2}}}, \"title\": {\"text\": \"Propor\\u00e7\\u00e3o da base de dados de treino e teste\"}},\n",
              "                        {\"responsive\": true}\n",
              "                    ).then(function(){\n",
              "                            \n",
              "var gd = document.getElementById('81e513de-e405-4767-9e9b-0df25d2188e2');\n",
              "var x = new MutationObserver(function (mutations, observer) {{\n",
              "        var display = window.getComputedStyle(gd).display;\n",
              "        if (!display || display === 'none') {{\n",
              "            console.log([gd, 'removed!']);\n",
              "            Plotly.purge(gd);\n",
              "            observer.disconnect();\n",
              "        }}\n",
              "}});\n",
              "\n",
              "// Listen for the removal of the full notebook cells\n",
              "var notebookContainer = gd.closest('#notebook-container');\n",
              "if (notebookContainer) {{\n",
              "    x.observe(notebookContainer, {childList: true});\n",
              "}}\n",
              "\n",
              "// Listen for the clearing of the current output cell\n",
              "var outputEl = gd.closest('.output');\n",
              "if (outputEl) {{\n",
              "    x.observe(outputEl, {childList: true});\n",
              "}}\n",
              "\n",
              "                        })\n",
              "                };\n",
              "                \n",
              "            </script>\n",
              "        </div>\n",
              "</body>\n",
              "</html>"
            ]
          },
          "metadata": {}
        }
      ]
    },
    {
      "cell_type": "code",
      "metadata": {
        "id": "RZ-TiO9Bh2mz"
      },
      "source": [
        "net = classificador()\n",
        "criterion = nn.CrossEntropyLoss()\n",
        "optimizer = optim.SGD(net.parameters(), lr=0.001)"
      ],
      "execution_count": 10,
      "outputs": []
    },
    {
      "cell_type": "code",
      "metadata": {
        "colab": {
          "base_uri": "https://localhost:8080/"
        },
        "id": "durV3rM4312g",
        "outputId": "488023b4-7902-42dc-ef86-ba224a7e1c8f"
      },
      "source": [
        "#Setamos a GPU necessária para realizar nossa classificação\n",
        "device = torch.device(\"cuda\") if torch.cuda.is_available else torch.device(\"cpu\")\n",
        "print(device)\n",
        "\n",
        "net.to(device)"
      ],
      "execution_count": 11,
      "outputs": [
        {
          "output_type": "stream",
          "name": "stdout",
          "text": [
            "cuda\n"
          ]
        },
        {
          "output_type": "execute_result",
          "data": {
            "text/plain": [
              "classificador(\n",
              "  (conv1): Conv2d(3, 64, kernel_size=(10, 10), stride=(1, 1))\n",
              "  (conv2): Conv2d(64, 64, kernel_size=(3, 3), stride=(1, 1), padding=(2, 2))\n",
              "  (conv3): Conv2d(64, 64, kernel_size=(2, 2), stride=(1, 1), padding=(2, 2))\n",
              "  (activation): ReLU()\n",
              "  (bnorm): BatchNorm2d(64, eps=1e-05, momentum=0.1, affine=True, track_running_stats=True)\n",
              "  (pool): MaxPool2d(kernel_size=(2, 2), stride=(2, 2), padding=0, dilation=1, ceil_mode=False)\n",
              "  (flatten): Flatten(start_dim=1, end_dim=-1)\n",
              "  (linear1): Linear(in_features=16384, out_features=128, bias=True)\n",
              "  (output): Linear(in_features=128, out_features=4, bias=True)\n",
              "  (dropout1): Dropout(p=0.1, inplace=False)\n",
              "  (dropout2): Dropout(p=0.2, inplace=False)\n",
              ")"
            ]
          },
          "metadata": {},
          "execution_count": 11
        }
      ]
    },
    {
      "cell_type": "code",
      "metadata": {
        "id": "_bI3AYHY371r"
      },
      "source": [
        "loss_values = []\n",
        "accu_values = []\n",
        "def training_loop(loader, epoch):\n",
        "    running_loss = 0.\n",
        "    running_accuracy = 0.\n",
        "    for i, data in enumerate(loader):\n",
        "        \n",
        "        inputs, labels = data\n",
        "        \n",
        "        inputs, labels = inputs.to(device), labels.to(device)\n",
        "        \n",
        "        optimizer.zero_grad()\n",
        "        outputs = net(inputs)\n",
        "        \n",
        "        loss = criterion(outputs, labels)\n",
        "        loss.backward()\n",
        "        \n",
        "        optimizer.step()\n",
        "        \n",
        "        running_loss += loss.item()\n",
        "        #loss_values.append(running_loss / len(train_dataset))\n",
        "        \n",
        "        ps = F.softmax(outputs, dim=1)\n",
        "        top_p, top_class = ps.topk(k=1, dim=1)\n",
        "        equals = top_class == labels.view(*top_class.shape)\n",
        "        \n",
        "        accuracy= torch.mean(equals.type(torch.float))\n",
        "        \n",
        "        running_accuracy += accuracy\n",
        "        \n",
        "        #Imprimir os dados referentes a este loop\n",
        "        print(\"Época {:3d} - Loop {:3d} de {:3d}: perda {:03.2f} - precisão {:03.2f}\".format(epoch + 1, i+1, len(loader)\\\n",
        "                                                                                             , loss, accuracy), end= '\\r')\n",
        "    #Impressão referente à épocas\n",
        "    print(\"Época {:3d} Finalizada: perda {:.5f} - precisão {:.5f}\".format(epoch+1, running_loss/len(loader)\\\n",
        "                                                                         ,running_accuracy/len(loader)))\n",
        "    loss_values.append(running_loss / len(loader))\n",
        "    accu_values.append(running_accuracy/len(loader))"
      ],
      "execution_count": 12,
      "outputs": []
    },
    {
      "cell_type": "code",
      "metadata": {
        "id": "NOIzLlztCUXS"
      },
      "source": [
        "loss_train = [item for item in loss_values]\n",
        "accu_train = [item for item in accu_values]"
      ],
      "execution_count": 13,
      "outputs": []
    },
    {
      "cell_type": "code",
      "metadata": {
        "colab": {
          "base_uri": "https://localhost:8080/"
        },
        "id": "9V4gBYXK4bd2",
        "outputId": "71ab8123-49b9-4dc3-90d9-60b44eb69bf1"
      },
      "source": [
        "for epoch in range(100):\n",
        "    print(\"Treinando...\")\n",
        "    training_loop(train_loader, epoch)\n",
        "    net.eval()\n",
        "    net.train()"
      ],
      "execution_count": 14,
      "outputs": [
        {
          "output_type": "stream",
          "name": "stdout",
          "text": [
            "Treinando...\n",
            "Época   1 Finalizada: perda 1.34190 - precisão 0.35938\n",
            "Treinando...\n",
            "Época   2 Finalizada: perda 1.25743 - precisão 0.52000\n",
            "Treinando...\n",
            "Época   3 Finalizada: perda 1.17917 - precisão 0.55812\n",
            "Treinando...\n",
            "Época   4 Finalizada: perda 1.10332 - precisão 0.57937\n",
            "Treinando...\n",
            "Época   5 Finalizada: perda 1.04166 - precisão 0.61375\n",
            "Treinando...\n",
            "Época   6 Finalizada: perda 0.99323 - precisão 0.62187\n",
            "Treinando...\n",
            "Época   7 Finalizada: perda 0.94628 - precisão 0.63313\n",
            "Treinando...\n",
            "Época   8 Finalizada: perda 0.91759 - precisão 0.64937\n",
            "Treinando...\n",
            "Época   9 Finalizada: perda 0.88797 - precisão 0.66000\n",
            "Treinando...\n",
            "Época  10 Finalizada: perda 0.87512 - precisão 0.64625\n",
            "Treinando...\n",
            "Época  11 Finalizada: perda 0.84966 - precisão 0.66688\n",
            "Treinando...\n",
            "Época  12 Finalizada: perda 0.83184 - precisão 0.66438\n",
            "Treinando...\n",
            "Época  13 Finalizada: perda 0.80905 - precisão 0.66875\n",
            "Treinando...\n",
            "Época  14 Finalizada: perda 0.80465 - precisão 0.68125\n",
            "Treinando...\n",
            "Época  15 Finalizada: perda 0.79844 - precisão 0.66938\n",
            "Treinando...\n",
            "Época  16 Finalizada: perda 0.77394 - precisão 0.69000\n",
            "Treinando...\n",
            "Época  17 Finalizada: perda 0.76139 - precisão 0.69250\n",
            "Treinando...\n",
            "Época  18 Finalizada: perda 0.75959 - precisão 0.70063\n",
            "Treinando...\n",
            "Época  19 Finalizada: perda 0.74748 - precisão 0.70625\n",
            "Treinando...\n",
            "Época  20 Finalizada: perda 0.74160 - precisão 0.69937\n",
            "Treinando...\n",
            "Época  21 Finalizada: perda 0.73353 - precisão 0.70812\n",
            "Treinando...\n",
            "Época  22 Finalizada: perda 0.71508 - precisão 0.70562\n",
            "Treinando...\n",
            "Época  23 Finalizada: perda 0.72755 - precisão 0.69625\n",
            "Treinando...\n",
            "Época  24 Finalizada: perda 0.70816 - precisão 0.71937\n",
            "Treinando...\n",
            "Época  25 Finalizada: perda 0.71177 - precisão 0.71625\n",
            "Treinando...\n",
            "Época  26 Finalizada: perda 0.70046 - precisão 0.71375\n",
            "Treinando...\n",
            "Época  27 Finalizada: perda 0.69996 - precisão 0.71937\n",
            "Treinando...\n",
            "Época  28 Finalizada: perda 0.69107 - precisão 0.72438\n",
            "Treinando...\n",
            "Época  29 Finalizada: perda 0.68550 - precisão 0.72312\n",
            "Treinando...\n",
            "Época  30 Finalizada: perda 0.67395 - precisão 0.72750\n",
            "Treinando...\n",
            "Época  31 Finalizada: perda 0.66940 - precisão 0.73500\n",
            "Treinando...\n",
            "Época  32 Finalizada: perda 0.65747 - precisão 0.73812\n",
            "Treinando...\n",
            "Época  33 Finalizada: perda 0.67485 - precisão 0.72875\n",
            "Treinando...\n",
            "Época  34 Finalizada: perda 0.64994 - precisão 0.75875\n",
            "Treinando...\n",
            "Época  35 Finalizada: perda 0.64080 - precisão 0.74125\n",
            "Treinando...\n",
            "Época  36 Finalizada: perda 0.64840 - precisão 0.73812\n",
            "Treinando...\n",
            "Época  37 Finalizada: perda 0.63734 - precisão 0.75187\n",
            "Treinando...\n",
            "Época  38 Finalizada: perda 0.65286 - precisão 0.73625\n",
            "Treinando...\n",
            "Época  39 Finalizada: perda 0.63878 - precisão 0.74062\n",
            "Treinando...\n",
            "Época  40 Finalizada: perda 0.62367 - precisão 0.75000\n",
            "Treinando...\n",
            "Época  41 Finalizada: perda 0.61949 - precisão 0.75000\n",
            "Treinando...\n",
            "Época  42 Finalizada: perda 0.60713 - precisão 0.75750\n",
            "Treinando...\n",
            "Época  43 Finalizada: perda 0.62549 - precisão 0.75937\n",
            "Treinando...\n",
            "Época  44 Finalizada: perda 0.59715 - precisão 0.76063\n",
            "Treinando...\n",
            "Época  45 Finalizada: perda 0.59711 - precisão 0.75500\n",
            "Treinando...\n",
            "Época  46 Finalizada: perda 0.61998 - precisão 0.74812\n",
            "Treinando...\n",
            "Época  47 Finalizada: perda 0.59886 - precisão 0.76125\n",
            "Treinando...\n",
            "Época  48 Finalizada: perda 0.58629 - precisão 0.76500\n",
            "Treinando...\n",
            "Época  49 Finalizada: perda 0.58327 - precisão 0.76437\n",
            "Treinando...\n",
            "Época  50 Finalizada: perda 0.59214 - precisão 0.75875\n",
            "Treinando...\n",
            "Época  51 Finalizada: perda 0.58348 - precisão 0.76875\n",
            "Treinando...\n",
            "Época  52 Finalizada: perda 0.58927 - precisão 0.76063\n",
            "Treinando...\n",
            "Época  53 Finalizada: perda 0.59108 - precisão 0.75813\n",
            "Treinando...\n",
            "Época  54 Finalizada: perda 0.56084 - precisão 0.78250\n",
            "Treinando...\n",
            "Época  55 Finalizada: perda 0.55932 - precisão 0.78000\n",
            "Treinando...\n",
            "Época  56 Finalizada: perda 0.56928 - precisão 0.77312\n",
            "Treinando...\n",
            "Época  57 Finalizada: perda 0.55817 - precisão 0.77625\n",
            "Treinando...\n",
            "Época  58 Finalizada: perda 0.56943 - precisão 0.77937\n",
            "Treinando...\n",
            "Época  59 Finalizada: perda 0.57161 - precisão 0.76500\n",
            "Treinando...\n",
            "Época  60 Finalizada: perda 0.56714 - precisão 0.77062\n",
            "Treinando...\n",
            "Época  61 Finalizada: perda 0.57125 - precisão 0.76437\n",
            "Treinando...\n",
            "Época  62 Finalizada: perda 0.55223 - precisão 0.77750\n",
            "Treinando...\n",
            "Época  63 Finalizada: perda 0.54681 - precisão 0.76937\n",
            "Treinando...\n",
            "Época  64 Finalizada: perda 0.53970 - precisão 0.79125\n",
            "Treinando...\n",
            "Época  65 Finalizada: perda 0.55185 - precisão 0.78125\n",
            "Treinando...\n",
            "Época  66 Finalizada: perda 0.53702 - precisão 0.78312\n",
            "Treinando...\n",
            "Época  67 Finalizada: perda 0.54554 - precisão 0.77250\n",
            "Treinando...\n",
            "Época  68 Finalizada: perda 0.53397 - precisão 0.79062\n",
            "Treinando...\n",
            "Época  69 Finalizada: perda 0.53875 - precisão 0.76875\n",
            "Treinando...\n",
            "Época  70 Finalizada: perda 0.53225 - precisão 0.79250\n",
            "Treinando...\n",
            "Época  71 Finalizada: perda 0.51206 - precisão 0.78250\n",
            "Treinando...\n",
            "Época  72 Finalizada: perda 0.52325 - precisão 0.78812\n",
            "Treinando...\n",
            "Época  73 Finalizada: perda 0.52132 - precisão 0.78250\n",
            "Treinando...\n",
            "Época  74 Finalizada: perda 0.51219 - precisão 0.79312\n",
            "Treinando...\n",
            "Época  75 Finalizada: perda 0.51137 - precisão 0.79812\n",
            "Treinando...\n",
            "Época  76 Finalizada: perda 0.52706 - precisão 0.79250\n",
            "Treinando...\n",
            "Época  77 Finalizada: perda 0.51007 - precisão 0.78875\n",
            "Treinando...\n",
            "Época  78 Finalizada: perda 0.50250 - precisão 0.79375\n",
            "Treinando...\n",
            "Época  79 Finalizada: perda 0.50570 - precisão 0.79562\n",
            "Treinando...\n",
            "Época  80 Finalizada: perda 0.49710 - precisão 0.80125\n",
            "Treinando...\n",
            "Época  81 Finalizada: perda 0.50812 - precisão 0.78812\n",
            "Treinando...\n",
            "Época  82 Finalizada: perda 0.49568 - precisão 0.79375\n",
            "Treinando...\n",
            "Época  83 Finalizada: perda 0.50799 - precisão 0.79438\n",
            "Treinando...\n",
            "Época  84 Finalizada: perda 0.48872 - precisão 0.80750\n",
            "Treinando...\n",
            "Época  85 Finalizada: perda 0.49848 - precisão 0.80687\n",
            "Treinando...\n",
            "Época  86 Finalizada: perda 0.48761 - precisão 0.80625\n",
            "Treinando...\n",
            "Época  87 Finalizada: perda 0.48519 - precisão 0.80500\n",
            "Treinando...\n",
            "Época  88 Finalizada: perda 0.48659 - precisão 0.81687\n",
            "Treinando...\n",
            "Época  89 Finalizada: perda 0.47838 - precisão 0.80812\n",
            "Treinando...\n",
            "Época  90 Finalizada: perda 0.48287 - precisão 0.80437\n",
            "Treinando...\n",
            "Época  91 Finalizada: perda 0.48870 - precisão 0.80562\n",
            "Treinando...\n",
            "Época  92 Finalizada: perda 0.47648 - precisão 0.81125\n",
            "Treinando...\n",
            "Época  93 Finalizada: perda 0.46676 - precisão 0.82313\n",
            "Treinando...\n",
            "Época  94 Finalizada: perda 0.45979 - precisão 0.81125\n",
            "Treinando...\n",
            "Época  95 Finalizada: perda 0.48060 - precisão 0.80562\n",
            "Treinando...\n",
            "Época  96 Finalizada: perda 0.45505 - precisão 0.81750\n",
            "Treinando...\n",
            "Época  97 Finalizada: perda 0.46781 - precisão 0.81125\n",
            "Treinando...\n",
            "Época  98 Finalizada: perda 0.47121 - precisão 0.80625\n",
            "Treinando...\n",
            "Época  99 Finalizada: perda 0.45992 - precisão 0.81937\n",
            "Treinando...\n",
            "Época 100 Finalizada: perda 0.46076 - precisão 0.81187\n"
          ]
        }
      ]
    },
    {
      "cell_type": "code",
      "metadata": {
        "id": "FoC7sC-I7-M8",
        "colab": {
          "base_uri": "https://localhost:8080/"
        },
        "outputId": "963419df-084c-423f-883f-9b4e93083a89"
      },
      "source": [
        "loss_train = [item for item in loss_values]\n",
        "accu_train = [item for item in accu_values]\n",
        "print(len(loss_train), len(accu_train))"
      ],
      "execution_count": 15,
      "outputs": [
        {
          "output_type": "stream",
          "name": "stdout",
          "text": [
            "100 100\n"
          ]
        }
      ]
    },
    {
      "cell_type": "code",
      "metadata": {
        "colab": {
          "base_uri": "https://localhost:8080/"
        },
        "id": "tZ_S8ryZpLsg",
        "outputId": "acb2dcc7-1618-4b1e-8b57-be2ff9b73c4f"
      },
      "source": [
        "accu_values.clear()\n",
        "loss_values.clear()\n",
        "for epoch in range(100):\n",
        "    net.eval()\n",
        "    print(\"Validando...\")\n",
        "    training_loop(test_loader, epoch)\n",
        "    net.train()"
      ],
      "execution_count": 16,
      "outputs": [
        {
          "output_type": "stream",
          "name": "stdout",
          "text": [
            "Validando...\n",
            "Época   1 Finalizada: perda 1.16450 - precisão 0.59573\n",
            "Validando...\n",
            "Época   2 Finalizada: perda 0.87661 - precisão 0.65774\n",
            "Validando...\n",
            "Época   3 Finalizada: perda 0.82175 - precisão 0.66171\n",
            "Validando...\n",
            "Época   4 Finalizada: perda 0.75664 - precisão 0.68750\n",
            "Validando...\n",
            "Época   5 Finalizada: perda 0.72247 - precisão 0.69196\n",
            "Validando...\n",
            "Época   6 Finalizada: perda 0.69627 - precisão 0.72024\n",
            "Validando...\n",
            "Época   7 Finalizada: perda 0.66523 - precisão 0.73115\n",
            "Validando...\n",
            "Época   8 Finalizada: perda 0.63437 - precisão 0.74752\n",
            "Validando...\n",
            "Época   9 Finalizada: perda 0.60900 - precisão 0.76190\n",
            "Validando...\n",
            "Época  10 Finalizada: perda 0.57850 - precisão 0.77728\n",
            "Validando...\n",
            "Época  11 Finalizada: perda 0.55805 - precisão 0.76835\n",
            "Validando...\n",
            "Época  12 Finalizada: perda 0.55111 - precisão 0.78522\n",
            "Validando...\n",
            "Época  13 Finalizada: perda 0.53132 - precisão 0.78869\n",
            "Validando...\n",
            "Época  14 Finalizada: perda 0.50817 - precisão 0.81696\n",
            "Validando...\n",
            "Época  15 Finalizada: perda 0.49884 - precisão 0.82440\n",
            "Validando...\n",
            "Época  16 Finalizada: perda 0.46443 - precisão 0.82093\n",
            "Validando...\n",
            "Época  17 Finalizada: perda 0.44674 - precisão 0.83185\n",
            "Validando...\n",
            "Época  18 Finalizada: perda 0.45427 - precisão 0.83333\n",
            "Validando...\n",
            "Época  19 Finalizada: perda 0.43020 - precisão 0.84623\n",
            "Validando...\n",
            "Época  20 Finalizada: perda 0.39863 - precisão 0.87450\n",
            "Validando...\n",
            "Época  21 Finalizada: perda 0.40004 - precisão 0.85317\n",
            "Validando...\n",
            "Época  22 Finalizada: perda 0.39982 - precisão 0.85169\n",
            "Validando...\n",
            "Época  23 Finalizada: perda 0.35696 - precisão 0.87450\n",
            "Validando...\n",
            "Época  24 Finalizada: perda 0.34980 - precisão 0.89583\n",
            "Validando...\n",
            "Época  25 Finalizada: perda 0.35264 - precisão 0.87847\n",
            "Validando...\n",
            "Época  26 Finalizada: perda 0.34426 - precisão 0.87897\n",
            "Validando...\n",
            "Época  27 Finalizada: perda 0.34825 - precisão 0.88641\n",
            "Validando...\n",
            "Época  28 Finalizada: perda 0.31002 - precisão 0.90327\n",
            "Validando...\n",
            "Época  29 Finalizada: perda 0.28773 - precisão 0.92262\n",
            "Validando...\n",
            "Época  30 Finalizada: perda 0.25986 - precisão 0.92907\n",
            "Validando...\n",
            "Época  31 Finalizada: perda 0.28997 - precisão 0.89782\n",
            "Validando...\n",
            "Época  32 Finalizada: perda 0.25903 - precisão 0.92460\n",
            "Validando...\n",
            "Época  33 Finalizada: perda 0.23805 - precisão 0.93750\n",
            "Validando...\n",
            "Época  34 Finalizada: perda 0.25057 - precisão 0.92560\n",
            "Validando...\n",
            "Época  35 Finalizada: perda 0.20100 - precisão 0.95238\n",
            "Validando...\n",
            "Época  36 Finalizada: perda 0.32315 - precisão 0.90476\n",
            "Validando...\n",
            "Época  37 Finalizada: perda 0.20189 - precisão 0.94940\n",
            "Validando...\n",
            "Época  38 Finalizada: perda 0.23346 - precisão 0.92560\n",
            "Validando...\n",
            "Época  39 Finalizada: perda 0.18374 - precisão 0.95040\n",
            "Validando...\n",
            "Época  40 Finalizada: perda 0.18139 - precisão 0.95089\n",
            "Validando...\n",
            "Época  41 Finalizada: perda 0.16231 - precisão 0.96478\n",
            "Validando...\n",
            "Época  42 Finalizada: perda 0.14216 - precisão 0.97321\n",
            "Validando...\n",
            "Época  43 Finalizada: perda 0.14082 - precisão 0.96875\n",
            "Validando...\n",
            "Época  44 Finalizada: perda 0.13045 - precisão 0.97173\n",
            "Validando...\n",
            "Época  45 Finalizada: perda 0.15291 - precisão 0.95982\n",
            "Validando...\n",
            "Época  46 Finalizada: perda 0.13415 - precisão 0.97173\n",
            "Validando...\n",
            "Época  47 Finalizada: perda 0.10791 - precisão 0.98065\n",
            "Validando...\n",
            "Época  48 Finalizada: perda 0.10314 - precisão 0.97917\n",
            "Validando...\n",
            "Época  49 Finalizada: perda 0.09545 - precisão 0.98065\n",
            "Validando...\n",
            "Época  50 Finalizada: perda 0.10081 - precisão 0.97917\n",
            "Validando...\n",
            "Época  51 Finalizada: perda 0.09677 - precisão 0.98363\n",
            "Validando...\n",
            "Época  52 Finalizada: perda 0.10163 - precisão 0.97321\n",
            "Validando...\n",
            "Época  53 Finalizada: perda 0.07860 - precisão 0.98562\n",
            "Validando...\n",
            "Época  54 Finalizada: perda 0.15175 - precisão 0.94841\n",
            "Validando...\n",
            "Época  55 Finalizada: perda 0.09988 - precisão 0.98065\n",
            "Validando...\n",
            "Época  56 Finalizada: perda 0.09476 - precisão 0.97817\n",
            "Validando...\n",
            "Época  57 Finalizada: perda 0.06783 - precisão 0.98958\n",
            "Validando...\n",
            "Época  58 Finalizada: perda 0.06778 - precisão 0.99008\n",
            "Validando...\n",
            "Época  59 Finalizada: perda 0.06065 - precisão 0.99107\n",
            "Validando...\n",
            "Época  60 Finalizada: perda 0.05332 - precisão 0.99405\n",
            "Validando...\n",
            "Época  61 Finalizada: perda 0.05158 - precisão 0.99008\n",
            "Validando...\n",
            "Época  62 Finalizada: perda 0.07487 - precisão 0.98810\n",
            "Validando...\n",
            "Época  63 Finalizada: perda 0.04411 - precisão 0.99405\n",
            "Validando...\n",
            "Época  64 Finalizada: perda 0.17794 - precisão 0.94792\n",
            "Validando...\n",
            "Época  65 Finalizada: perda 0.10186 - precisão 0.98065\n",
            "Validando...\n",
            "Época  66 Finalizada: perda 0.05453 - precisão 0.99107\n",
            "Validando...\n",
            "Época  67 Finalizada: perda 0.05741 - precisão 0.98562\n",
            "Validando...\n",
            "Época  68 Finalizada: perda 0.04178 - precisão 0.99554\n",
            "Validando...\n",
            "Época  69 Finalizada: perda 0.03626 - precisão 0.99554\n",
            "Validando...\n",
            "Época  70 Finalizada: perda 0.03352 - precisão 0.99702\n",
            "Validando...\n",
            "Época  71 Finalizada: perda 0.03454 - precisão 0.99554\n",
            "Validando...\n",
            "Época  72 Finalizada: perda 0.03342 - precisão 0.99702\n",
            "Validando...\n",
            "Época  73 Finalizada: perda 0.03382 - precisão 0.99554\n",
            "Validando...\n",
            "Época  74 Finalizada: perda 0.05812 - precisão 0.98264\n",
            "Validando...\n",
            "Época  75 Finalizada: perda 0.03652 - precisão 0.99405\n",
            "Validando...\n",
            "Época  76 Finalizada: perda 0.03154 - precisão 0.99554\n",
            "Validando...\n",
            "Época  77 Finalizada: perda 0.02628 - precisão 0.99702\n",
            "Validando...\n",
            "Época  78 Finalizada: perda 0.02515 - precisão 0.99702\n",
            "Validando...\n",
            "Época  79 Finalizada: perda 0.02725 - precisão 0.99702\n",
            "Validando...\n",
            "Época  80 Finalizada: perda 0.02392 - precisão 0.99702\n",
            "Validando...\n",
            "Época  81 Finalizada: perda 0.02411 - precisão 0.99702\n",
            "Validando...\n",
            "Época  82 Finalizada: perda 0.02643 - precisão 0.99554\n",
            "Validando...\n",
            "Época  83 Finalizada: perda 0.02372 - precisão 0.99702\n",
            "Validando...\n",
            "Época  84 Finalizada: perda 0.02050 - precisão 0.99554\n",
            "Validando...\n",
            "Época  85 Finalizada: perda 0.02205 - precisão 0.99405\n",
            "Validando...\n",
            "Época  86 Finalizada: perda 0.02017 - precisão 0.99702\n",
            "Validando...\n",
            "Época  87 Finalizada: perda 0.02237 - precisão 0.99702\n",
            "Validando...\n",
            "Época  88 Finalizada: perda 0.01965 - precisão 0.99554\n",
            "Validando...\n",
            "Época  89 Finalizada: perda 0.02121 - precisão 0.99554\n",
            "Validando...\n",
            "Época  90 Finalizada: perda 0.02037 - precisão 0.99554\n",
            "Validando...\n",
            "Época  91 Finalizada: perda 0.70238 - precisão 0.92659\n",
            "Validando...\n",
            "Época  92 Finalizada: perda 0.52367 - precisão 0.83135\n",
            "Validando...\n",
            "Época  93 Finalizada: perda 0.22853 - precisão 0.94692\n",
            "Validando...\n",
            "Época  94 Finalizada: perda 0.16892 - precisão 0.96627\n",
            "Validando...\n",
            "Época  95 Finalizada: perda 0.15685 - precisão 0.96627\n",
            "Validando...\n",
            "Época  96 Finalizada: perda 0.12541 - precisão 0.98413\n",
            "Validando...\n",
            "Época  97 Finalizada: perda 0.11221 - precisão 0.98958\n",
            "Validando...\n",
            "Época  98 Finalizada: perda 0.09931 - precisão 0.99256\n",
            "Validando...\n",
            "Época  99 Finalizada: perda 0.09244 - precisão 0.99256\n",
            "Validando...\n",
            "Época 100 Finalizada: perda 0.08855 - precisão 0.98810\n"
          ]
        }
      ]
    },
    {
      "cell_type": "code",
      "metadata": {
        "id": "4WKtVjovpO6n"
      },
      "source": [
        "loss_test = [item for item in loss_values]\n",
        "accu_test = [item for item in accu_values]"
      ],
      "execution_count": 17,
      "outputs": []
    },
    {
      "cell_type": "code",
      "metadata": {
        "colab": {
          "base_uri": "https://localhost:8080/"
        },
        "id": "g-MAoFXTx9Gs",
        "outputId": "d8d20e68-53dd-486a-aaba-2712161aacf7"
      },
      "source": [
        "print(len(loss_test), len(accu_test))"
      ],
      "execution_count": 18,
      "outputs": [
        {
          "output_type": "stream",
          "name": "stdout",
          "text": [
            "100 100\n"
          ]
        }
      ]
    },
    {
      "cell_type": "code",
      "metadata": {
        "colab": {
          "base_uri": "https://localhost:8080/",
          "height": 621
        },
        "id": "LnBHP-AypUZA",
        "outputId": "1ee485cd-b514-40e5-aa38-7186de5b2c07"
      },
      "source": [
        "epochs_x = range(1, len(loss_test) + 1)\n",
        "plt.figure(figsize=(20,10))\n",
        "plt.subplot(2,1,1)\n",
        "plt.plot(epochs_x, loss_train, 'bo', label='Training loss')\n",
        "plt.plot(epochs_x, loss_test, 'b', label='Testing loss')\n",
        "plt.title('Training and Testing Loss and Accuracy')\n",
        "plt.xlabel('Epochs')\n",
        "plt.ylabel('Loss')\n",
        "plt.subplot(2,1,2)\n",
        "plt.plot(epochs_x, accu_train, 'bo', label='Training acc')\n",
        "plt.plot(epochs_x, accu_test, 'b', label='Testing acc')\n",
        "plt.xlabel('Epochs')\n",
        "plt.ylabel('Acc')\n",
        "plt.legend()\n",
        "plt.show()"
      ],
      "execution_count": 24,
      "outputs": [
        {
          "output_type": "display_data",
          "data": {
            "image/png": "[encoded data removed]",
            "text/plain": [
              "<Figure size 1440x720 with 2 Axes>"
            ]
          },
          "metadata": {
            "needs_background": "light"
          }
        }
      ]
    },
    {
      "cell_type": "code",
      "metadata": {
        "id": "kJRgzjBYSzs3"
      },
      "source": [
        "numero_de_classes = 4\n",
        "\n",
        "matriz = torch.zeros(numero_de_classes, numero_de_classes)\n",
        "with torch.no_grad():\n",
        "  for i, (inputs, classes) in enumerate(test_loader):\n",
        "    inputs = inputs.to(device)\n",
        "    outputs = net(inputs)\n",
        "    _, previsao = torch.max(outputs, 1)\n",
        "    for k, l in zip(classes.view(-1), previsao.view(-1)):\n",
        "      matriz[k.long(), l.long()] += 1"
      ],
      "execution_count": 20,
      "outputs": []
    },
    {
      "cell_type": "code",
      "metadata": {
        "id": "V4YYVXE2TzlZ",
        "colab": {
          "base_uri": "https://localhost:8080/"
        },
        "outputId": "1cff0240-5843-4604-9d5f-275c14ac4082"
      },
      "source": [
        "print(matriz)"
      ],
      "execution_count": 21,
      "outputs": [
        {
          "output_type": "stream",
          "name": "stdout",
          "text": [
            "tensor([[171.,   3.,   6.,   5.],\n",
            "        [ 32., 142.,   8.,   5.],\n",
            "        [  4.,   0.,  93.,   3.],\n",
            "        [  4.,   0.,   0., 176.]])\n"
          ]
        }
      ]
    },
    {
      "cell_type": "code",
      "metadata": {
        "colab": {
          "base_uri": "https://localhost:8080/"
        },
        "id": "3js-idEpjl-X",
        "outputId": "6e58cffa-2f95-4a4b-b088-ac0be1be229f"
      },
      "source": [
        "print(matriz.diag()/matriz.sum(1))"
      ],
      "execution_count": 22,
      "outputs": [
        {
          "output_type": "stream",
          "name": "stdout",
          "text": [
            "tensor([0.9243, 0.7594, 0.9300, 0.9778])\n"
          ]
        }
      ]
    },
    {
      "cell_type": "code",
      "source": [
        ""
      ],
      "metadata": {
        "id": "c9pZIG2C2Ow4"
      },
      "execution_count": 22,
      "outputs": []
    }
  ]
}