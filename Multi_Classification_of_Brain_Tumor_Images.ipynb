{
  "nbformat": 4,
  "nbformat_minor": 0,
  "metadata": {
    "accelerator": "GPU",
    "colab": {
      "name": "Multi-Classification_of_Brain_Tumor_Images.ipynb",
      "provenance": [],
      "collapsed_sections": [],
      "authorship_tag": "ABX9TyNuaz1G/irijqoJnBJyGrzV"
    },
    "kernelspec": {
      "display_name": "Python 3",
      "name": "python3"
    },
    "language_info": {
      "name": "python"
    }
  },
  "cells": [
    {
      "cell_type": "code",
      "metadata": {
        "colab": {
          "base_uri": "https://localhost:8080/"
        },
        "id": "EvUGd4r9Sn1v",
        "outputId": "d326e121-c2b8-4d73-cf61-3ca959319ac6"
      },
      "source": [
        "#Importação de bibliotecas\n",
        "import torch\n",
        "import numpy\n",
        "\n",
        "import pandas               as pd\n",
        "import torch.nn.functional  as F\n",
        "import matplotlib.pyplot    as plt\n",
        "import plotly.graph_objects as go\n",
        "import plotly.express       as px\n",
        "import cv2                  as cv \n",
        "\n",
        "from PIL                     import Image\n",
        "from torch                   import nn, optim\n",
        "from torchvision             import datasets, transforms as T\n",
        "from plotly.subplots         import make_subplots\n",
        "from google.colab            import drive\n",
        "\n",
        "print(\"Versão:\",torch.__version__)"
      ],
      "execution_count": 1,
      "outputs": [
        {
          "output_type": "stream",
          "name": "stdout",
          "text": [
            "Versão: 1.10.0+cu111\n"
          ]
        }
      ]
    },
    {
      "cell_type": "code",
      "metadata": {
        "colab": {
          "base_uri": "https://localhost:8080/"
        },
        "id": "k2qHreBIhUs4",
        "outputId": "19e1d903-2110-4a34-920b-155db91a149d"
      },
      "source": [
        "#Leituras de arquivo do drive\n",
        "drive.mount('/content/gdrive')"
      ],
      "execution_count": 2,
      "outputs": [
        {
          "output_type": "stream",
          "name": "stdout",
          "text": [
            "Drive already mounted at /content/gdrive; to attempt to forcibly remount, call drive.mount(\"/content/gdrive\", force_remount=True).\n"
          ]
        }
      ]
    },
    {
      "cell_type": "code",
      "source": [
        "#Modelo de arquitetura da CNN\n",
        "class classificador(nn.Module):\n",
        "    def __init__ (self):\n",
        "        super().__init__()\n",
        "      \n",
        "        self.conv1 = nn.Conv2d(in_channels=3, out_channels=64, kernel_size=10, stride=1)\n",
        "        self.conv2 = nn.Conv2d(in_channels=64, out_channels=64, kernel_size=3, stride=1, padding=2)\n",
        "        self.conv3 = nn.Conv2d(in_channels=64, out_channels=64, kernel_size=2, stride=1, padding=2)\n",
        "\n",
        "        self.activation = nn.ReLU() \n",
        "        self.bnorm = nn.BatchNorm2d(num_features=64)\n",
        "        self.pool = nn.MaxPool2d(kernel_size=(2,2))\n",
        "        \n",
        "        self.flatten = nn.Flatten()\n",
        "        \n",
        "        self.linear1 = nn.Linear(in_features=16384, out_features=256)\n",
        "        self.linear2 = nn.Linear(in_features=256, out_features=128)\n",
        "        self.linear3 = nn.Linear(in_features=128, out_features=64)\n",
        "        self.output = nn.Linear(in_features=64, out_features=4)\n",
        "\n",
        "        self.dropout1 = nn.Dropout(p = 0.1)\n",
        "        self.dropout2 = nn.Dropout(p = 0.2)\n",
        "        \n",
        "    def forward(self, X):\n",
        "        X = self.pool(self.bnorm(self.activation(self.conv1(X))))\n",
        "        X = self.dropout1(self.pool(self.activation(self.conv2(X))))\n",
        "        X = self.dropout2(self.pool(self.activation(self.conv3(X))))\n",
        "        X = self.flatten(X)\n",
        "        \n",
        "        X = self.activation(self.linear1(X))\n",
        "        X = self.activation(self.linear2(X))\n",
        "        X = self.activation(self.linear3(X))\n",
        "        X = self.output(X)\n",
        "        \n",
        "        return X"
      ],
      "metadata": {
        "id": "JcaSUGBCgYKM"
      },
      "execution_count": 3,
      "outputs": []
    },
    {
      "cell_type": "code",
      "metadata": {
        "id": "JWx1Wx6lrNaA"
      },
      "source": [
        "path_traino = '/content/gdrive/MyDrive/MRI_TUMOR_CNN/Dataset80_20BrainTumor/Treino'\n",
        "path_teste = '/content/gdrive/MyDrive/MRI_TUMOR_CNN/Dataset80_20BrainTumor/Teste'"
      ],
      "execution_count": 4,
      "outputs": []
    },
    {
      "cell_type": "code",
      "source": [
        "imagem = '/content/gdrive/MyDrive/MRI_TUMOR_CNN/Dataset80_20BrainTumor/Treino/glioma_tumor/glioma (101).jpg'\n",
        "plt.figure(figsize=(5,5))\n",
        "plt.axis(\"off\")\n",
        "plt.imshow(cv.imread(imagem))"
      ],
      "metadata": {
        "colab": {
          "base_uri": "https://localhost:8080/",
          "height": 320
        },
        "id": "y3UdKmUqiSuA",
        "outputId": "284cbc27-bbbd-4ff9-a289-16c69032d9de"
      },
      "execution_count": 5,
      "outputs": [
        {
          "output_type": "execute_result",
          "data": {
            "text/plain": [
              "<matplotlib.image.AxesImage at 0x7f17109eaf50>"
            ]
          },
          "metadata": {},
          "execution_count": 5
        },
        {
          "output_type": "display_data",
          "data": {
            "image/png": "[encoded data removed]",
            "text/plain": [
              "<Figure size 360x360 with 1 Axes>"
            ]
          },
          "metadata": {
            "needs_background": "light"
          }
        }
      ]
    },
    {
      "cell_type": "code",
      "source": [
        "transform = T.Compose(\n",
        "    [\n",
        "     T.ToPILImage(),\n",
        "     T.Resize([128,128]),\n",
        "     T.RandomRotation(45),\n",
        "    ]\n",
        ")\n",
        "\n",
        "agmentation_image = transform(img = cv.imread(imagem))\n",
        "plt.imshow(agmentation_image)"
      ],
      "metadata": {
        "colab": {
          "base_uri": "https://localhost:8080/",
          "height": 285
        },
        "id": "-syzG3y-iSrt",
        "outputId": "7919e4bf-c108-48b9-da48-37a054cec7f9"
      },
      "execution_count": 6,
      "outputs": [
        {
          "output_type": "execute_result",
          "data": {
            "text/plain": [
              "<matplotlib.image.AxesImage at 0x7f17104b1810>"
            ]
          },
          "metadata": {},
          "execution_count": 6
        },
        {
          "output_type": "display_data",
          "data": {
            "image/png": "[encoded data removed]",
            "text/plain": [
              "<Figure size 432x288 with 1 Axes>"
            ]
          },
          "metadata": {
            "needs_background": "light"
          }
        }
      ]
    },
    {
      "cell_type": "code",
      "metadata": {
        "id": "2c8vfiUqvkkk"
      },
      "source": [
        "transform_traino = T.Compose(\n",
        "    [\n",
        "     T.Resize([128,128]),\n",
        "     T.RandomHorizontalFlip(),\n",
        "     T.RandomRotation(45),\n",
        "     T.ToTensor(),\n",
        "    ]\n",
        ")"
      ],
      "execution_count": 7,
      "outputs": []
    },
    {
      "cell_type": "code",
      "source": [
        "transform_teste = T.Compose(\n",
        "    [\n",
        "     T.Resize([128,128]),\n",
        "     T.ToTensor(),\n",
        "    ]\n",
        ")"
      ],
      "metadata": {
        "id": "_z3pXNgjU359"
      },
      "execution_count": 8,
      "outputs": []
    },
    {
      "cell_type": "code",
      "metadata": {
        "id": "MJP9vNppzHsl"
      },
      "source": [
        "traino_dataset = datasets.ImageFolder(path_traino, transform=transform_traino)\n",
        "teste_dataset = datasets.ImageFolder(path_teste, transform=transform_teste)"
      ],
      "execution_count": 9,
      "outputs": []
    },
    {
      "cell_type": "code",
      "metadata": {
        "id": "XrLlnOJIz4o_"
      },
      "source": [
        "loader_treino = torch.utils.data.DataLoader(traino_dataset, batch_size=32, shuffle=True)\n",
        "loader_teste = torch.utils.data.DataLoader(teste_dataset, batch_size=32)"
      ],
      "execution_count": 10,
      "outputs": []
    },
    {
      "cell_type": "code",
      "source": [
        "''''def get_class_distribution(dataset_obj):\n",
        "  count_dict = {k:0 for k, v in dataset_obj.class_to_idx.items()}\n",
        "  for i in dataset_obj:\n",
        "    y_labels = i[1]\n",
        "    y_labels = idx2class[y_labels]\n",
        "    count_dict[y_labels] += 1\n",
        "  return count_dict\n",
        "\n",
        "idx2class = {v: k for k, v in traino_dataset.class_to_idx.items()}\n",
        "df_treino = pd.DataFrame.from_dict([get_class_distribution(traino_dataset)]).melt()\n",
        "\n",
        "idx2class = {v: k for k, v in teste_dataset.class_to_idx.items()}\n",
        "df_teste = pd.DataFrame.from_dict([get_class_distribution(teste_dataset)]).melt()\n",
        "\n",
        "fig = make_subplots(rows=1, cols=2, specs=[[{'type':'domain'}, {'type':'domain'}]])\n",
        "\n",
        "fig.add_trace(go.Pie(\n",
        "    labels=df_treino['variable'],\n",
        "     values=df_treino['value'],\n",
        "      pull=[0, 0, 0.1, 0]),\n",
        "       1, 1)\n",
        "\n",
        "fig.add_trace(go.Pie(\n",
        "    labels=df_teste['variable'],\n",
        "     values=df_teste['value'],\n",
        "      pull=[0, 0, 0.1, 0]),\n",
        "       1, 2)\n",
        "\n",
        "fig.update_traces(hole=.4,\n",
        "    hoverinfo='label+percent',\n",
        "                  textinfo='value',\n",
        "                  textfont_size=12.5,\n",
        "                  marker=dict(\n",
        "                      line=dict(\n",
        "                          color='#000000',\n",
        "                           width=1)\n",
        "                      )\n",
        "                  )\n",
        "\n",
        "fig.update_layout(\n",
        "    title_text = 'Proporção da base de dados de treino e teste',\n",
        ")\n",
        "\n",
        "fig.show()'''"
      ],
      "metadata": {
        "colab": {
          "base_uri": "https://localhost:8080/",
          "height": 140
        },
        "id": "VEQU-lmgwzqj",
        "outputId": "9c20e984-2874-4222-c7d0-afaaa912718c"
      },
      "execution_count": 11,
      "outputs": [
        {
          "output_type": "execute_result",
          "data": {
            "application/vnd.google.colaboratory.intrinsic+json": {
              "type": "string"
            },
            "text/plain": [
              "\"'def get_class_distribution(dataset_obj):\\n  count_dict = {k:0 for k, v in dataset_obj.class_to_idx.items()}\\n  for i in dataset_obj:\\n    y_labels = i[1]\\n    y_labels = idx2class[y_labels]\\n    count_dict[y_labels] += 1\\n  return count_dict\\n\\nidx2class = {v: k for k, v in traino_dataset.class_to_idx.items()}\\ndf_treino = pd.DataFrame.from_dict([get_class_distribution(traino_dataset)]).melt()\\n\\nidx2class = {v: k for k, v in teste_dataset.class_to_idx.items()}\\ndf_teste = pd.DataFrame.from_dict([get_class_distribution(teste_dataset)]).melt()\\n\\nfig = make_subplots(rows=1, cols=2, specs=[[{'type':'domain'}, {'type':'domain'}]])\\n\\nfig.add_trace(go.Pie(\\n    labels=df_treino['variable'],\\n     values=df_treino['value'],\\n      pull=[0, 0, 0.1, 0]),\\n       1, 1)\\n\\nfig.add_trace(go.Pie(\\n    labels=df_teste['variable'],\\n     values=df_teste['value'],\\n      pull=[0, 0, 0.1, 0]),\\n       1, 2)\\n\\nfig.update_traces(hole=.4,\\n    hoverinfo='label+percent',\\n                  textinfo='value',\\n                  textfont_size=12.5,\\n                  marker=dict(\\n                      line=dict(\\n                          color='#000000',\\n                           width=1)\\n                      )\\n                  )\\n\\nfig.update_layout(\\n    title_text = 'Proporção da base de dados de treino e teste',\\n)\\n\\nfig.show()\""
            ]
          },
          "metadata": {},
          "execution_count": 11
        }
      ]
    },
    {
      "cell_type": "code",
      "metadata": {
        "id": "RZ-TiO9Bh2mz"
      },
      "source": [
        "net = classificador()\n",
        "criterion = nn.CrossEntropyLoss()\n",
        "optimizer = optim.SGD(net.parameters(), lr=0.001)"
      ],
      "execution_count": 12,
      "outputs": []
    },
    {
      "cell_type": "code",
      "metadata": {
        "colab": {
          "base_uri": "https://localhost:8080/"
        },
        "id": "durV3rM4312g",
        "outputId": "09c585db-d402-4217-902e-8e0bab188d72"
      },
      "source": [
        "#Setamos a GPU necessária para realizar nossa classificação\n",
        "device = torch.device(\"cuda\") if torch.cuda.is_available else torch.device(\"cpu\")\n",
        "print(device,\"\\n\")\n",
        "\n",
        "net.to(device)"
      ],
      "execution_count": 13,
      "outputs": [
        {
          "output_type": "stream",
          "name": "stdout",
          "text": [
            "cuda \n",
            "\n"
          ]
        },
        {
          "output_type": "execute_result",
          "data": {
            "text/plain": [
              "classificador(\n",
              "  (conv1): Conv2d(3, 64, kernel_size=(10, 10), stride=(1, 1))\n",
              "  (conv2): Conv2d(64, 64, kernel_size=(3, 3), stride=(1, 1), padding=(2, 2))\n",
              "  (conv3): Conv2d(64, 64, kernel_size=(2, 2), stride=(1, 1), padding=(2, 2))\n",
              "  (activation): ReLU()\n",
              "  (bnorm): BatchNorm2d(64, eps=1e-05, momentum=0.1, affine=True, track_running_stats=True)\n",
              "  (pool): MaxPool2d(kernel_size=(2, 2), stride=(2, 2), padding=0, dilation=1, ceil_mode=False)\n",
              "  (flatten): Flatten(start_dim=1, end_dim=-1)\n",
              "  (linear1): Linear(in_features=16384, out_features=256, bias=True)\n",
              "  (linear2): Linear(in_features=256, out_features=128, bias=True)\n",
              "  (linear3): Linear(in_features=128, out_features=64, bias=True)\n",
              "  (output): Linear(in_features=64, out_features=4, bias=True)\n",
              "  (dropout1): Dropout(p=0.1, inplace=False)\n",
              "  (dropout2): Dropout(p=0.2, inplace=False)\n",
              ")"
            ]
          },
          "metadata": {},
          "execution_count": 13
        }
      ]
    },
    {
      "cell_type": "code",
      "metadata": {
        "id": "_bI3AYHY371r"
      },
      "source": [
        "loss_values = []\n",
        "accu_values = []\n",
        "def training_loop(loader, epoch):\n",
        "    running_loss = 0.\n",
        "    running_accuracy = 0.\n",
        "    for i, data in enumerate(loader):\n",
        "        \n",
        "        inputs, labels = data\n",
        "        \n",
        "        inputs, labels = inputs.to(device), labels.to(device)\n",
        "        \n",
        "        optimizer.zero_grad()\n",
        "        outputs = net(inputs)\n",
        "        \n",
        "        loss = criterion(outputs, labels)\n",
        "        loss.backward()\n",
        "        \n",
        "        optimizer.step()\n",
        "        \n",
        "        running_loss += loss.item()\n",
        "        #loss_values.append(running_loss / len(train_dataset))\n",
        "        \n",
        "        ps = F.softmax(outputs, dim=1)\n",
        "        top_p, top_class = ps.topk(k=1, dim=1)\n",
        "        equals = top_class == labels.view(*top_class.shape)\n",
        "        \n",
        "        accuracy= torch.mean(equals.type(torch.float))\n",
        "        \n",
        "        running_accuracy += accuracy\n",
        "        \n",
        "        #Imprimir os dados referentes a este loop\n",
        "        print(\"Época {:3d} - Loop {:3d} de {:3d}: perda {:03.2f} - precisão {:03.2f}\".format(epoch + 1, i+1, len(loader)\\\n",
        "                                                                                             , loss, accuracy), end= '\\r')\n",
        "    #Impressão referente à épocas\n",
        "    print(\"Época {:3d}: perda {:.5f} - precisão {:.5f}\".format(epoch+1, running_loss/len(loader)\\\n",
        "                                                                         ,running_accuracy/len(loader)))\n",
        "    loss_values.append(running_loss / len(loader))\n",
        "    accu_values.append(running_accuracy/len(loader))"
      ],
      "execution_count": 14,
      "outputs": []
    },
    {
      "cell_type": "code",
      "metadata": {
        "id": "NOIzLlztCUXS"
      },
      "source": [
        "loss_train = [item for item in loss_values]\n",
        "accu_train = [item for item in accu_values]"
      ],
      "execution_count": 15,
      "outputs": []
    },
    {
      "cell_type": "code",
      "metadata": {
        "colab": {
          "base_uri": "https://localhost:8080/"
        },
        "id": "9V4gBYXK4bd2",
        "outputId": "300ba5fc-cf47-4212-d207-084e3725184d"
      },
      "source": [
        "print(\"Treinando...\")\n",
        "for epoch in range(500):\n",
        "    training_loop(loader_treino, epoch)\n",
        "    net.eval()\n",
        "    net.train()"
      ],
      "execution_count": null,
      "outputs": [
        {
          "output_type": "stream",
          "name": "stdout",
          "text": [
            "Treinando...\n",
            "Época   1: perda 1.38856 - precisão 0.26265\n",
            "Época   2: perda 1.38235 - precisão 0.27569\n",
            "Época   3: perda 1.37643 - precisão 0.27965\n",
            "Época   4: perda 1.37049 - precisão 0.30046\n",
            "Época   5: perda 1.36392 - precisão 0.36623\n",
            "Época   6: perda 1.35710 - precisão 0.40564\n",
            "Época   7: perda 1.34862 - precisão 0.42370\n",
            "Época   8: perda 1.33889 - precisão 0.44703\n",
            "Época   9: perda 1.32794 - precisão 0.45762\n",
            "Época  10: perda 1.31433 - precisão 0.47325\n",
            "Época  11: perda 1.29690 - precisão 0.47180\n",
            "Época  12: perda 1.27658 - precisão 0.47591\n",
            "Época  13: perda 1.24824 - precisão 0.48163\n",
            "Época  14: perda 1.21728 - precisão 0.49108\n",
            "Época  15: perda 1.18407 - precisão 0.48643\n",
            "Época  16: perda 1.14907 - precisão 0.49405\n",
            "Época  17: perda 1.11655 - precisão 0.50915\n",
            "Época  18: perda 1.07929 - precisão 0.52774\n",
            "Época  19: perda 1.04897 - precisão 0.55831\n",
            "Época  20: perda 1.01839 - precisão 0.58377\n",
            "Época  21: perda 0.98545 - precisão 0.58559\n",
            "Época  22: perda 0.96393 - precisão 0.59848\n",
            "Época  23: perda 0.94371 - precisão 0.60823\n",
            "Época  24: perda 0.92758 - precisão 0.60671\n",
            "Época  25: perda 0.90484 - precisão 0.61928\n",
            "Época  26: perda 0.88324 - precisão 0.62668\n",
            "Época  27: perda 0.86144 - precisão 0.63148\n",
            "Época  28: perda 0.85530 - precisão 0.63476\n",
            "Época  29: perda 0.83845 - precisão 0.63727\n",
            "Época  30: perda 0.82096 - precisão 0.63971\n",
            "Época  31: perda 0.81674 - precisão 0.65290\n",
            "Época  32: perda 0.79981 - precisão 0.65495\n",
            "Época  33: perda 0.78832 - precisão 0.65678\n",
            "Época  34: perda 0.77370 - precisão 0.66532\n",
            "Época  35: perda 0.77129 - precisão 0.66700\n",
            "Época  36: perda 0.76627 - precisão 0.66623\n",
            "Época  37: perda 0.74787 - precisão 0.68468\n",
            "Época  38: perda 0.74424 - precisão 0.68681\n",
            "Época  39: perda 0.73966 - precisão 0.68605\n",
            "Época  40: perda 0.72992 - precisão 0.68399\n",
            "Época  41: perda 0.73061 - precisão 0.68819\n",
            "Época  42: perda 0.71728 - precisão 0.69848\n",
            "Época  43: perda 0.71039 - precisão 0.69878\n",
            "Época  44: perda 0.71713 - precisão 0.69078\n",
            "Época  45: perda 0.69188 - precisão 0.70892\n",
            "Época  46: perda 0.68965 - precisão 0.70671\n",
            "Época  47: perda 0.69287 - precisão 0.70785\n",
            "Época  48: perda 0.69424 - precisão 0.70351\n",
            "Época  49: perda 0.68387 - precisão 0.71494\n",
            "Época  50: perda 0.67255 - precisão 0.71311\n",
            "Época  51: perda 0.69116 - precisão 0.71966\n",
            "Época  52: perda 0.68346 - precisão 0.72005\n",
            "Época  53: perda 0.66693 - precisão 0.71700\n",
            "Época  54: perda 0.66732 - precisão 0.72630\n",
            "Época  55: perda 0.67192 - precisão 0.72752\n",
            "Época  56: perda 0.65708 - precisão 0.72797\n",
            "Época  57: perda 0.65874 - precisão 0.72675\n",
            "Época  58: perda 0.65088 - precisão 0.72995\n",
            "Época  59: perda 0.64460 - precisão 0.72919\n",
            "Época  60: perda 0.65268 - precisão 0.72797\n",
            "Época  61: perda 0.66326 - precisão 0.71585\n",
            "Época  62: perda 0.64420 - precisão 0.73422\n",
            "Época  63: perda 0.63905 - precisão 0.73880\n",
            "Época  64: perda 0.63582 - precisão 0.73422\n",
            "Época  65: perda 0.62611 - precisão 0.73377\n",
            "Época  66: perda 0.62271 - precisão 0.74604\n",
            "Época  67: perda 0.62727 - precisão 0.73613\n",
            "Época  68: perda 0.63666 - precisão 0.73582\n",
            "Época  69: perda 0.61053 - precisão 0.75678\n",
            "Época  70: perda 0.61795 - precisão 0.74649\n",
            "Época  71: perda 0.61469 - precisão 0.74611\n",
            "Época  72: perda 0.61381 - precisão 0.75130\n",
            "Época  73: perda 0.61646 - precisão 0.75160\n",
            "Época  74: perda 0.60329 - precisão 0.76037\n",
            "Época  75: perda 0.61228 - precisão 0.74268\n",
            "Época  76: perda 0.60992 - precisão 0.74619\n",
            "Época  77: perda 0.60053 - precisão 0.74588\n",
            "Época  78: perda 0.59502 - precisão 0.75869\n",
            "Época  79: perda 0.59259 - precisão 0.75000\n",
            "Época  80: perda 0.59157 - precisão 0.75907\n",
            "Época  81: perda 0.58235 - precisão 0.75495\n",
            "Época  82: perda 0.58007 - precisão 0.75937\n",
            "Época  83: perda 0.58098 - precisão 0.75922\n",
            "Época  84: perda 0.58019 - precisão 0.75922\n",
            "Época  85: perda 0.57225 - precisão 0.76654\n",
            "Época  86: perda 0.58294 - precisão 0.76547\n",
            "Época  87: perda 0.57134 - precisão 0.76463\n",
            "Época  88: perda 0.57883 - precisão 0.76456\n",
            "Época  89: perda 0.56360 - precisão 0.76944\n",
            "Época  90: perda 0.56280 - precisão 0.75564\n",
            "Época  91: perda 0.55826 - precisão 0.77431\n",
            "Época  92: perda 0.55880 - precisão 0.77439\n",
            "Época  93: perda 0.54821 - precisão 0.77691\n",
            "Época  94: perda 0.55828 - precisão 0.77401\n",
            "Época  95: perda 0.54463 - precisão 0.77530\n",
            "Época  96: perda 0.55358 - precisão 0.77721\n",
            "Época  97: perda 0.54081 - precisão 0.77675\n",
            "Época  98: perda 0.55042 - precisão 0.77835\n",
            "Época  99: perda 0.54525 - precisão 0.78216\n",
            "Época 100: perda 0.52885 - precisão 0.78255\n",
            "Época 101: perda 0.53900 - precisão 0.78796\n",
            "Época 102: perda 0.52989 - precisão 0.79047\n",
            "Época 103: perda 0.52335 - precisão 0.78072\n",
            "Época 104: perda 0.52731 - precisão 0.77553\n",
            "Época 105: perda 0.52620 - precisão 0.78605\n",
            "Época 106: perda 0.52462 - precisão 0.78095\n",
            "Época 107: perda 0.51878 - precisão 0.78674\n",
            "Época 108: perda 0.51530 - precisão 0.78460\n",
            "Época 109: perda 0.50680 - precisão 0.78956\n",
            "Época 110: perda 0.50600 - precisão 0.79573\n",
            "Época 111: perda 0.50477 - precisão 0.78636\n",
            "Época 112: perda 0.50106 - precisão 0.80107\n",
            "Época 113: perda 0.49725 - precisão 0.78590\n",
            "Época 114: perda 0.50118 - precisão 0.79802\n",
            "Época 115: perda 0.50792 - precisão 0.79451\n",
            "Época 116: perda 0.50842 - precisão 0.79245\n",
            "Época 117: perda 0.49054 - precisão 0.79345\n",
            "Época 118: perda 0.49591 - precisão 0.79444\n",
            "Época 119: perda 0.47854 - precisão 0.80358\n",
            "Época 120: perda 0.47627 - precisão 0.80549\n",
            "Época 121: perda 0.46821 - precisão 0.80282\n",
            "Época 122: perda 0.46731 - precisão 0.81159\n",
            "Época 123: perda 0.47443 - precisão 0.80503\n",
            "Época 124: perda 0.46909 - precisão 0.80023\n",
            "Época 125: perda 0.46426 - precisão 0.81029\n",
            "Época 126: perda 0.45938 - precisão 0.81547\n",
            "Época 127: perda 0.45685 - precisão 0.80709\n",
            "Época 128: perda 0.45518 - precisão 0.80816\n",
            "Época 129: perda 0.45580 - precisão 0.81585\n",
            "Época 130: perda 0.44387 - precisão 0.81791\n",
            "Época 131: perda 0.45187 - precisão 0.81181\n",
            "Época 132: perda 0.45114 - precisão 0.80655\n",
            "Época 133: perda 0.44437 - precisão 0.81014\n",
            "Época 134: perda 0.42334 - precisão 0.82401\n",
            "Época 135: perda 0.44178 - precisão 0.81959\n",
            "Época 136: perda 0.44530 - precisão 0.81524\n",
            "Época 137: perda 0.45941 - precisão 0.80823\n",
            "Época 138: perda 0.42602 - precisão 0.83064\n",
            "Época 139: perda 0.43343 - precisão 0.82149\n",
            "Época 140: perda 0.42253 - precisão 0.82386\n",
            "Época 141: perda 0.43406 - precisão 0.82058\n",
            "Época 142: perda 0.40947 - precisão 0.83338\n",
            "Época 143: perda 0.42272 - precisão 0.82599\n",
            "Época 144: perda 0.41384 - precisão 0.83377\n",
            "Época 145: perda 0.42276 - precisão 0.82309\n",
            "Época 146: perda 0.41772 - precisão 0.83422\n",
            "Época 147: perda 0.41518 - precisão 0.83674\n",
            "Época 148: perda 0.41511 - precisão 0.83049\n",
            "Época 149: perda 0.40615 - precisão 0.82790\n",
            "Época 150: perda 0.39690 - precisão 0.84024\n",
            "Época 151: perda 0.40548 - precisão 0.83971\n",
            "Época 152: perda 0.38864 - precisão 0.84230\n",
            "Época 153: perda 0.39124 - precisão 0.83552\n",
            "Época 154: perda 0.39967 - precisão 0.83514\n",
            "Época 155: perda 0.39710 - precisão 0.84474\n",
            "Época 156: perda 0.40117 - precisão 0.83468\n",
            "Época 157: perda 0.38629 - precisão 0.84970\n",
            "Época 158: perda 0.40234 - precisão 0.83819\n",
            "Época 159: perda 0.37614 - precisão 0.84695\n",
            "Época 160: perda 0.38653 - precisão 0.83788\n",
            "Época 161: perda 0.37570 - precisão 0.85259\n",
            "Época 162: perda 0.36780 - precisão 0.85130\n",
            "Época 163: perda 0.37260 - precisão 0.85152\n",
            "Época 164: perda 0.36711 - precisão 0.85869\n",
            "Época 165: perda 0.35914 - precisão 0.86082\n",
            "Época 166: perda 0.36736 - precisão 0.84916\n",
            "Época 167: perda 0.36335 - precisão 0.85206\n",
            "Época 168: perda 0.36984 - precisão 0.84962\n",
            "Época 169: perda 0.35991 - precisão 0.85541\n",
            "Época 170: perda 0.37425 - precisão 0.85038\n",
            "Época 171: perda 0.36300 - precisão 0.84901\n",
            "Época 172: perda 0.37955 - precisão 0.83918\n",
            "Época 173: perda 0.35513 - precisão 0.85282\n",
            "Época 174: perda 0.35841 - precisão 0.85518\n",
            "Época 175: perda 0.35560 - precisão 0.85831\n",
            "Época 176: perda 0.34555 - precisão 0.86090\n",
            "Época 177: perda 0.34817 - precisão 0.85762\n",
            "Época 178: perda 0.34243 - precisão 0.86067\n",
            "Época 179: perda 0.34451 - precisão 0.85381\n",
            "Época 180: perda 0.35504 - precisão 0.85297\n",
            "Época 181: perda 0.33995 - precisão 0.86166\n",
            "Época 182: perda 0.33852 - precisão 0.87104\n",
            "Época 183: perda 0.33138 - precisão 0.86418\n",
            "Época 184: perda 0.32696 - precisão 0.86517\n",
            "Época 185: perda 0.31495 - precisão 0.87607\n",
            "Época 186: perda 0.34037 - precisão 0.85732\n",
            "Época 187: perda 0.31468 - precisão 0.86837\n",
            "Época 188: perda 0.31289 - precisão 0.87012\n",
            "Época 189: perda 0.31607 - precisão 0.87584\n",
            "Época 190: perda 0.32235 - precisão 0.87355\n",
            "Época 191: perda 0.31985 - precisão 0.87142\n",
            "Época 192: perda 0.31540 - precisão 0.87508\n",
            "Época 193: perda 0.30404 - precisão 0.87828\n",
            "Época 194: perda 0.31633 - precisão 0.87264\n",
            "Época 195: perda 0.30570 - precisão 0.87492\n",
            "Época 196: perda 0.30120 - precisão 0.88087\n",
            "Época 197: perda 0.31407 - precisão 0.87157\n",
            "Época 198: perda 0.29983 - precisão 0.87942\n",
            "Época 199: perda 0.30557 - precisão 0.87805\n",
            "Época 200: perda 0.29948 - precisão 0.87889\n",
            "Época 201: perda 0.28979 - precisão 0.89055\n",
            "Época 202: perda 0.29882 - precisão 0.88133\n",
            "Época 203: perda 0.29068 - precisão 0.88506\n",
            "Época 204: perda 0.28432 - precisão 0.89512\n",
            "Época 205: perda 0.28312 - precisão 0.88407\n",
            "Época 206: perda 0.28215 - precisão 0.88392\n",
            "Época 207: perda 0.29319 - precisão 0.88521\n",
            "Época 208: perda 0.29219 - precisão 0.88186\n",
            "Época 209: perda 0.27816 - precisão 0.89284\n",
            "Época 210: perda 0.29913 - precisão 0.88194\n",
            "Época 211: perda 0.27353 - precisão 0.89794\n",
            "Época 212: perda 0.27796 - precisão 0.89192\n",
            "Época 213: perda 0.28949 - precisão 0.88422\n",
            "Época 214: perda 0.28128 - precisão 0.88864\n",
            "Época 215: perda 0.27433 - precisão 0.88765\n",
            "Época 216: perda 0.27401 - precisão 0.89146\n",
            "Época 217: perda 0.27839 - precisão 0.88811\n",
            "Época 218: perda 0.27459 - precisão 0.88849\n",
            "Época 219: perda 0.24515 - precisão 0.90274\n",
            "Época 220: perda 0.28360 - precisão 0.88445\n",
            "Época 221: perda 0.27584 - precisão 0.89108\n",
            "Época 222: perda 0.26269 - precisão 0.89619\n",
            "Época 223: perda 0.25036 - precisão 0.90366\n",
            "Época 224: perda 0.25075 - precisão 0.90389\n",
            "Época 225: perda 0.26634 - precisão 0.90655\n",
            "Época 226: perda 0.24774 - precisão 0.90457\n",
            "Época 227: perda 0.25499 - precisão 0.89825\n",
            "Época 228: perda 0.25349 - precisão 0.90404\n",
            "Época 229: perda 0.25084 - precisão 0.90267\n",
            "Época 230: perda 0.24085 - precisão 0.90198\n",
            "Época 231: perda 0.24787 - precisão 0.91189\n",
            "Época 232: perda 0.24954 - precisão 0.90084\n",
            "Época 233: perda 0.23839 - precisão 0.91418\n",
            "Época 234: perda 0.23990 - precisão 0.90373\n",
            "Época 235: perda 0.24843 - precisão 0.90351\n",
            "Época 236: perda 0.23386 - precisão 0.91021\n",
            "Época 237: perda 0.22609 - precisão 0.90800\n",
            "Época 238: perda 0.23386 - precisão 0.91189\n",
            "Época 239: perda 0.23097 - precisão 0.91463\n",
            "Época 240: perda 0.23524 - precisão 0.91479\n",
            "Época 241: perda 0.22032 - precisão 0.91265\n",
            "Época 242: perda 0.23195 - precisão 0.91113\n",
            "Época 243: perda 0.22290 - precisão 0.91067\n",
            "Época 244: perda 0.21727 - precisão 0.91814\n",
            "Época 245: perda 0.23048 - precisão 0.91860\n",
            "Época 246: perda 0.22938 - precisão 0.91174\n",
            "Época 247: perda 0.22315 - precisão 0.90968\n",
            "Época 248: perda 0.24242 - precisão 0.90579\n",
            "Época 249: perda 0.23025 - precisão 0.91288\n",
            "Época 250: perda 0.21815 - precisão 0.91784\n",
            "Época 251: perda 0.22430 - precisão 0.91380\n",
            "Época 252: perda 0.23622 - precisão 0.90694\n",
            "Época 253: perda 0.21957 - precisão 0.91479\n",
            "Época 254: perda 0.21358 - precisão 0.91944\n",
            "Época 255: perda 0.22398 - precisão 0.91585\n",
            "Época 256: perda 0.20906 - precisão 0.92035\n",
            "Época 257: perda 0.20400 - precisão 0.92508\n",
            "Época 258: perda 0.20523 - precisão 0.92317\n",
            "Época 259: perda 0.21976 - precisão 0.91410\n",
            "Época 260: perda 0.21718 - precisão 0.91623\n",
            "Época 261: perda 0.20977 - precisão 0.92370\n",
            "Época 262: perda 0.21049 - precisão 0.91684\n",
            "Época 263: perda 0.18997 - precisão 0.93194\n",
            "Época 264: perda 0.20838 - precisão 0.92340\n",
            "Época 265: perda 0.21054 - precisão 0.92073\n",
            "Época 266: perda 0.18628 - precisão 0.92622\n",
            "Época 267: perda 0.20516 - precisão 0.92226\n",
            "Época 268: perda 0.19403 - precisão 0.92508\n",
            "Época 269: perda 0.19051 - precisão 0.92889\n",
            "Época 270: perda 0.20507 - precisão 0.92081\n",
            "Época 271: perda 0.20414 - precisão 0.91593\n",
            "Época 272: perda 0.20118 - precisão 0.92683\n",
            "Época 273: perda 0.19142 - precisão 0.93155\n",
            "Época 274: perda 0.19103 - precisão 0.92881\n",
            "Época 275: perda 0.18190 - precisão 0.93293\n",
            "Época 276: perda 0.20193 - precisão 0.92447\n",
            "Época 277: perda 0.18495 - precisão 0.93186\n",
            "Época 278: perda 0.19016 - precisão 0.93003\n",
            "Época 279: perda 0.18191 - precisão 0.93148\n",
            "Época 280: perda 0.19168 - precisão 0.93255\n",
            "Época 281: perda 0.18266 - precisão 0.93034\n",
            "Época 282: perda 0.19320 - precisão 0.92409\n",
            "Época 283: perda 0.18969 - precisão 0.92546\n"
          ]
        }
      ]
    },
    {
      "cell_type": "code",
      "metadata": {
        "id": "FoC7sC-I7-M8"
      },
      "source": [
        "loss_train = [item for item in loss_values]\n",
        "accu_train = [item for item in accu_values]\n",
        "print(len(loss_train), len(accu_train))"
      ],
      "execution_count": null,
      "outputs": []
    },
    {
      "cell_type": "code",
      "metadata": {
        "id": "tZ_S8ryZpLsg"
      },
      "source": [
        "accu_values.clear()\n",
        "loss_values.clear()\n",
        "print(\"Validando...\")\n",
        "for epoch in range(500):\n",
        "    net.eval()\n",
        "    training_loop(loader_teste, epoch)\n",
        "    net.train()"
      ],
      "execution_count": null,
      "outputs": []
    },
    {
      "cell_type": "code",
      "metadata": {
        "id": "4WKtVjovpO6n"
      },
      "source": [
        "loss_test = [item for item in loss_values]\n",
        "accu_test = [item for item in accu_values]"
      ],
      "execution_count": null,
      "outputs": []
    },
    {
      "cell_type": "code",
      "metadata": {
        "id": "g-MAoFXTx9Gs"
      },
      "source": [
        "print(len(loss_test), len(accu_test))"
      ],
      "execution_count": null,
      "outputs": []
    },
    {
      "cell_type": "code",
      "metadata": {
        "id": "LnBHP-AypUZA"
      },
      "source": [
        "epochs_x = range(1, len(loss_test) + 1)\n",
        "plt.figure(figsize=(20,10))\n",
        "plt.subplot(2,1,1)\n",
        "plt.plot(epochs_x, loss_train, 'bo', label='Training loss')\n",
        "plt.plot(epochs_x, loss_test, 'b', label='Testing loss')\n",
        "plt.title('Training and Testing Loss and Accuracy')\n",
        "plt.xlabel('Epochs')\n",
        "plt.ylabel('Loss')\n",
        "plt.subplot(2,1,2)\n",
        "plt.plot(epochs_x, accu_train, 'bo', label='Training acc')\n",
        "plt.plot(epochs_x, accu_test, 'b', label='Testing acc')\n",
        "plt.xlabel('Epochs')\n",
        "plt.ylabel('Acc')\n",
        "plt.legend()\n",
        "plt.show()"
      ],
      "execution_count": null,
      "outputs": []
    },
    {
      "cell_type": "code",
      "metadata": {
        "id": "kJRgzjBYSzs3"
      },
      "source": [
        "numero_de_classes = 4\n",
        "\n",
        "matriz = torch.zeros(numero_de_classes, numero_de_classes)\n",
        "with torch.no_grad():\n",
        "  for i, (inputs, classes) in enumerate(loader_teste):\n",
        "    inputs = inputs.to(device)\n",
        "    outputs = net(inputs)\n",
        "    _, previsao = torch.max(outputs, 1)\n",
        "    for k, l in zip(classes.view(-1), previsao.view(-1)):\n",
        "      matriz[k.long(), l.long()] += 1"
      ],
      "execution_count": null,
      "outputs": []
    },
    {
      "cell_type": "code",
      "metadata": {
        "id": "V4YYVXE2TzlZ"
      },
      "source": [
        "print(matriz)"
      ],
      "execution_count": null,
      "outputs": []
    },
    {
      "cell_type": "code",
      "metadata": {
        "id": "3js-idEpjl-X"
      },
      "source": [
        "print(matriz.diag()/matriz.sum(1))"
      ],
      "execution_count": null,
      "outputs": []
    }
  ]
}