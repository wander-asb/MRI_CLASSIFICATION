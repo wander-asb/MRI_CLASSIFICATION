{
  "nbformat": 4,
  "nbformat_minor": 0,
  "metadata": {
    "colab": {
      "name": "BrainTumorBinary.ipynb",
      "provenance": [],
      "collapsed_sections": [],
      "authorship_tag": "ABX9TyMDgvYHQmltK+anzekqIdyn"
    },
    "kernelspec": {
      "name": "python3",
      "display_name": "Python 3"
    },
    "language_info": {
      "name": "python"
    },
    "accelerator": "GPU"
  },
  "cells": [
    {
      "cell_type": "code",
      "execution_count": 1,
      "metadata": {
        "colab": {
          "base_uri": "https://localhost:8080/"
        },
        "id": "ZPp35j46lubE",
        "outputId": "ca1629d3-4fbf-4caf-a91d-e6a88d61d2bf"
      },
      "outputs": [
        {
          "output_type": "stream",
          "name": "stdout",
          "text": [
            "Versão: 1.10.0+cu111\n"
          ]
        }
      ],
      "source": [
        "import torch    \n",
        "import os  \n",
        "import numpy                as np\n",
        "import pandas               as pd\n",
        "import torch.nn.functional  as F\n",
        "import matplotlib.pyplot    as plt\n",
        "import seaborn              as sns\n",
        "import plotly.graph_objects as go\n",
        "import plotly.express       as px\n",
        "\n",
        "from PIL                         import Image\n",
        "from torch                       import nn, optim\n",
        "from torch.nn.modules            import padding\n",
        "from torch.nn.modules.activation import ReLU\n",
        "from torchvision                 import datasets, transforms as T\n",
        "from plotly.subplots             import make_subplots\n",
        "from google.colab                import drive\n",
        "\n",
        "print(\"Versão:\",torch.__version__)"
      ]
    },
    {
      "cell_type": "code",
      "source": [
        "drive.mount('/content/gdrive')"
      ],
      "metadata": {
        "colab": {
          "base_uri": "https://localhost:8080/"
        },
        "id": "JIhgs9GglwrB",
        "outputId": "9741409c-1c48-448d-93f6-f7b41c54a4d4"
      },
      "execution_count": 2,
      "outputs": [
        {
          "output_type": "stream",
          "name": "stdout",
          "text": [
            "Mounted at /content/gdrive\n"
          ]
        }
      ]
    },
    {
      "cell_type": "code",
      "source": [
        "from torchvision.transforms.transforms import RandomHorizontalFlip\n",
        "batch_size = 12\n",
        "epochs = 150\n",
        "categorias = ['Tumor','Saudável']\n",
        "\n",
        "transform_train = T.Compose(\n",
        "    [\n",
        "     T.Resize([128,128]),\n",
        "     #T.RandomHorizontalFlip(),\n",
        "     #T.RandomRotation(degrees=0.45),\n",
        "     T.ToTensor(),\n",
        "    ]\n",
        ")\n",
        "\n",
        "transform_teste = T.Compose(\n",
        "    [\n",
        "     T.Resize([128,128]),\n",
        "     T.ToTensor(),\n",
        "    ]\n",
        ")"
      ],
      "metadata": {
        "id": "LNY6qUnIlyYh"
      },
      "execution_count": 3,
      "outputs": []
    },
    {
      "cell_type": "code",
      "source": [
        "path_teste = '/content/gdrive/MyDrive/MRI_TUMOR_CNN/DatasetBinarioUndersampling/Test'\n",
        "path_treino = '/content/gdrive/MyDrive/MRI_TUMOR_CNN/DatasetBinarioUndersampling/Train'"
      ],
      "metadata": {
        "id": "Z-hQa3fbl0Sj"
      },
      "execution_count": 4,
      "outputs": []
    },
    {
      "cell_type": "code",
      "source": [
        "dataset_treino = datasets.ImageFolder(path_treino, transform=transform_train)\n",
        "loader_treino = torch.utils.data.DataLoader(dataset_treino, batch_size=batch_size, shuffle=True)"
      ],
      "metadata": {
        "id": "ifD-6ysLl4so"
      },
      "execution_count": 5,
      "outputs": []
    },
    {
      "cell_type": "code",
      "source": [
        "dataset_teste = datasets.ImageFolder(path_teste, transform=transform_teste)\n",
        "loader_teste = torch.utils.data.DataLoader(dataset_teste, batch_size=batch_size, shuffle=False)"
      ],
      "metadata": {
        "id": "pLRgrlSWl6r5"
      },
      "execution_count": 6,
      "outputs": []
    },
    {
      "cell_type": "code",
      "source": [
        "def base_de_dados(dataset):\n",
        "  quantidade = {k: 0 for k, v in dataset.class_to_idx.items()}\n",
        "  for i in dataset:\n",
        "    rotulos = i[1]\n",
        "    rotulos = indice_por_classe[rotulos]\n",
        "    quantidade[rotulos] += 1\n",
        "  return quantidade\n",
        "\n",
        "indice_por_classe = {v: k for k, v in dataset_treino.class_to_idx.items()}\n",
        "df_treino = pd.DataFrame.from_dict([base_de_dados(dataset_treino)]).melt()\n",
        "\n",
        "indice_por_classe = {v: k for k, v in dataset_teste.class_to_idx.items()}\n",
        "df_teste = pd.DataFrame.from_dict([base_de_dados(dataset_teste)]).melt()\n",
        "\n",
        "fig = make_subplots(rows=1, cols=2, specs=[[{'type':'domain'}, {'type':'domain'}]])\n",
        "\n",
        "fig.add_trace(go.Pie(\n",
        "    labels=df_treino['variable'],\n",
        "     values=df_treino['value'],\n",
        "      pull=[0, 0, 0.1, 0]),\n",
        "       1, 1)\n",
        "\n",
        "fig.add_trace(go.Pie(\n",
        "    labels=df_teste['variable'],\n",
        "     values=df_teste['value'],\n",
        "      pull=[0, 0, 0.1, 0]),\n",
        "       1, 2)\n",
        "\n",
        "fig.update_traces(hole=.4,\n",
        "    hoverinfo='label+percent',\n",
        "                  textinfo='value',\n",
        "                  textfont_size=12.5,\n",
        "                  marker=dict(\n",
        "                      line=dict(\n",
        "                          color='#000000',\n",
        "                           width=1)\n",
        "                      )\n",
        "                  )\n",
        "\n",
        "fig.update_layout(\n",
        "    title_text = 'Proporção da base de dados de treino e teste',\n",
        ")\n",
        "\n",
        "fig.show()"
      ],
      "metadata": {
        "colab": {
          "base_uri": "https://localhost:8080/",
          "height": 542
        },
        "id": "tVz9QZePpfNr",
        "outputId": "5cdad442-4120-4976-93b7-ca619f52bc84"
      },
      "execution_count": null,
      "outputs": [
        {
          "output_type": "display_data",
          "data": {
            "text/html": [
              "<html>\n",
              "<head><meta charset=\"utf-8\" /></head>\n",
              "<body>\n",
              "    <div>\n",
              "            <script src=\"https://cdnjs.cloudflare.com/ajax/libs/mathjax/2.7.5/MathJax.js?config=TeX-AMS-MML_SVG\"></script><script type=\"text/javascript\">if (window.MathJax) {MathJax.Hub.Config({SVG: {font: \"STIX-Web\"}});}</script>\n",
              "                <script type=\"text/javascript\">window.PlotlyConfig = {MathJaxConfig: 'local'};</script>\n",
              "        <script src=\"https://cdn.plot.ly/plotly-latest.min.js\"></script>    \n",
              "            <div id=\"c8122d5c-ac30-4959-a936-791903953ea2\" class=\"plotly-graph-div\" style=\"height:525px; width:100%;\"></div>\n",
              "            <script type=\"text/javascript\">\n",
              "                \n",
              "                    window.PLOTLYENV=window.PLOTLYENV || {};\n",
              "                    \n",
              "                if (document.getElementById(\"c8122d5c-ac30-4959-a936-791903953ea2\")) {\n",
              "                    Plotly.newPlot(\n",
              "                        'c8122d5c-ac30-4959-a936-791903953ea2',\n",
              "                        [{\"domain\": {\"x\": [0.0, 0.45], \"y\": [0.0, 1.0]}, \"hole\": 0.4, \"hoverinfo\": \"label+percent\", \"labels\": [\"no_tumor\", \"yes_tumor\"], \"marker\": {\"line\": {\"color\": \"#000000\", \"width\": 1}}, \"pull\": [0, 0, 0.1, 0], \"textfont\": {\"size\": 12.5}, \"textinfo\": \"value\", \"type\": \"pie\", \"values\": [400, 400]}, {\"domain\": {\"x\": [0.55, 1.0], \"y\": [0.0, 1.0]}, \"hole\": 0.4, \"hoverinfo\": \"label+percent\", \"labels\": [\"no_tumor\", \"yes_tumor\"], \"marker\": {\"line\": {\"color\": \"#000000\", \"width\": 1}}, \"pull\": [0, 0, 0.1, 0], \"textfont\": {\"size\": 12.5}, \"textinfo\": \"value\", \"type\": \"pie\", \"values\": [100, 100]}],\n",
              "                        {\"template\": {\"data\": {\"bar\": [{\"error_x\": {\"color\": \"#2a3f5f\"}, \"error_y\": {\"color\": \"#2a3f5f\"}, \"marker\": {\"line\": {\"color\": \"#E5ECF6\", \"width\": 0.5}}, \"type\": \"bar\"}], \"barpolar\": [{\"marker\": {\"line\": {\"color\": \"#E5ECF6\", \"width\": 0.5}}, \"type\": \"barpolar\"}], \"carpet\": [{\"aaxis\": {\"endlinecolor\": \"#2a3f5f\", \"gridcolor\": \"white\", \"linecolor\": \"white\", \"minorgridcolor\": \"white\", \"startlinecolor\": \"#2a3f5f\"}, \"baxis\": {\"endlinecolor\": \"#2a3f5f\", \"gridcolor\": \"white\", \"linecolor\": \"white\", \"minorgridcolor\": \"white\", \"startlinecolor\": \"#2a3f5f\"}, \"type\": \"carpet\"}], \"choropleth\": [{\"colorbar\": {\"outlinewidth\": 0, \"ticks\": \"\"}, \"type\": \"choropleth\"}], \"contour\": [{\"colorbar\": {\"outlinewidth\": 0, \"ticks\": \"\"}, \"colorscale\": [[0.0, \"#0d0887\"], [0.1111111111111111, \"#46039f\"], [0.2222222222222222, \"#7201a8\"], [0.3333333333333333, \"#9c179e\"], [0.4444444444444444, \"#bd3786\"], [0.5555555555555556, \"#d8576b\"], [0.6666666666666666, \"#ed7953\"], [0.7777777777777778, \"#fb9f3a\"], [0.8888888888888888, \"#fdca26\"], [1.0, \"#f0f921\"]], \"type\": \"contour\"}], \"contourcarpet\": [{\"colorbar\": {\"outlinewidth\": 0, \"ticks\": \"\"}, \"type\": \"contourcarpet\"}], \"heatmap\": [{\"colorbar\": {\"outlinewidth\": 0, \"ticks\": \"\"}, \"colorscale\": [[0.0, \"#0d0887\"], [0.1111111111111111, \"#46039f\"], [0.2222222222222222, \"#7201a8\"], [0.3333333333333333, \"#9c179e\"], [0.4444444444444444, \"#bd3786\"], [0.5555555555555556, \"#d8576b\"], [0.6666666666666666, \"#ed7953\"], [0.7777777777777778, \"#fb9f3a\"], [0.8888888888888888, \"#fdca26\"], [1.0, \"#f0f921\"]], \"type\": \"heatmap\"}], \"heatmapgl\": [{\"colorbar\": {\"outlinewidth\": 0, \"ticks\": \"\"}, \"colorscale\": [[0.0, \"#0d0887\"], [0.1111111111111111, \"#46039f\"], [0.2222222222222222, \"#7201a8\"], [0.3333333333333333, \"#9c179e\"], [0.4444444444444444, \"#bd3786\"], [0.5555555555555556, \"#d8576b\"], [0.6666666666666666, \"#ed7953\"], [0.7777777777777778, \"#fb9f3a\"], [0.8888888888888888, \"#fdca26\"], [1.0, \"#f0f921\"]], \"type\": \"heatmapgl\"}], \"histogram\": [{\"marker\": {\"colorbar\": {\"outlinewidth\": 0, \"ticks\": \"\"}}, \"type\": \"histogram\"}], \"histogram2d\": [{\"colorbar\": {\"outlinewidth\": 0, \"ticks\": \"\"}, \"colorscale\": [[0.0, \"#0d0887\"], [0.1111111111111111, \"#46039f\"], [0.2222222222222222, \"#7201a8\"], [0.3333333333333333, \"#9c179e\"], [0.4444444444444444, \"#bd3786\"], [0.5555555555555556, \"#d8576b\"], [0.6666666666666666, \"#ed7953\"], [0.7777777777777778, \"#fb9f3a\"], [0.8888888888888888, \"#fdca26\"], [1.0, \"#f0f921\"]], \"type\": \"histogram2d\"}], \"histogram2dcontour\": [{\"colorbar\": {\"outlinewidth\": 0, \"ticks\": \"\"}, \"colorscale\": [[0.0, \"#0d0887\"], [0.1111111111111111, \"#46039f\"], [0.2222222222222222, \"#7201a8\"], [0.3333333333333333, \"#9c179e\"], [0.4444444444444444, \"#bd3786\"], [0.5555555555555556, \"#d8576b\"], [0.6666666666666666, \"#ed7953\"], [0.7777777777777778, \"#fb9f3a\"], [0.8888888888888888, \"#fdca26\"], [1.0, \"#f0f921\"]], \"type\": \"histogram2dcontour\"}], \"mesh3d\": [{\"colorbar\": {\"outlinewidth\": 0, \"ticks\": \"\"}, \"type\": \"mesh3d\"}], \"parcoords\": [{\"line\": {\"colorbar\": {\"outlinewidth\": 0, \"ticks\": \"\"}}, \"type\": \"parcoords\"}], \"pie\": [{\"automargin\": true, \"type\": \"pie\"}], \"scatter\": [{\"marker\": {\"colorbar\": {\"outlinewidth\": 0, \"ticks\": \"\"}}, \"type\": \"scatter\"}], \"scatter3d\": [{\"line\": {\"colorbar\": {\"outlinewidth\": 0, \"ticks\": \"\"}}, \"marker\": {\"colorbar\": {\"outlinewidth\": 0, \"ticks\": \"\"}}, \"type\": \"scatter3d\"}], \"scattercarpet\": [{\"marker\": {\"colorbar\": {\"outlinewidth\": 0, \"ticks\": \"\"}}, \"type\": \"scattercarpet\"}], \"scattergeo\": [{\"marker\": {\"colorbar\": {\"outlinewidth\": 0, \"ticks\": \"\"}}, \"type\": \"scattergeo\"}], \"scattergl\": [{\"marker\": {\"colorbar\": {\"outlinewidth\": 0, \"ticks\": \"\"}}, \"type\": \"scattergl\"}], \"scattermapbox\": [{\"marker\": {\"colorbar\": {\"outlinewidth\": 0, \"ticks\": \"\"}}, \"type\": \"scattermapbox\"}], \"scatterpolar\": [{\"marker\": {\"colorbar\": {\"outlinewidth\": 0, \"ticks\": \"\"}}, \"type\": \"scatterpolar\"}], \"scatterpolargl\": [{\"marker\": {\"colorbar\": {\"outlinewidth\": 0, \"ticks\": \"\"}}, \"type\": \"scatterpolargl\"}], \"scatterternary\": [{\"marker\": {\"colorbar\": {\"outlinewidth\": 0, \"ticks\": \"\"}}, \"type\": \"scatterternary\"}], \"surface\": [{\"colorbar\": {\"outlinewidth\": 0, \"ticks\": \"\"}, \"colorscale\": [[0.0, \"#0d0887\"], [0.1111111111111111, \"#46039f\"], [0.2222222222222222, \"#7201a8\"], [0.3333333333333333, \"#9c179e\"], [0.4444444444444444, \"#bd3786\"], [0.5555555555555556, \"#d8576b\"], [0.6666666666666666, \"#ed7953\"], [0.7777777777777778, \"#fb9f3a\"], [0.8888888888888888, \"#fdca26\"], [1.0, \"#f0f921\"]], \"type\": \"surface\"}], \"table\": [{\"cells\": {\"fill\": {\"color\": \"#EBF0F8\"}, \"line\": {\"color\": \"white\"}}, \"header\": {\"fill\": {\"color\": \"#C8D4E3\"}, \"line\": {\"color\": \"white\"}}, \"type\": \"table\"}]}, \"layout\": {\"annotationdefaults\": {\"arrowcolor\": \"#2a3f5f\", \"arrowhead\": 0, \"arrowwidth\": 1}, \"coloraxis\": {\"colorbar\": {\"outlinewidth\": 0, \"ticks\": \"\"}}, \"colorscale\": {\"diverging\": [[0, \"#8e0152\"], [0.1, \"#c51b7d\"], [0.2, \"#de77ae\"], [0.3, \"#f1b6da\"], [0.4, \"#fde0ef\"], [0.5, \"#f7f7f7\"], [0.6, \"#e6f5d0\"], [0.7, \"#b8e186\"], [0.8, \"#7fbc41\"], [0.9, \"#4d9221\"], [1, \"#276419\"]], \"sequential\": [[0.0, \"#0d0887\"], [0.1111111111111111, \"#46039f\"], [0.2222222222222222, \"#7201a8\"], [0.3333333333333333, \"#9c179e\"], [0.4444444444444444, \"#bd3786\"], [0.5555555555555556, \"#d8576b\"], [0.6666666666666666, \"#ed7953\"], [0.7777777777777778, \"#fb9f3a\"], [0.8888888888888888, \"#fdca26\"], [1.0, \"#f0f921\"]], \"sequentialminus\": [[0.0, \"#0d0887\"], [0.1111111111111111, \"#46039f\"], [0.2222222222222222, \"#7201a8\"], [0.3333333333333333, \"#9c179e\"], [0.4444444444444444, \"#bd3786\"], [0.5555555555555556, \"#d8576b\"], [0.6666666666666666, \"#ed7953\"], [0.7777777777777778, \"#fb9f3a\"], [0.8888888888888888, \"#fdca26\"], [1.0, \"#f0f921\"]]}, \"colorway\": [\"#636efa\", \"#EF553B\", \"#00cc96\", \"#ab63fa\", \"#FFA15A\", \"#19d3f3\", \"#FF6692\", \"#B6E880\", \"#FF97FF\", \"#FECB52\"], \"font\": {\"color\": \"#2a3f5f\"}, \"geo\": {\"bgcolor\": \"white\", \"lakecolor\": \"white\", \"landcolor\": \"#E5ECF6\", \"showlakes\": true, \"showland\": true, \"subunitcolor\": \"white\"}, \"hoverlabel\": {\"align\": \"left\"}, \"hovermode\": \"closest\", \"mapbox\": {\"style\": \"light\"}, \"paper_bgcolor\": \"white\", \"plot_bgcolor\": \"#E5ECF6\", \"polar\": {\"angularaxis\": {\"gridcolor\": \"white\", \"linecolor\": \"white\", \"ticks\": \"\"}, \"bgcolor\": \"#E5ECF6\", \"radialaxis\": {\"gridcolor\": \"white\", \"linecolor\": \"white\", \"ticks\": \"\"}}, \"scene\": {\"xaxis\": {\"backgroundcolor\": \"#E5ECF6\", \"gridcolor\": \"white\", \"gridwidth\": 2, \"linecolor\": \"white\", \"showbackground\": true, \"ticks\": \"\", \"zerolinecolor\": \"white\"}, \"yaxis\": {\"backgroundcolor\": \"#E5ECF6\", \"gridcolor\": \"white\", \"gridwidth\": 2, \"linecolor\": \"white\", \"showbackground\": true, \"ticks\": \"\", \"zerolinecolor\": \"white\"}, \"zaxis\": {\"backgroundcolor\": \"#E5ECF6\", \"gridcolor\": \"white\", \"gridwidth\": 2, \"linecolor\": \"white\", \"showbackground\": true, \"ticks\": \"\", \"zerolinecolor\": \"white\"}}, \"shapedefaults\": {\"line\": {\"color\": \"#2a3f5f\"}}, \"ternary\": {\"aaxis\": {\"gridcolor\": \"white\", \"linecolor\": \"white\", \"ticks\": \"\"}, \"baxis\": {\"gridcolor\": \"white\", \"linecolor\": \"white\", \"ticks\": \"\"}, \"bgcolor\": \"#E5ECF6\", \"caxis\": {\"gridcolor\": \"white\", \"linecolor\": \"white\", \"ticks\": \"\"}}, \"title\": {\"x\": 0.05}, \"xaxis\": {\"automargin\": true, \"gridcolor\": \"white\", \"linecolor\": \"white\", \"ticks\": \"\", \"title\": {\"standoff\": 15}, \"zerolinecolor\": \"white\", \"zerolinewidth\": 2}, \"yaxis\": {\"automargin\": true, \"gridcolor\": \"white\", \"linecolor\": \"white\", \"ticks\": \"\", \"title\": {\"standoff\": 15}, \"zerolinecolor\": \"white\", \"zerolinewidth\": 2}}}, \"title\": {\"text\": \"Propor\\u00e7\\u00e3o da base de dados de treino e teste\"}},\n",
              "                        {\"responsive\": true}\n",
              "                    ).then(function(){\n",
              "                            \n",
              "var gd = document.getElementById('c8122d5c-ac30-4959-a936-791903953ea2');\n",
              "var x = new MutationObserver(function (mutations, observer) {{\n",
              "        var display = window.getComputedStyle(gd).display;\n",
              "        if (!display || display === 'none') {{\n",
              "            console.log([gd, 'removed!']);\n",
              "            Plotly.purge(gd);\n",
              "            observer.disconnect();\n",
              "        }}\n",
              "}});\n",
              "\n",
              "// Listen for the removal of the full notebook cells\n",
              "var notebookContainer = gd.closest('#notebook-container');\n",
              "if (notebookContainer) {{\n",
              "    x.observe(notebookContainer, {childList: true});\n",
              "}}\n",
              "\n",
              "// Listen for the clearing of the current output cell\n",
              "var outputEl = gd.closest('.output');\n",
              "if (outputEl) {{\n",
              "    x.observe(outputEl, {childList: true});\n",
              "}}\n",
              "\n",
              "                        })\n",
              "                };\n",
              "                \n",
              "            </script>\n",
              "        </div>\n",
              "</body>\n",
              "</html>"
            ]
          },
          "metadata": {}
        }
      ]
    },
    {
      "cell_type": "code",
      "source": [
        "class classificador(nn.Module):\n",
        "  def __init__(self):\n",
        "    super().__init__()\n",
        "\n",
        "    self.convs = nn.Sequential(\n",
        "        nn.Conv2d(in_channels=3, out_channels=64, kernel_size=10),\n",
        "        nn.ReLU(),\n",
        "        nn.BatchNorm2d(num_features=64),\n",
        "        nn.MaxPool2d(kernel_size=2),\n",
        "        nn.Conv2d(in_channels=64, out_channels=128, kernel_size=3, padding=2),\n",
        "        nn.ReLU(),\n",
        "        nn.MaxPool2d(kernel_size=2),\n",
        "        nn.Dropout(p = 0.1),\n",
        "        nn.Conv2d(in_channels=128, out_channels=128, kernel_size=2, padding=2),\n",
        "        nn.ReLU(),\n",
        "        nn.MaxPool2d(kernel_size=2),\n",
        "        nn.Dropout(p = 0.2),\n",
        "    )\n",
        "\n",
        "    self.layers = nn.Sequential(\n",
        "        nn.Linear(in_features=32768, out_features=128),\n",
        "        nn.ReLU(),\n",
        "        nn.Linear(in_features=128, out_features=2),\n",
        "    )\n",
        "\n",
        "    self.flatten = nn.Flatten()\n",
        "\n",
        "    self.sigmoid = nn.Sigmoid()\n",
        "\n",
        "  def forward(self, X):\n",
        "    X = self.convs(X)\n",
        "    X = self.flatten(X)\n",
        "    X = self.layers(X)\n",
        "    output = self.sigmoid(X)\n",
        "    return output"
      ],
      "metadata": {
        "id": "D9rwUDJIl8pZ"
      },
      "execution_count": 7,
      "outputs": []
    },
    {
      "cell_type": "code",
      "source": [
        "model = classificador()\n",
        "optimizer = torch.optim.SGD(model.parameters(), lr= 0.001, momentum=0.3)\n",
        "criterion = nn.CrossEntropyLoss()"
      ],
      "metadata": {
        "id": "1xQt33HQl_dI"
      },
      "execution_count": 8,
      "outputs": []
    },
    {
      "cell_type": "code",
      "source": [
        "device = torch.device(\"cuda\") if torch.cuda.is_available else torch.device(\"cpu\")\n",
        "print(device,\"\\n\")\n",
        "\n",
        "model.to(device)"
      ],
      "metadata": {
        "colab": {
          "base_uri": "https://localhost:8080/"
        },
        "id": "ASOMkhdVmDj5",
        "outputId": "63792598-0181-4208-f8c0-dd6fc2d90d4c"
      },
      "execution_count": 9,
      "outputs": [
        {
          "output_type": "stream",
          "name": "stdout",
          "text": [
            "cuda \n",
            "\n"
          ]
        },
        {
          "output_type": "execute_result",
          "data": {
            "text/plain": [
              "classificador(\n",
              "  (convs): Sequential(\n",
              "    (0): Conv2d(3, 64, kernel_size=(10, 10), stride=(1, 1))\n",
              "    (1): ReLU()\n",
              "    (2): BatchNorm2d(64, eps=1e-05, momentum=0.1, affine=True, track_running_stats=True)\n",
              "    (3): MaxPool2d(kernel_size=2, stride=2, padding=0, dilation=1, ceil_mode=False)\n",
              "    (4): Conv2d(64, 128, kernel_size=(3, 3), stride=(1, 1), padding=(2, 2))\n",
              "    (5): ReLU()\n",
              "    (6): MaxPool2d(kernel_size=2, stride=2, padding=0, dilation=1, ceil_mode=False)\n",
              "    (7): Dropout(p=0.1, inplace=False)\n",
              "    (8): Conv2d(128, 128, kernel_size=(2, 2), stride=(1, 1), padding=(2, 2))\n",
              "    (9): ReLU()\n",
              "    (10): MaxPool2d(kernel_size=2, stride=2, padding=0, dilation=1, ceil_mode=False)\n",
              "    (11): Dropout(p=0.2, inplace=False)\n",
              "  )\n",
              "  (layers): Sequential(\n",
              "    (0): Linear(in_features=32768, out_features=128, bias=True)\n",
              "    (1): ReLU()\n",
              "    (2): Linear(in_features=128, out_features=2, bias=True)\n",
              "  )\n",
              "  (flatten): Flatten(start_dim=1, end_dim=-1)\n",
              "  (sigmoid): Sigmoid()\n",
              ")"
            ]
          },
          "metadata": {},
          "execution_count": 9
        }
      ]
    },
    {
      "cell_type": "code",
      "source": [
        "def train(model, dataLoader, criterion, optimizer):\n",
        "  model.train()\n",
        "  cumloss = 0.0\n",
        "  for imagens, rotulos in dataLoader:\n",
        "\n",
        "    imagens, rotulos = imagens.to(device), rotulos.to(device)\n",
        "\n",
        "    pred = model(imagens)\n",
        "    loss = criterion(pred, rotulos)\n",
        "\n",
        "    optimizer.zero_grad()\n",
        "    loss.backward()\n",
        "    optimizer.step()\n",
        "\n",
        "    cumloss += loss.item()\n",
        "\n",
        "  return cumloss/len(dataLoader)"
      ],
      "metadata": {
        "id": "gHOlCNE1mFAn"
      },
      "execution_count": 10,
      "outputs": []
    },
    {
      "cell_type": "code",
      "source": [
        "def validacao(model, dataLoader, lossfunc):\n",
        "    model.eval()\n",
        "    cumloss = 0.0\n",
        "    \n",
        "    with torch.no_grad():\n",
        "        for imgs, labels in dataLoader:\n",
        "            \n",
        "            imgs, labels = imgs.to(device), labels.to(device)\n",
        "            \n",
        "            pred = model(imgs)\n",
        "            \n",
        "            loss = lossfunc(pred, labels)\n",
        "            \n",
        "            cumloss += loss.item()\n",
        "            \n",
        "    return cumloss / len(dataLoader)"
      ],
      "metadata": {
        "id": "sED1HXENmZnx"
      },
      "execution_count": 11,
      "outputs": []
    },
    {
      "cell_type": "code",
      "source": [
        "losses_treino = []\n",
        "losses_teste = []\n",
        "\n",
        "for i in range(epochs):\n",
        "  loss_treino = train(model, loader_treino, criterion, optimizer)\n",
        "  losses_treino.append(loss_treino)\n",
        "  if (i%10==0):\n",
        "    print(f\"Época: {i}; Loss Treino: {loss_treino}\")\n",
        "\n",
        "  loss_val = validacao(model, loader_teste, criterion)\n",
        "  losses_teste.append(loss_val)"
      ],
      "metadata": {
        "colab": {
          "base_uri": "https://localhost:8080/"
        },
        "id": "QuXABdtGmfmm",
        "outputId": "631630d1-0543-4065-90e9-e104d35200f8"
      },
      "execution_count": 12,
      "outputs": [
        {
          "output_type": "stream",
          "name": "stdout",
          "text": [
            "Época: 0; Loss Treino: 0.681303830289129\n",
            "Época: 10; Loss Treino: 0.4998993522195674\n",
            "Época: 20; Loss Treino: 0.4439462458909447\n",
            "Época: 30; Loss Treino: 0.42198870253207077\n",
            "Época: 40; Loss Treino: 0.40712393842526334\n",
            "Época: 50; Loss Treino: 0.3974334517521645\n",
            "Época: 60; Loss Treino: 0.3885978068878402\n",
            "Época: 70; Loss Treino: 0.3845522208000297\n",
            "Época: 80; Loss Treino: 0.37680376821489475\n",
            "Época: 90; Loss Treino: 0.3714398519316716\n",
            "Época: 100; Loss Treino: 0.36453629029330925\n",
            "Época: 110; Loss Treino: 0.3625006230909433\n",
            "Época: 120; Loss Treino: 0.35596807857057944\n",
            "Época: 130; Loss Treino: 0.3571330388980125\n",
            "Época: 140; Loss Treino: 0.3546537974877144\n"
          ]
        }
      ]
    },
    {
      "cell_type": "code",
      "source": [
        "def plot_loss(losses):\n",
        "  fig = plt.figure(figsize=(13,5))\n",
        "  ax = fig.gca()\n",
        "  for loss_name, loss_values in losses.items():\n",
        "    ax.plot(loss_values, label=loss_name)\n",
        "  ax.legend(fontsize=\"16\")\n",
        "  ax.set_xlabel(\"Epoch\", fontsize=\"16\")\n",
        "  ax.set_ylabel(\"Loss\", fontsize=\"16\")\n",
        "  ax.set_title(\"Loss vs epochs\", fontsize=\"16\");\n",
        "\n",
        "def make_confusion_matrix(model, loader, classes):\n",
        "  confusion_matrix = torch.zeros(classes, classes, dtype=torch.int64)\n",
        "  with torch.no_grad():\n",
        "    for i ,(imagens, rotulos) in enumerate(loader):\n",
        "      imagens, rotulos = imagens.to(device), rotulos.to(device) \n",
        "      output = model(imagens)\n",
        "      _, pred = torch.max(output, 1)\n",
        "      for j, k in zip(torch.as_tensor(rotulos, dtype=torch.int64).view(-1),\n",
        "                      torch.as_tensor(pred, dtype=torch.int64).view(-1)):\n",
        "        confusion_matrix[j, k] += 1\n",
        "  return confusion_matrix \n",
        "\n",
        "\n",
        "def evaluate_accuracy(model, loader, classes, verbose=True):\n",
        "\n",
        "  pred_corretos = {classname: 0 for classname in classes}\n",
        "  total_pred = {classname: 0 for classname in classes}\n",
        "\n",
        "  confusion_matrix = make_confusion_matrix(model, loader, len(classes))\n",
        "\n",
        "  if (verbose):\n",
        "    total_de_correto = 0.0\n",
        "    total_de_preditos = 0.0\n",
        "\n",
        "    for i, classname in enumerate(classes):\n",
        "      correct_count = confusion_matrix[i][i].item()\n",
        "      class_pred = torch.sum(confusion_matrix[i]).item()\n",
        "\n",
        "      total_de_correto += correct_count\n",
        "      total_de_preditos += class_pred\n",
        "\n",
        "      accuracy = 100 * float(correct_count) / class_pred\n",
        "      print(\"Acurácia da classe {}: {:.2f}\".format(classname,\n",
        "                                                    accuracy))\n",
        "  print(\"Acurácia geral: {:.2f}\".format(100 * total_de_correto/total_de_preditos))\n",
        "  return confusion_matrix\n",
        "\n",
        "def test(model, loader, classes):\n",
        "  pred_corretos = {classname: 0 for classname in classes}\n",
        "  total_pred = {classname: 0 for classname in classes}\n",
        "  with torch.no_grad():\n",
        "    for imagens, rotulos in loader:\n",
        "      imagens, rotulos = imagens.to(device), rotulos.to(device) \n",
        "      output = model(imagens)\n",
        "      _, pred = torch.max(output, 1)\n",
        "      for rotulo, previsoes in zip(rotulos, pred):\n",
        "        if rotulo == previsoes:\n",
        "          pred_corretos[classes[rotulo]] += 1\n",
        "        total_pred[classes[rotulo]] += 1\n",
        "\n",
        "\n",
        "  total_de_correto = 0.0\n",
        "  total_de_preditos = 0.0\n",
        "  for nome_da_classe, qtd_corretos in pred_corretos.items():\n",
        "    total_de_correto += qtd_corretos\n",
        "    total_de_preditos += total_pred[nome_da_classe]\n",
        "    acuracia = 100* float(qtd_corretos) / total_pred[nome_da_classe]\n",
        "    print(\"Acurácia da classe {}: {:.2f}\".format(nome_da_classe, acuracia))\n",
        "  print(\"Acurácia geral: {:.2f}\".format(100*total_de_correto/total_de_preditos))"
      ],
      "metadata": {
        "id": "1RVA_KIgmgP_"
      },
      "execution_count": 13,
      "outputs": []
    },
    {
      "cell_type": "code",
      "source": [
        "grafico_de_loss = {'Loss de treino':losses_treino,\n",
        "                  'Loss de teste':losses_teste}\n",
        "plot_loss(grafico_de_loss)"
      ],
      "metadata": {
        "id": "R1M_Tmeomjjq",
        "colab": {
          "base_uri": "https://localhost:8080/",
          "height": 357
        },
        "outputId": "7e77e9b6-acef-4645-f5db-1dee4ff46ec4"
      },
      "execution_count": 14,
      "outputs": [
        {
          "output_type": "display_data",
          "data": {
            "image/png": "[encoded data removed]",
            "text/plain": [
              "<Figure size 936x360 with 1 Axes>"
            ]
          },
          "metadata": {
            "needs_background": "light"
          }
        }
      ]
    },
    {
      "cell_type": "code",
      "source": [
        "matriz = evaluate_accuracy(model, loader_teste, categorias)"
      ],
      "metadata": {
        "id": "AJA0f5EonM1E",
        "colab": {
          "base_uri": "https://localhost:8080/"
        },
        "outputId": "8aa79b7c-973a-4d1c-aa12-f538061f76e1"
      },
      "execution_count": 15,
      "outputs": [
        {
          "output_type": "stream",
          "name": "stdout",
          "text": [
            "Acurácia da classe Tumor: 98.00\n",
            "Acurácia da classe Saudável: 72.00\n",
            "Acurácia geral: 85.00\n"
          ]
        }
      ]
    },
    {
      "cell_type": "code",
      "source": [
        "plt.figure(figsize=(6, 5))\n",
        "sns.set(font_scale=1.4)\n",
        "sns.heatmap(matriz.tolist(), \n",
        "           annot=True, annot_kws={\"size\": 10}, fmt='d')"
      ],
      "metadata": {
        "id": "DWGSijg1nNRt",
        "colab": {
          "base_uri": "https://localhost:8080/",
          "height": 344
        },
        "outputId": "b71df1b5-7cc4-4270-9845-bad98d8476c1"
      },
      "execution_count": 16,
      "outputs": [
        {
          "output_type": "execute_result",
          "data": {
            "text/plain": [
              "<matplotlib.axes._subplots.AxesSubplot at 0x7f1f9984ccd0>"
            ]
          },
          "metadata": {},
          "execution_count": 16
        },
        {
          "output_type": "display_data",
          "data": {
            "image/png": "[encoded data removed]",
            "text/plain": [
              "<Figure size 432x360 with 2 Axes>"
            ]
          },
          "metadata": {
            "needs_background": "light"
          }
        }
      ]
    }
  ]
}