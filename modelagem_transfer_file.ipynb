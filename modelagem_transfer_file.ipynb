{
  "nbformat": 4,
  "nbformat_minor": 0,
  "metadata": {
    "colab": {
      "name": "modelagem_transfer_file.ipynb",
      "provenance": [],
      "collapsed_sections": [],
      "authorship_tag": "ABX9TyNqgLJDh6ZFGIDgkT8PzW5P"
    },
    "kernelspec": {
      "name": "python3",
      "display_name": "Python 3"
    },
    "language_info": {
      "name": "python"
    }
  },
  "cells": [
    {
      "cell_type": "code",
      "execution_count": 2,
      "metadata": {
        "id": "9-l90cYqZmom"
      },
      "outputs": [],
      "source": [
        "import os\n",
        "import cv2\n",
        "import pandas as pd\n",
        "import numpy  as np\n",
        "\n",
        "from google.colab import drive"
      ]
    },
    {
      "cell_type": "code",
      "source": [
        "drive.mount('/content/gdrive')"
      ],
      "metadata": {
        "colab": {
          "base_uri": "https://localhost:8080/"
        },
        "id": "8QfJM1--nx0u",
        "outputId": "bbfef831-44a8-4c10-d8e7-01faaea50b44"
      },
      "execution_count": 5,
      "outputs": [
        {
          "output_type": "stream",
          "name": "stdout",
          "text": [
            "Mounted at /content/gdrive\n"
          ]
        }
      ]
    },
    {
      "cell_type": "code",
      "source": [
        "def transforma_salva(dir, dir_save):\n",
        "  arquivos = os.listdir(dir)\n",
        "  quantidade = len(arquivos)\n",
        "  print(f\"Quantidade de imagens no arquivo: {quantidade}\")\n",
        "  for imagem in arquivos:\n",
        "    imagem_array = cv2.imread(dir+imagem)\n",
        "    thresh ,imagem_transformada = cv2.threshold(imagem_array, 128, 255, cv2.THRESH_BINARY)\n",
        "    (cv2.imwrite(os.path.join(dir_save, imagem), imagem_transformada))"
      ],
      "metadata": {
        "id": "Nrv_teG6pXTl"
      },
      "execution_count": 6,
      "outputs": []
    },
    {
      "cell_type": "code",
      "source": [
        "#Path de teste pasta que possui as fotos\n",
        "path_meningioma = '/content/gdrive/MyDrive/MRI_TUMOR_CNN/Teste/meningioma_tumor/'\n",
        "path_meningioma_copia = '/content/gdrive/MyDrive/MRI_TUMOR_CNN/Teste_THRESOULD/meningioma/'\n",
        "transforma_salva(path_meningioma, path_meningioma_copia)\n",
        "\n",
        "path_glioma = '/content/gdrive/MyDrive/MRI_TUMOR_CNN/Teste/glioma_tumor/'\n",
        "path_glioma_copia = '/content/gdrive/MyDrive/MRI_TUMOR_CNN/Teste_THRESOULD/glioma/'\n",
        "transforma_salva(path_glioma, path_glioma_copia)\n",
        "\n",
        "path_hipofise = '/content/gdrive/MyDrive/MRI_TUMOR_CNN/Teste/pituitary_tumor/'\n",
        "path_hipofise_copia = '/content/gdrive/MyDrive/MRI_TUMOR_CNN/Teste_THRESOULD/hipofise/'\n",
        "transforma_salva(path_hipofise, path_hipofise_copia)\n",
        "\n",
        "path_saudavel = '/content/gdrive/MyDrive/MRI_TUMOR_CNN/Teste/no_tumor/'\n",
        "path_saudavel_copia = '/content/gdrive/MyDrive/MRI_TUMOR_CNN/Teste_THRESOULD/saudavel/'\n",
        "transforma_salva(path_saudavel, path_saudavel_copia)\n"
      ],
      "metadata": {
        "colab": {
          "base_uri": "https://localhost:8080/"
        },
        "id": "IkY7EUdYZ1Ty",
        "outputId": "fa70c0da-6996-4d4a-be76-77d92ed7c2cd"
      },
      "execution_count": 7,
      "outputs": [
        {
          "output_type": "stream",
          "name": "stdout",
          "text": [
            "Quantidade de imagens no arquivo: 100\n",
            "Quantidade de imagens no arquivo: 100\n",
            "Quantidade de imagens no arquivo: 100\n",
            "Quantidade de imagens no arquivo: 100\n"
          ]
        }
      ]
    },
    {
      "cell_type": "code",
      "source": [
        "#Path de treino pasta que possui as fotos\n",
        "path_meningioma = '/content/gdrive/MyDrive/MRI_TUMOR_CNN/Treino/meningioma_tumor/'\n",
        "path_meningioma_copia = '/content/gdrive/MyDrive/MRI_TUMOR_CNN/Treino_THRESOULD/meningioma/'\n",
        "transforma_salva(path_meningioma, path_meningioma_copia)\n",
        "\n",
        "path_glioma = '/content/gdrive/MyDrive/MRI_TUMOR_CNN/Treino/glioma_tumor/'\n",
        "path_glioma_copia = '/content/gdrive/MyDrive/MRI_TUMOR_CNN/Treino_THRESOULD/glioma/'\n",
        "transforma_salva(path_glioma, path_glioma_copia)\n",
        "\n",
        "path_hipofise = '/content/gdrive/MyDrive/MRI_TUMOR_CNN/Treino/pituitary_tumor/'\n",
        "path_hipofise_copia = '/content/gdrive/MyDrive/MRI_TUMOR_CNN/Treino_THRESOULD/hipofise/'\n",
        "transforma_salva(path_hipofise, path_hipofise_copia)\n",
        "\n",
        "path_saudavel = '/content/gdrive/MyDrive/MRI_TUMOR_CNN/Treino/no_tumor/'\n",
        "path_saudavel_copia = '/content/gdrive/MyDrive/MRI_TUMOR_CNN/Treino_THRESOULD/saudavel/'\n",
        "transforma_salva(path_saudavel, path_saudavel_copia)"
      ],
      "metadata": {
        "colab": {
          "base_uri": "https://localhost:8080/"
        },
        "id": "we7vxhmBovcw",
        "outputId": "9bcbca41-de7b-48f0-b5fc-10e8fe11e477"
      },
      "execution_count": 8,
      "outputs": [
        {
          "output_type": "stream",
          "name": "stdout",
          "text": [
            "Quantidade de imagens no arquivo: 400\n",
            "Quantidade de imagens no arquivo: 400\n",
            "Quantidade de imagens no arquivo: 400\n",
            "Quantidade de imagens no arquivo: 400\n"
          ]
        }
      ]
    },
    {
      "cell_type": "code",
      "source": [
        ""
      ],
      "metadata": {
        "id": "sI1oGjt-qR9e"
      },
      "execution_count": null,
      "outputs": []
    }
  ]
}