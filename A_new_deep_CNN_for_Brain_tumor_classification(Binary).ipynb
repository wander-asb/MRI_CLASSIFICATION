{
  "nbformat": 4,
  "nbformat_minor": 0,
  "metadata": {
    "colab": {
      "name": "A_new_deep_CNN_for_Brain_tumor_classification(Binary).ipynb",
      "provenance": [],
      "collapsed_sections": [],
      "authorship_tag": "ABX9TyMQ4PHKgX9s/DD1m+HxLf3J",
      "include_colab_link": true
    },
    "kernelspec": {
      "name": "python3",
      "display_name": "Python 3"
    },
    "language_info": {
      "name": "python"
    }
  },
  "cells": [
    {
      "cell_type": "markdown",
      "metadata": {
        "id": "view-in-github",
        "colab_type": "text"
      },
      "source": [
        "<a href=\"https://colab.research.google.com/github/wander-asb/MRI_CLASSIFICATION/blob/main/A_new_deep_CNN_for_Brain_tumor_classification(Binary).ipynb\" target=\"_parent\"><img src=\"https://colab.research.google.com/assets/colab-badge.svg\" alt=\"Open In Colab\"/></a>"
      ]
    },
    {
      "cell_type": "code",
      "metadata": {
        "id": "5C9lPL46NZn_"
      },
      "source": [
        "import torch\n",
        "import os\n",
        "import shutil\n",
        "import pandas              as pd\n",
        "import numpy               as np\n",
        "import torch.nn.functional as F\n",
        "import cv2                 as cv \n",
        "import matplotlib.pyplot   as plt\n",
        "import seaborn             as sns\n",
        "\n",
        "\n",
        "from PIL                     import Image\n",
        "from skimage                 import io\n",
        "from google.colab            import drive\n",
        "from google.colab.patches    import cv2_imshow\n",
        "from torch                   import nn, optim\n",
        "from torchvision             import datasets, transforms, models\n",
        "from sklearn.model_selection import train_test_split"
      ],
      "execution_count": 1,
      "outputs": []
    },
    {
      "cell_type": "code",
      "metadata": {
        "colab": {
          "base_uri": "https://localhost:8080/"
        },
        "id": "0g2qtjrRSwaq",
        "outputId": "96196a4f-fb28-4cef-b6cb-1e4665bb577c"
      },
      "source": [
        "#Conectamos com o drive que possui nosso conjunto de dados\n",
        "drive.mount('/content/gdrive')"
      ],
      "execution_count": 2,
      "outputs": [
        {
          "output_type": "stream",
          "name": "stdout",
          "text": [
            "Mounted at /content/gdrive\n"
          ]
        }
      ]
    },
    {
      "cell_type": "code",
      "metadata": {
        "id": "uph4jT8PTZXK"
      },
      "source": [
        "#Leitura do path de dados de treino e teste\n",
        "path_teste = '/content/gdrive/MyDrive/MRI_TUMOR_CNN/BinaryTumor/Testing'\n",
        "path_treino = '/content/gdrive/MyDrive/MRI_TUMOR_CNN/BinaryTumor/Treinimg'"
      ],
      "execution_count": 3,
      "outputs": []
    },
    {
      "cell_type": "code",
      "metadata": {
        "id": "zNj3FaWbXChT"
      },
      "source": [
        "train_shape = datasets.ImageFolder(root=path_treino)\n",
        "test_shape = datasets.ImageFolder(root=path_teste)"
      ],
      "execution_count": 4,
      "outputs": []
    },
    {
      "cell_type": "code",
      "metadata": {
        "id": "I5CQySFJYshY",
        "colab": {
          "base_uri": "https://localhost:8080/"
        },
        "outputId": "3cc0eea7-c327-4ba4-8c88-7c1d8dd571b5"
      },
      "source": [
        "print(test_shape, \"\\n\"*2, train_shape)"
      ],
      "execution_count": 5,
      "outputs": [
        {
          "output_type": "stream",
          "name": "stdout",
          "text": [
            "Dataset ImageFolder\n",
            "    Number of datapoints: 394\n",
            "    Root location: /content/gdrive/MyDrive/MRI_TUMOR_CNN/BinaryTumor/Testing \n",
            "\n",
            " Dataset ImageFolder\n",
            "    Number of datapoints: 2870\n",
            "    Root location: /content/gdrive/MyDrive/MRI_TUMOR_CNN/BinaryTumor/Treinimg\n"
          ]
        }
      ]
    },
    {
      "cell_type": "code",
      "metadata": {
        "id": "OT8uBw5IZyJB"
      },
      "source": [
        ""
      ],
      "execution_count": null,
      "outputs": []
    }
  ]
}