{
  "nbformat": 4,
  "nbformat_minor": 0,
  "metadata": {
    "colab": {
      "name": "A_new_deep_CNN_for_Brain_tumor_classification(Binary).ipynb",
      "provenance": [],
      "collapsed_sections": [],
      "authorship_tag": "ABX9TyP/VWq7FwYZl7kGkfOJem98",
      "include_colab_link": true
    },
    "kernelspec": {
      "name": "python3",
      "display_name": "Python 3"
    },
    "language_info": {
      "name": "python"
    },
    "accelerator": "GPU"
  },
  "cells": [
    {
      "cell_type": "markdown",
      "metadata": {
        "id": "view-in-github",
        "colab_type": "text"
      },
      "source": [
        "<a href=\"https://colab.research.google.com/github/wander-asb/MRI_CLASSIFICATION/blob/main/A_new_deep_CNN_for_Brain_tumor_classification(Binary).ipynb\" target=\"_parent\"><img src=\"https://colab.research.google.com/assets/colab-badge.svg\" alt=\"Open In Colab\"/></a>"
      ]
    },
    {
      "cell_type": "markdown",
      "metadata": {
        "id": "V-LPczpYEojO"
      },
      "source": [
        "## Bibliotecas:\n"
      ]
    },
    {
      "cell_type": "code",
      "metadata": {
        "id": "5C9lPL46NZn_"
      },
      "source": [
        "import torch\n",
        "import os\n",
        "import shutil\n",
        "import pandas              as pd\n",
        "import numpy               as np\n",
        "import torch.nn.functional as F\n",
        "import cv2                 as cv \n",
        "import matplotlib.pyplot   as plt\n",
        "import seaborn             as sns\n",
        "\n",
        "\n",
        "from PIL                     import Image\n",
        "from skimage                 import io\n",
        "from google.colab            import drive\n",
        "from google.colab.patches    import cv2_imshow\n",
        "from torch                   import nn, optim\n",
        "from torchvision             import datasets, transforms, models\n",
        "from sklearn.model_selection import train_test_split"
      ],
      "execution_count": 1,
      "outputs": []
    },
    {
      "cell_type": "markdown",
      "metadata": {
        "id": "TkjPUjBCEvSF"
      },
      "source": [
        "## Leitura da base de dados"
      ]
    },
    {
      "cell_type": "code",
      "metadata": {
        "colab": {
          "base_uri": "https://localhost:8080/"
        },
        "id": "0g2qtjrRSwaq",
        "outputId": "a4065710-9c3c-475a-9466-b254ff7e7ce3"
      },
      "source": [
        "#Conectamos com o drive que possui nosso conjunto de dados\n",
        "drive.mount('/content/gdrive')"
      ],
      "execution_count": 2,
      "outputs": [
        {
          "output_type": "stream",
          "name": "stdout",
          "text": [
            "Mounted at /content/gdrive\n"
          ]
        }
      ]
    },
    {
      "cell_type": "code",
      "metadata": {
        "id": "uph4jT8PTZXK"
      },
      "source": [
        "#Leitura do path de dados de treino e teste\n",
        "path_teste = '/content/gdrive/MyDrive/MRI_TUMOR_CNN/BinaryTumor/Testing'\n",
        "path_treino = '/content/gdrive/MyDrive/MRI_TUMOR_CNN/BinaryTumor/Treinimg'"
      ],
      "execution_count": 3,
      "outputs": []
    },
    {
      "cell_type": "code",
      "metadata": {
        "id": "OT8uBw5IZyJB"
      },
      "source": [
        "transform_train = transforms.Compose(\n",
        "    [\n",
        "     transforms.Resize([128,128]),\n",
        "     transforms.ToTensor()\n",
        "    ]\n",
        ")\n",
        "\n",
        "transform_test = transforms.Compose(\n",
        "    [\n",
        "     transforms.Resize([128,128]),\n",
        "     transforms.ToTensor()  \n",
        "    ]\n",
        ")"
      ],
      "execution_count": 4,
      "outputs": []
    },
    {
      "cell_type": "code",
      "metadata": {
        "id": "OvLKDlS2D5LB"
      },
      "source": [
        "train_dataset = datasets.ImageFolder(path_treino, transform=transform_train)\n",
        "test_dataset = datasets.ImageFolder(path_teste, transform=transform_test)"
      ],
      "execution_count": 5,
      "outputs": []
    },
    {
      "cell_type": "markdown",
      "metadata": {
        "id": "dVEOOqMhFPbk"
      },
      "source": [
        "## Visão geral do conjunto de dados"
      ]
    },
    {
      "cell_type": "code",
      "metadata": {
        "colab": {
          "base_uri": "https://localhost:8080/"
        },
        "id": "iRLHpFvdFE_o",
        "outputId": "f8ea5562-c24d-4221-801d-55f88ea2705d"
      },
      "source": [
        "classes = test_dataset.class_to_idx\n",
        "print(classes)\n",
        "\n",
        "out = len(classes)\n",
        "print(\"Numéro de saídas {}\".format(out))"
      ],
      "execution_count": 6,
      "outputs": [
        {
          "output_type": "stream",
          "name": "stdout",
          "text": [
            "{'no_tumor': 0, 'yes_tumor': 1}\n",
            "Numéro de saídas 2\n"
          ]
        }
      ]
    },
    {
      "cell_type": "code",
      "metadata": {
        "id": "KtWn_0j3FXnX"
      },
      "source": [
        "idx2class = {v: k for k, v in train_dataset.class_to_idx.items()}\n",
        "\n",
        "def get_class_distribution(dataset_obj):\n",
        "  count_dict = {k:0 for k, v in dataset_obj.class_to_idx.items()}\n",
        "  for i in dataset_obj:\n",
        "    y_labels = i[1]\n",
        "    y_labels = idx2class[y_labels]\n",
        "    count_dict[y_labels] += 1\n",
        "  return count_dict"
      ],
      "execution_count": 7,
      "outputs": []
    },
    {
      "cell_type": "code",
      "metadata": {
        "colab": {
          "base_uri": "https://localhost:8080/",
          "height": 421
        },
        "id": "D4fGdezpFzNq",
        "outputId": "570fa800-49d9-43a8-d635-5ad5402e0700"
      },
      "source": [
        "plt.figure(figsize=(12,6))\n",
        "sns.barplot(data = pd.DataFrame.from_dict([get_class_distribution(train_dataset)])\\\n",
        "            .melt(), x = \"variable\", y=\"value\", hue=\"variable\")\\\n",
        "            .set_title('Distribuição de Imagens de ressonâncias magnéticas')"
      ],
      "execution_count": 8,
      "outputs": [
        {
          "output_type": "execute_result",
          "data": {
            "text/plain": [
              "Text(0.5, 1.0, 'Distribuição de Imagens de ressonâncias magnéticas')"
            ]
          },
          "metadata": {},
          "execution_count": 8
        },
        {
          "output_type": "display_data",
          "data": {
            "image/png": "[encoded data removed]",
            "text/plain": [
              "<Figure size 864x432 with 1 Axes>"
            ]
          },
          "metadata": {
            "needs_background": "light"
          }
        }
      ]
    },
    {
      "cell_type": "code",
      "metadata": {
        "id": "wiNybIymF8Tn"
      },
      "source": [
        "test_loader = torch.utils.data.DataLoader(test_dataset, batch_size=12, shuffle=True)\n",
        "train_loader = torch.utils.data.DataLoader(train_dataset, batch_size=12, shuffle=True)"
      ],
      "execution_count": 9,
      "outputs": []
    },
    {
      "cell_type": "code",
      "metadata": {
        "colab": {
          "base_uri": "https://localhost:8080/"
        },
        "id": "1YFhYzapH3zq",
        "outputId": "9ce79727-83c8-4f60-dff9-61ba361b56f6"
      },
      "source": [
        "for batch in train_loader:\n",
        "  dado, rotulo = batch\n",
        "  print(dado.size(), rotulo.size())\n",
        "  break"
      ],
      "execution_count": 10,
      "outputs": [
        {
          "output_type": "stream",
          "name": "stdout",
          "text": [
            "torch.Size([12, 3, 128, 128]) torch.Size([12])\n"
          ]
        }
      ]
    },
    {
      "cell_type": "markdown",
      "metadata": {
        "id": "XtkZczZGILnm"
      },
      "source": [
        "Na célula acima, podemos visualizar que nosso conjunto de dados apresenta imagens divididas em 12 rótulos, com 3 camadas de cores(rgb) e de dimensões 128x128."
      ]
    },
    {
      "cell_type": "markdown",
      "metadata": {
        "id": "37T9JWA1IhqL"
      },
      "source": [
        "## Arquitetura CNN"
      ]
    },
    {
      "cell_type": "code",
      "metadata": {
        "id": "A6qIDo55IIPj"
      },
      "source": [
        "class classificador(nn.Module):\n",
        "    def __init__ (self):\n",
        "        super().__init__()\n",
        "      \n",
        "        self.conv1 = nn.Conv2d(in_channels=3, out_channels=16, kernel_size=3, stride=(1,1))\n",
        "        self.conv2 = nn.Conv2d(in_channels=16, out_channels=64, kernel_size=3, stride=(1,1))\n",
        "\n",
        "        self.activation = nn.ReLU() \n",
        "        self.bnorm1 = nn.BatchNorm2d(num_features=16)\n",
        "        self.bnorm2 = nn.BatchNorm2d(num_features=64)\n",
        "        self.pool = nn.MaxPool2d(kernel_size=(2,2))\n",
        "        \n",
        "        self.flatten = nn.Flatten()\n",
        "        self.sig = nn.Sigmoid()\n",
        "        \n",
        "\n",
        "        self.linear1 = nn.Linear(in_features=57600, out_features=256)\n",
        "        self.linear2 = nn.Linear(in_features=256, out_features=128)\n",
        "        self.linear3 = nn.Linear(in_features=128, out_features=out)\n",
        "        \n",
        "    def forward(self, X):\n",
        "        X = self.pool(self.bnorm1(self.activation(self.conv1(X))))\n",
        "        X = self.pool(self.bnorm2(self.activation(self.conv2(X))))\n",
        "        X = self.flatten(X)\n",
        "        \n",
        "        X = self.activation(self.linear1(X))\n",
        "        X = self.activation(self.linear2(X))\n",
        "        X = self.linear3(X)\n",
        "        X = self.sig()\n",
        "        \n",
        "        return X"
      ],
      "execution_count": 22,
      "outputs": []
    },
    {
      "cell_type": "code",
      "metadata": {
        "id": "BY8OE58DJHhJ"
      },
      "source": [
        "net =  classificador()\n",
        "criterion = nn.BCELoss()\n",
        "optimizer = optim.Adam(net.parameters())"
      ],
      "execution_count": 23,
      "outputs": []
    },
    {
      "cell_type": "code",
      "metadata": {
        "colab": {
          "base_uri": "https://localhost:8080/"
        },
        "id": "-u56FwyiJUwo",
        "outputId": "fcd8eec0-00c5-49e4-a9bc-58a61da1b30d"
      },
      "source": [
        "device = torch.device('cuda') if torch.cuda.is_available() else torch.device('cpu')\n",
        "print(device)"
      ],
      "execution_count": 24,
      "outputs": [
        {
          "output_type": "stream",
          "name": "stdout",
          "text": [
            "cuda\n"
          ]
        }
      ]
    },
    {
      "cell_type": "code",
      "metadata": {
        "colab": {
          "base_uri": "https://localhost:8080/"
        },
        "id": "kuuV-_s9JjDR",
        "outputId": "891a1a02-b904-4c30-9b5d-f9fbc944170a"
      },
      "source": [
        "net.to(device)"
      ],
      "execution_count": 25,
      "outputs": [
        {
          "output_type": "execute_result",
          "data": {
            "text/plain": [
              "classificador(\n",
              "  (conv1): Conv2d(3, 16, kernel_size=(3, 3), stride=(1, 1))\n",
              "  (conv2): Conv2d(16, 64, kernel_size=(3, 3), stride=(1, 1))\n",
              "  (activation): ReLU()\n",
              "  (bnorm1): BatchNorm2d(16, eps=1e-05, momentum=0.1, affine=True, track_running_stats=True)\n",
              "  (bnorm2): BatchNorm2d(64, eps=1e-05, momentum=0.1, affine=True, track_running_stats=True)\n",
              "  (pool): MaxPool2d(kernel_size=(2, 2), stride=(2, 2), padding=0, dilation=1, ceil_mode=False)\n",
              "  (flatten): Flatten(start_dim=1, end_dim=-1)\n",
              "  (sig): Sigmoid()\n",
              "  (linear1): Linear(in_features=57600, out_features=256, bias=True)\n",
              "  (linear2): Linear(in_features=256, out_features=128, bias=True)\n",
              "  (linear3): Linear(in_features=128, out_features=2, bias=True)\n",
              ")"
            ]
          },
          "metadata": {},
          "execution_count": 25
        }
      ]
    },
    {
      "cell_type": "code",
      "metadata": {
        "id": "3oboEQRKM_qV"
      },
      "source": [
        ""
      ],
      "execution_count": null,
      "outputs": []
    },
    {
      "cell_type": "code",
      "metadata": {
        "id": "2-uulbKQJmsH"
      },
      "source": [
        "loss_values = []\n",
        "accu_values = []\n",
        "def training_binary_loop(loader, epoch):\n",
        "    running_loss = 0.\n",
        "    running_accuracy = 0.\n",
        "    \n",
        "    for i, data in enumerate(loader):\n",
        "        \n",
        "        inputs, labels = data\n",
        "        \n",
        "        inputs, labels = inputs.to(device), labels.to(device)\n",
        "        \n",
        "        optimizer.zero_grad()\n",
        "        outputs = net(inputs)\n",
        "        \n",
        "        loss = criterion(outputs, labels.float().view(*outputs.shape))\n",
        "        loss.backward()\n",
        "        \n",
        "        optimizer.step()\n",
        "        \n",
        "        running_loss += loss.item()\n",
        "        \n",
        "        predicted = torch.tensor([1 if output > 0.5 else 0 for output in outputs]).to(device)\n",
        "        \n",
        "        equals = predicted == labels.view(*predicted.shape)\n",
        "        \n",
        "        accuracy = torch.mean(equals.float())\n",
        "        running_accuracy += accuracy\n",
        "\n",
        "\n",
        "        #Imprimir os dados referentes a este loop\n",
        "        print(\"Época {:3d} - Loop {:3d} de {:3d}: perda {:03.2f} - precisão {:03.2f}\".format(epoch + 1, i+1, len(loader)\\\n",
        "                                                                                             , loss, accuracy), end= '\\r')\n",
        "    #Impressão referente à épocas\n",
        "    print(\"Época {:3d} Finalizada: perda {:.5f} - precisão {:.5f}\".format(epoch+1, running_loss/len(loader)\\\n",
        "                                                                         ,running_accuracy/len(loader)))\n",
        "    loss_values.append(running_loss / len(loader))\n",
        "    accu_values.append(running_accuracy/len(loader))"
      ],
      "execution_count": 26,
      "outputs": []
    },
    {
      "cell_type": "code",
      "metadata": {
        "id": "STKRtcKCJsSr"
      },
      "source": [
        "loss_train = [item for item in loss_values]\n",
        "accu_train = [item for item in accu_values]"
      ],
      "execution_count": 27,
      "outputs": []
    },
    {
      "cell_type": "code",
      "metadata": {
        "colab": {
          "base_uri": "https://localhost:8080/",
          "height": 397
        },
        "id": "3WUgO_4KJvvQ",
        "outputId": "cb790156-dfa1-482d-a052-082cc52bd24a"
      },
      "source": [
        "for epoch in range(20):\n",
        "    print(\"Treinando...\")\n",
        "    training_binary_loop(train_loader, epoch)\n",
        "    net.eval()\n",
        "    net.train()"
      ],
      "execution_count": 30,
      "outputs": [
        {
          "output_type": "stream",
          "name": "stdout",
          "text": [
            "Treinando...\n"
          ]
        },
        {
          "output_type": "error",
          "ename": "TypeError",
          "evalue": "ignored",
          "traceback": [
            "\u001b[0;31m---------------------------------------------------------------------------\u001b[0m",
            "\u001b[0;31mTypeError\u001b[0m                                 Traceback (most recent call last)",
            "\u001b[0;32m<ipython-input-30-376a09e73d98>\u001b[0m in \u001b[0;36m<module>\u001b[0;34m()\u001b[0m\n\u001b[1;32m      1\u001b[0m \u001b[0;32mfor\u001b[0m \u001b[0mepoch\u001b[0m \u001b[0;32min\u001b[0m \u001b[0mrange\u001b[0m\u001b[0;34m(\u001b[0m\u001b[0;36m20\u001b[0m\u001b[0;34m)\u001b[0m\u001b[0;34m:\u001b[0m\u001b[0;34m\u001b[0m\u001b[0;34m\u001b[0m\u001b[0m\n\u001b[1;32m      2\u001b[0m     \u001b[0mprint\u001b[0m\u001b[0;34m(\u001b[0m\u001b[0;34m\"Treinando...\"\u001b[0m\u001b[0;34m)\u001b[0m\u001b[0;34m\u001b[0m\u001b[0;34m\u001b[0m\u001b[0m\n\u001b[0;32m----> 3\u001b[0;31m     \u001b[0mtraining_binary_loop\u001b[0m\u001b[0;34m(\u001b[0m\u001b[0mtrain_loader\u001b[0m\u001b[0;34m,\u001b[0m \u001b[0mepoch\u001b[0m\u001b[0;34m)\u001b[0m\u001b[0;34m\u001b[0m\u001b[0;34m\u001b[0m\u001b[0m\n\u001b[0m\u001b[1;32m      4\u001b[0m     \u001b[0mnet\u001b[0m\u001b[0;34m.\u001b[0m\u001b[0meval\u001b[0m\u001b[0;34m(\u001b[0m\u001b[0;34m)\u001b[0m\u001b[0;34m\u001b[0m\u001b[0;34m\u001b[0m\u001b[0m\n\u001b[1;32m      5\u001b[0m     \u001b[0mnet\u001b[0m\u001b[0;34m.\u001b[0m\u001b[0mtrain\u001b[0m\u001b[0;34m(\u001b[0m\u001b[0;34m)\u001b[0m\u001b[0;34m\u001b[0m\u001b[0;34m\u001b[0m\u001b[0m\n",
            "\u001b[0;32m<ipython-input-26-8d2fc63dbb7b>\u001b[0m in \u001b[0;36mtraining_binary_loop\u001b[0;34m(loader, epoch)\u001b[0m\n\u001b[1;32m     12\u001b[0m \u001b[0;34m\u001b[0m\u001b[0m\n\u001b[1;32m     13\u001b[0m         \u001b[0moptimizer\u001b[0m\u001b[0;34m.\u001b[0m\u001b[0mzero_grad\u001b[0m\u001b[0;34m(\u001b[0m\u001b[0;34m)\u001b[0m\u001b[0;34m\u001b[0m\u001b[0;34m\u001b[0m\u001b[0m\n\u001b[0;32m---> 14\u001b[0;31m         \u001b[0moutputs\u001b[0m \u001b[0;34m=\u001b[0m \u001b[0mnet\u001b[0m\u001b[0;34m(\u001b[0m\u001b[0minputs\u001b[0m\u001b[0;34m)\u001b[0m\u001b[0;34m\u001b[0m\u001b[0;34m\u001b[0m\u001b[0m\n\u001b[0m\u001b[1;32m     15\u001b[0m \u001b[0;34m\u001b[0m\u001b[0m\n\u001b[1;32m     16\u001b[0m         \u001b[0mloss\u001b[0m \u001b[0;34m=\u001b[0m \u001b[0mcriterion\u001b[0m\u001b[0;34m(\u001b[0m\u001b[0moutputs\u001b[0m\u001b[0;34m,\u001b[0m \u001b[0mlabels\u001b[0m\u001b[0;34m.\u001b[0m\u001b[0mfloat\u001b[0m\u001b[0;34m(\u001b[0m\u001b[0;34m)\u001b[0m\u001b[0;34m.\u001b[0m\u001b[0mview\u001b[0m\u001b[0;34m(\u001b[0m\u001b[0;34m*\u001b[0m\u001b[0moutputs\u001b[0m\u001b[0;34m.\u001b[0m\u001b[0mshape\u001b[0m\u001b[0;34m)\u001b[0m\u001b[0;34m)\u001b[0m\u001b[0;34m\u001b[0m\u001b[0;34m\u001b[0m\u001b[0m\n",
            "\u001b[0;32m/usr/local/lib/python3.7/dist-packages/torch/nn/modules/module.py\u001b[0m in \u001b[0;36m_call_impl\u001b[0;34m(self, *input, **kwargs)\u001b[0m\n\u001b[1;32m   1049\u001b[0m         if not (self._backward_hooks or self._forward_hooks or self._forward_pre_hooks or _global_backward_hooks\n\u001b[1;32m   1050\u001b[0m                 or _global_forward_hooks or _global_forward_pre_hooks):\n\u001b[0;32m-> 1051\u001b[0;31m             \u001b[0;32mreturn\u001b[0m \u001b[0mforward_call\u001b[0m\u001b[0;34m(\u001b[0m\u001b[0;34m*\u001b[0m\u001b[0minput\u001b[0m\u001b[0;34m,\u001b[0m \u001b[0;34m**\u001b[0m\u001b[0mkwargs\u001b[0m\u001b[0;34m)\u001b[0m\u001b[0;34m\u001b[0m\u001b[0;34m\u001b[0m\u001b[0m\n\u001b[0m\u001b[1;32m   1052\u001b[0m         \u001b[0;31m# Do not call functions when jit is used\u001b[0m\u001b[0;34m\u001b[0m\u001b[0;34m\u001b[0m\u001b[0;34m\u001b[0m\u001b[0m\n\u001b[1;32m   1053\u001b[0m         \u001b[0mfull_backward_hooks\u001b[0m\u001b[0;34m,\u001b[0m \u001b[0mnon_full_backward_hooks\u001b[0m \u001b[0;34m=\u001b[0m \u001b[0;34m[\u001b[0m\u001b[0;34m]\u001b[0m\u001b[0;34m,\u001b[0m \u001b[0;34m[\u001b[0m\u001b[0;34m]\u001b[0m\u001b[0;34m\u001b[0m\u001b[0;34m\u001b[0m\u001b[0m\n",
            "\u001b[0;32m<ipython-input-22-0a63aa8f74be>\u001b[0m in \u001b[0;36mforward\u001b[0;34m(self, X)\u001b[0m\n\u001b[1;32m     27\u001b[0m         \u001b[0mX\u001b[0m \u001b[0;34m=\u001b[0m \u001b[0mself\u001b[0m\u001b[0;34m.\u001b[0m\u001b[0mactivation\u001b[0m\u001b[0;34m(\u001b[0m\u001b[0mself\u001b[0m\u001b[0;34m.\u001b[0m\u001b[0mlinear2\u001b[0m\u001b[0;34m(\u001b[0m\u001b[0mX\u001b[0m\u001b[0;34m)\u001b[0m\u001b[0;34m)\u001b[0m\u001b[0;34m\u001b[0m\u001b[0;34m\u001b[0m\u001b[0m\n\u001b[1;32m     28\u001b[0m         \u001b[0mX\u001b[0m \u001b[0;34m=\u001b[0m \u001b[0mself\u001b[0m\u001b[0;34m.\u001b[0m\u001b[0mlinear3\u001b[0m\u001b[0;34m(\u001b[0m\u001b[0mX\u001b[0m\u001b[0;34m)\u001b[0m\u001b[0;34m\u001b[0m\u001b[0;34m\u001b[0m\u001b[0m\n\u001b[0;32m---> 29\u001b[0;31m         \u001b[0mX\u001b[0m \u001b[0;34m=\u001b[0m \u001b[0mself\u001b[0m\u001b[0;34m.\u001b[0m\u001b[0msig\u001b[0m\u001b[0;34m(\u001b[0m\u001b[0;34m)\u001b[0m\u001b[0;34m\u001b[0m\u001b[0;34m\u001b[0m\u001b[0m\n\u001b[0m\u001b[1;32m     30\u001b[0m \u001b[0;34m\u001b[0m\u001b[0m\n\u001b[1;32m     31\u001b[0m         \u001b[0;32mreturn\u001b[0m \u001b[0mX\u001b[0m\u001b[0;34m\u001b[0m\u001b[0;34m\u001b[0m\u001b[0m\n",
            "\u001b[0;32m/usr/local/lib/python3.7/dist-packages/torch/nn/modules/module.py\u001b[0m in \u001b[0;36m_call_impl\u001b[0;34m(self, *input, **kwargs)\u001b[0m\n\u001b[1;32m   1049\u001b[0m         if not (self._backward_hooks or self._forward_hooks or self._forward_pre_hooks or _global_backward_hooks\n\u001b[1;32m   1050\u001b[0m                 or _global_forward_hooks or _global_forward_pre_hooks):\n\u001b[0;32m-> 1051\u001b[0;31m             \u001b[0;32mreturn\u001b[0m \u001b[0mforward_call\u001b[0m\u001b[0;34m(\u001b[0m\u001b[0;34m*\u001b[0m\u001b[0minput\u001b[0m\u001b[0;34m,\u001b[0m \u001b[0;34m**\u001b[0m\u001b[0mkwargs\u001b[0m\u001b[0;34m)\u001b[0m\u001b[0;34m\u001b[0m\u001b[0;34m\u001b[0m\u001b[0m\n\u001b[0m\u001b[1;32m   1052\u001b[0m         \u001b[0;31m# Do not call functions when jit is used\u001b[0m\u001b[0;34m\u001b[0m\u001b[0;34m\u001b[0m\u001b[0;34m\u001b[0m\u001b[0m\n\u001b[1;32m   1053\u001b[0m         \u001b[0mfull_backward_hooks\u001b[0m\u001b[0;34m,\u001b[0m \u001b[0mnon_full_backward_hooks\u001b[0m \u001b[0;34m=\u001b[0m \u001b[0;34m[\u001b[0m\u001b[0;34m]\u001b[0m\u001b[0;34m,\u001b[0m \u001b[0;34m[\u001b[0m\u001b[0;34m]\u001b[0m\u001b[0;34m\u001b[0m\u001b[0;34m\u001b[0m\u001b[0m\n",
            "\u001b[0;31mTypeError\u001b[0m: forward() missing 1 required positional argument: 'input'"
          ]
        }
      ]
    },
    {
      "cell_type": "code",
      "metadata": {
        "id": "cu4GnIVQJwjr"
      },
      "source": [
        "loss_train = [item for item in loss_values]\n",
        "accu_train = [item for item in accu_values]"
      ],
      "execution_count": 29,
      "outputs": []
    },
    {
      "cell_type": "code",
      "metadata": {
        "id": "zEXHeuVVJyUG"
      },
      "source": [
        "accu_values.clear()\n",
        "loss_values.clear()\n",
        "for epoch in range(20):\n",
        "    net.eval()\n",
        "    print(\"Validando...\")\n",
        "    training_binary_loop(test_loader, epoch)\n",
        "    net.train()"
      ],
      "execution_count": null,
      "outputs": []
    },
    {
      "cell_type": "code",
      "metadata": {
        "id": "khYyEVT5J1De"
      },
      "source": [
        "loss_test = [item for item in loss_values]\n",
        "accu_test = [item for item in accu_values]"
      ],
      "execution_count": null,
      "outputs": []
    },
    {
      "cell_type": "code",
      "metadata": {
        "id": "mtMKvMQMJ4Q2"
      },
      "source": [
        "epochs_x = range(1, len(loss_test) + 1)\n",
        "plt.figure(figsize=(10,10))\n",
        "plt.subplot(2,1,1)\n",
        "plt.plot(epochs_x, loss_train, 'bo', label='Training loss')\n",
        "plt.plot(epochs_x, loss_test, 'b', label='Testing loss')\n",
        "plt.title('Training and Testing Loss and Accuracy')\n",
        "plt.xlabel('Epochs')\n",
        "plt.ylabel('Loss')\n",
        "#plt.legend()\n",
        "plt.subplot(2,1,2)\n",
        "#val_acc_values = history_dict['val_accuracy']\n",
        "plt.plot(epochs_x, accu_train, 'bo', label='Training acc')\n",
        "plt.plot(epochs_x, accu_test, 'b', label='Testing acc')\n",
        "#plt.title('Training and validation accuracy')\n",
        "plt.xlabel('Epochs')\n",
        "plt.ylabel('Acc')\n",
        "plt.legend()\n",
        "plt.show()"
      ],
      "execution_count": null,
      "outputs": []
    }
  ]
}