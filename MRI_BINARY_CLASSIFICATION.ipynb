{
  "nbformat": 4,
  "nbformat_minor": 0,
  "metadata": {
    "colab": {
      "name": "MRI_BINARY_CLASSIFICATION.ipynb",
      "provenance": [],
      "collapsed_sections": [],
      "authorship_tag": "ABX9TyOlJD+Dh8XXAdTAa/+NQFZy",
      "include_colab_link": true
    },
    "kernelspec": {
      "name": "python3",
      "display_name": "Python 3"
    },
    "language_info": {
      "name": "python"
    },
    "accelerator": "GPU"
  },
  "cells": [
    {
      "cell_type": "markdown",
      "metadata": {
        "id": "view-in-github",
        "colab_type": "text"
      },
      "source": [
        "<a href=\"https://colab.research.google.com/github/wander-asb/MRI_CLASSIFICATION/blob/main/MRI_BINARY_CLASSIFICATION.ipynb\" target=\"_parent\"><img src=\"https://colab.research.google.com/assets/colab-badge.svg\" alt=\"Open In Colab\"/></a>"
      ]
    },
    {
      "cell_type": "markdown",
      "metadata": {
        "id": "HAfCFBfoiUT_"
      },
      "source": [
        "# Classificação binária de imagens de ressonâncias magnética em tumores cerebrais\n",
        "\n",
        "- Bibliografia:\n",
        "   Link:\n",
        "\n",
        "\n",
        "\n"
      ]
    },
    {
      "cell_type": "markdown",
      "metadata": {
        "id": "EIBgJB90CNwv"
      },
      "source": [
        "## Bibliotecas\n",
        "\n"
      ]
    },
    {
      "cell_type": "code",
      "metadata": {
        "colab": {
          "base_uri": "https://localhost:8080/"
        },
        "id": "2iS58EBD9spW",
        "outputId": "4a896a79-6b55-4e76-bf75-1ac872406f69"
      },
      "source": [
        "#Bibliotecas para modelagem e tratamento de dados\n",
        "import numpy as np\n",
        "import pandas as pd\n",
        "from   google.colab import drive\n",
        "\n",
        "#Bibliotecas para visualização de dados\n",
        "import matplotlib.pyplot as plt\n",
        "from PIL import Image\n",
        "\n",
        "#Bibliotecas para aprendizado profundo\n",
        "import torch\n",
        "from torch import nn, optim\n",
        "from torchvision import datasets, transforms\n",
        "\n",
        "print(\"Versão:\",torch.__version__)"
      ],
      "execution_count": 44,
      "outputs": [
        {
          "output_type": "stream",
          "name": "stdout",
          "text": [
            "Versão: 1.9.0+cu111\n"
          ]
        }
      ]
    },
    {
      "cell_type": "markdown",
      "metadata": {
        "id": "PqYg_bVICTf6"
      },
      "source": [
        "## Tratamento de modelagem de dados"
      ]
    },
    {
      "cell_type": "code",
      "metadata": {
        "id": "rI4WkFPO9zQF"
      },
      "source": [
        "#Aplicamos a semente geradora\n",
        "#torch.manual_seed(123)"
      ],
      "execution_count": 45,
      "outputs": []
    },
    {
      "cell_type": "code",
      "metadata": {
        "colab": {
          "base_uri": "https://localhost:8080/"
        },
        "id": "xAhv5dCLP_-O",
        "outputId": "a7efc514-bb13-4f37-e103-1850d67e4d6d"
      },
      "source": [
        "drive.mount('/content/gdrive')"
      ],
      "execution_count": 46,
      "outputs": [
        {
          "output_type": "stream",
          "name": "stdout",
          "text": [
            "Drive already mounted at /content/gdrive; to attempt to forcibly remount, call drive.mount(\"/content/gdrive\", force_remount=True).\n"
          ]
        }
      ]
    },
    {
      "cell_type": "code",
      "metadata": {
        "id": "xvsi5LUy_hpl"
      },
      "source": [
        "#Cria variáveis responsáveis por receber nosso path de arquivos de dados\n",
        "path_teste = '/content/gdrive/MyDrive/MRI_TUMOR_CNN/BinaryDatasetBrainTumor/Test'\n",
        "path_treino = '/content/gdrive/MyDrive/MRI_TUMOR_CNN/BinaryDatasetBrainTumor/Train'"
      ],
      "execution_count": 47,
      "outputs": []
    },
    {
      "cell_type": "code",
      "metadata": {
        "id": "WUsxdk_oBJjz"
      },
      "source": [
        "'''\n",
        "Após recebermos nossos caminhos, transformamos nossos conjuntos de \n",
        "dados em tensores, mas fazendo alterações de imagens.\n",
        "'''\n",
        "transform_train = transforms.Compose(\n",
        "    [\n",
        "        transforms.Resize([128,128]),\n",
        "        transforms.RandomHorizontalFlip(),\n",
        "        transforms.RandomAffine(degrees=45, translate=(0, 0.07), shear=0.2, scale=(1,1.2)),\n",
        "        transforms.ToTensor()\n",
        "    ]\n",
        ")\n",
        "\n",
        "transform_test = transforms.Compose(\n",
        "    [\n",
        "        transforms.Resize([128,128]),\n",
        "        transforms.ToTensor()\n",
        "    ]\n",
        ")"
      ],
      "execution_count": 48,
      "outputs": []
    },
    {
      "cell_type": "code",
      "metadata": {
        "id": "kos_jiwYBjNl"
      },
      "source": [
        "#Aplicamos nossos tensores em tipos de dados dataset\n",
        "train_dataset = datasets.ImageFolder(path_treino, transform=transform_train)\n",
        "test_dataset = datasets.ImageFolder(path_teste, transform=transform_test)"
      ],
      "execution_count": 49,
      "outputs": []
    },
    {
      "cell_type": "code",
      "metadata": {
        "colab": {
          "base_uri": "https://localhost:8080/"
        },
        "id": "FJUb-wpmBs8j",
        "outputId": "f97aa5de-e699-4ddd-e3d4-560810fd5482"
      },
      "source": [
        "print(train_dataset, \"\\n\"*2, test_dataset)"
      ],
      "execution_count": 50,
      "outputs": [
        {
          "output_type": "stream",
          "name": "stdout",
          "text": [
            "Dataset ImageFolder\n",
            "    Number of datapoints: 2870\n",
            "    Root location: /content/gdrive/MyDrive/MRI_TUMOR_CNN/BinaryDatasetBrainTumor/Train\n",
            "    StandardTransform\n",
            "Transform: Compose(\n",
            "               Resize(size=[128, 128], interpolation=bilinear, max_size=None, antialias=None)\n",
            "               RandomHorizontalFlip(p=0.5)\n",
            "               RandomAffine(degrees=[-45.0, 45.0], translate=(0, 0.07), scale=(1, 1.2), shear=[-0.2, 0.2])\n",
            "               ToTensor()\n",
            "           ) \n",
            "\n",
            " Dataset ImageFolder\n",
            "    Number of datapoints: 220\n",
            "    Root location: /content/gdrive/MyDrive/MRI_TUMOR_CNN/BinaryDatasetBrainTumor/Test\n",
            "    StandardTransform\n",
            "Transform: Compose(\n",
            "               Resize(size=[128, 128], interpolation=bilinear, max_size=None, antialias=None)\n",
            "               ToTensor()\n",
            "           )\n"
          ]
        }
      ]
    },
    {
      "cell_type": "code",
      "metadata": {
        "id": "irBiKEgIB5Mt"
      },
      "source": [
        "train_loader = torch.utils.data.DataLoader(train_dataset, batch_size = 32, shuffle=True)\n",
        "test_loader = torch.utils.data.DataLoader(test_dataset, batch_size = 32, shuffle=True)"
      ],
      "execution_count": 51,
      "outputs": []
    },
    {
      "cell_type": "markdown",
      "metadata": {
        "id": "Pp7yuWGfCADr"
      },
      "source": [
        "## Camadas convolucionais\n",
        "\n",
        "- convolução1 = (64 - 10 + 1) / 1 = 35x35\n",
        "- pooling1 = 35/2 = 17x17\n",
        "\n",
        "-=-=-=-=-=-=-\n",
        "\n",
        "- convolução2 = (17 - 3 + 1) / 1 = 15x15\n",
        "- pooling2 = 7x7\n",
        "\n",
        "-=-=-=-=-=-=-\n",
        "\n",
        "- convolução3 = (7 - 3 + 1) / 1 = 2x2\n",
        "- pooling3 = 1x1\n",
        "\n"
      ]
    },
    {
      "cell_type": "code",
      "metadata": {
        "id": "_44Vw7D9B7l8",
        "colab": {
          "base_uri": "https://localhost:8080/",
          "height": 120
        },
        "outputId": "61c8ed3d-2cb3-4f58-f634-c887ee6e8204"
      },
      "source": [
        "'''classificador = nn.Sequential(\n",
        "    \n",
        "    nn.Conv2d(in_channels=3, out_channels=64, kernel_size=10, stride=(1,1)),\n",
        "    nn.ReflectionPad2d(0),\n",
        "    nn.ReLU(),\n",
        "    nn.BatchNorm2d(num_features=64),\n",
        "    #(128 - 10 + 1)/1 = 119x119\n",
        "    nn.MaxPool2d(kernel_size=2),\n",
        "    #119/2 = 58x58\n",
        "\n",
        "    nn.Conv2d(in_channels=64, out_channels=64, kernel_size=3, stride=(1,1)),\n",
        "    nn.ReflectionPad2d(2),\n",
        "    nn.ReLU(),\n",
        "    nn.MaxPool2d(kernel_size=2),\n",
        "    #58/2 = 29x29\n",
        "    nn.Dropout(p=0.1, inplace=True),\n",
        "\n",
        "    nn.Conv2d(in_channels=64, out_channels=64, kernel_size=2, stride=(1,1)),\n",
        "    nn.ReflectionPad2d(2),\n",
        "    nn.ReLU(),\n",
        "    nn.MaxPool2d(kernel_size=2),\n",
        "    #29/2 = 14x14\n",
        "    nn.Dropout(p=0.2, inplace=True),\n",
        "    \n",
        "    nn.Flatten(),\n",
        "    nn.Linear(in_features=16384, out_features=128), #in_features = 16384\n",
        "    nn.ReLU(),\n",
        "    nn.Linear(128, 128),\n",
        "    nn.ReLU(),\n",
        "    nn.Linear(128, 1),\n",
        "    nn.Sigmoid()\n",
        ")'''"
      ],
      "execution_count": 52,
      "outputs": [
        {
          "output_type": "execute_result",
          "data": {
            "application/vnd.google.colaboratory.intrinsic+json": {
              "type": "string"
            },
            "text/plain": [
              "'classificador = nn.Sequential(\\n    \\n    nn.Conv2d(in_channels=3, out_channels=64, kernel_size=10, stride=(1,1)),\\n    nn.ReflectionPad2d(0),\\n    nn.ReLU(),\\n    nn.BatchNorm2d(num_features=64),\\n    #(128 - 10 + 1)/1 = 119x119\\n    nn.MaxPool2d(kernel_size=2),\\n    #119/2 = 58x58\\n\\n    nn.Conv2d(in_channels=64, out_channels=64, kernel_size=3, stride=(1,1)),\\n    nn.ReflectionPad2d(2),\\n    nn.ReLU(),\\n    nn.MaxPool2d(kernel_size=2),\\n    #58/2 = 29x29\\n    nn.Dropout(p=0.1, inplace=True),\\n\\n    nn.Conv2d(in_channels=64, out_channels=64, kernel_size=2, stride=(1,1)),\\n    nn.ReflectionPad2d(2),\\n    nn.ReLU(),\\n    nn.MaxPool2d(kernel_size=2),\\n    #29/2 = 14x14\\n    nn.Dropout(p=0.2, inplace=True),\\n    \\n    nn.Flatten(),\\n    nn.Linear(in_features=16384, out_features=128), #in_features = 16384\\n    nn.ReLU(),\\n    nn.Linear(128, 128),\\n    nn.ReLU(),\\n    nn.Linear(128, 1),\\n    nn.Sigmoid()\\n)'"
            ]
          },
          "metadata": {},
          "execution_count": 52
        }
      ]
    },
    {
      "cell_type": "code",
      "metadata": {
        "id": "p1vSlP6WjuTG"
      },
      "source": [
        "classificador = nn.Sequential(\n",
        "    \n",
        "    nn.Conv2d(in_channels=3, out_channels=128, kernel_size=10, stride=(1,1), padding=(0,0)),\n",
        "    nn.ReLU(),\n",
        "    nn.BatchNorm2d(num_features=128),\n",
        "    nn.MaxPool2d(kernel_size=2),\n",
        "    \n",
        "    nn.Conv2d(in_channels=128, out_channels=128, kernel_size=3, stride=(1,1), padding=(2,2)),\n",
        "    nn.ReLU(),\n",
        "    nn.MaxPool2d(kernel_size=2),\n",
        "    nn.Dropout(p=0.1, inplace=True),\n",
        "\n",
        "    nn.Conv2d(in_channels=128, out_channels=128, kernel_size=2, stride=(1,1), padding=(2,2)),\n",
        "    nn.ReLU(),\n",
        "    nn.MaxPool2d(kernel_size=2),\n",
        "    nn.Dropout(p=0.2, inplace=True),\n",
        "\n",
        "\n",
        "    #conv1 = (128 - 10 + 1) / 1 = 199x119\n",
        "    #pool = 119 / 2 = 57x57\n",
        "\n",
        "    #conv2 = (57 - 3 + 1) / 1 = 55x55\n",
        "    #pool = 55 / 2 = 27\n",
        "\n",
        "    #conv3 = (27 - 2 + 1) / 1 = 26x26\n",
        "    #pool3 = 26 / 2 = 13\n",
        "\n",
        "    #64*13*13\n",
        "    \n",
        "    nn.Flatten(),\n",
        "    nn.Linear(in_features=32768, out_features=256), #in_features = 16384\n",
        "    nn.ReLU(),\n",
        "    nn.Linear(256, 128),\n",
        "    nn.ReLU(),\n",
        "    nn.Linear(128, 1),\n",
        "    nn.Sigmoid()\n",
        ")"
      ],
      "execution_count": 53,
      "outputs": []
    },
    {
      "cell_type": "code",
      "metadata": {
        "id": "xCw3546oRWBc"
      },
      "source": [
        "criterion = nn.BCELoss()\n",
        "optimizer = optim.Adam(classificador.parameters())"
      ],
      "execution_count": 54,
      "outputs": []
    },
    {
      "cell_type": "markdown",
      "metadata": {
        "id": "Ict7lh7Yh2AC"
      },
      "source": [
        "## Seta o uso de uma GPU responsável "
      ]
    },
    {
      "cell_type": "code",
      "metadata": {
        "colab": {
          "base_uri": "https://localhost:8080/"
        },
        "id": "fgEd5oXURem-",
        "outputId": "3071e26e-8eaf-432a-8d7f-a4e1df9364ed"
      },
      "source": [
        "device = torch.device('cuda') if torch.cuda.is_available() else torch.device('cpu')\n",
        "print(device)"
      ],
      "execution_count": 55,
      "outputs": [
        {
          "output_type": "stream",
          "name": "stdout",
          "text": [
            "cuda\n"
          ]
        }
      ]
    },
    {
      "cell_type": "code",
      "metadata": {
        "colab": {
          "base_uri": "https://localhost:8080/"
        },
        "id": "MwhwEWigVmss",
        "outputId": "67e14620-f170-4f88-d6d4-81a9a1675296"
      },
      "source": [
        "classificador.to(device)"
      ],
      "execution_count": 56,
      "outputs": [
        {
          "output_type": "execute_result",
          "data": {
            "text/plain": [
              "Sequential(\n",
              "  (0): Conv2d(3, 128, kernel_size=(10, 10), stride=(1, 1))\n",
              "  (1): ReLU()\n",
              "  (2): BatchNorm2d(128, eps=1e-05, momentum=0.1, affine=True, track_running_stats=True)\n",
              "  (3): MaxPool2d(kernel_size=2, stride=2, padding=0, dilation=1, ceil_mode=False)\n",
              "  (4): Conv2d(128, 128, kernel_size=(3, 3), stride=(1, 1), padding=(2, 2))\n",
              "  (5): ReLU()\n",
              "  (6): MaxPool2d(kernel_size=2, stride=2, padding=0, dilation=1, ceil_mode=False)\n",
              "  (7): Dropout(p=0.1, inplace=True)\n",
              "  (8): Conv2d(128, 128, kernel_size=(2, 2), stride=(1, 1), padding=(2, 2))\n",
              "  (9): ReLU()\n",
              "  (10): MaxPool2d(kernel_size=2, stride=2, padding=0, dilation=1, ceil_mode=False)\n",
              "  (11): Dropout(p=0.2, inplace=True)\n",
              "  (12): Flatten(start_dim=1, end_dim=-1)\n",
              "  (13): Linear(in_features=32768, out_features=256, bias=True)\n",
              "  (14): ReLU()\n",
              "  (15): Linear(in_features=256, out_features=128, bias=True)\n",
              "  (16): ReLU()\n",
              "  (17): Linear(in_features=128, out_features=1, bias=True)\n",
              "  (18): Sigmoid()\n",
              ")"
            ]
          },
          "metadata": {},
          "execution_count": 56
        }
      ]
    },
    {
      "cell_type": "markdown",
      "metadata": {
        "id": "qOr2cZvxiEEq"
      },
      "source": [
        "## Modelo de treinamendo da Rede Neural "
      ]
    },
    {
      "cell_type": "code",
      "metadata": {
        "id": "_AyjVqnURggE"
      },
      "source": [
        "def training_binary_loop(loader, epoch):\n",
        "    running_loss = 0.\n",
        "    running_accuracy = 0.\n",
        "    \n",
        "    for i, data in enumerate(loader):\n",
        "        \n",
        "        inputs, labels = data\n",
        "        \n",
        "        inputs, labels = inputs.to(device), labels.to(device)\n",
        "        \n",
        "        optimizer.zero_grad()\n",
        "        outputs = classificador(inputs)\n",
        "        \n",
        "        loss = criterion(outputs, labels.float().view(*outputs.shape))\n",
        "        loss.backward()\n",
        "        \n",
        "        optimizer.step()\n",
        "        \n",
        "        running_loss += loss.item()\n",
        "        \n",
        "        predicted = torch.tensor([1 if output > 0.5 else 0 for output in outputs]).to(device)\n",
        "        \n",
        "        equals = predicted == labels.view(*predicted.shape)\n",
        "        \n",
        "        accuracy = torch.mean(equals.float())\n",
        "        running_accuracy += accuracy\n",
        "        \n",
        "        #Imprimir os dados referentes a este loop\n",
        "        print(\"Época {:3d} - Loop {:3d} de {:3d}: perda {:03.2f} - precisão {:03.2f}\".format(epoch + 1, i+1, len(loader)\\\n",
        "                                                                                             , loss, accuracy), end= '\\r')\n",
        "    #Impressão referente à épocas\n",
        "    print(\"Época {:3d} Finalizada: perda {:.5f} - precisão {:.5f}\".format(epoch+1, running_loss/len(loader)\\\n",
        "                                                                         ,running_accuracy/len(loader)))"
      ],
      "execution_count": 57,
      "outputs": []
    },
    {
      "cell_type": "markdown",
      "metadata": {
        "id": "9Vut7pdniH6_"
      },
      "source": [
        "## Treinamento do modelo "
      ]
    },
    {
      "cell_type": "code",
      "metadata": {
        "colab": {
          "base_uri": "https://localhost:8080/"
        },
        "id": "Ze1mIRw_RkOD",
        "outputId": "31119d31-af89-4fef-9686-87d0bfdd0240"
      },
      "source": [
        "for epoch in range(10):\n",
        "    print(\"Treinando...\")\n",
        "    training_binary_loop(train_loader, epoch)\n",
        "    classificador.eval()\n",
        "    print(\"Validando...\")\n",
        "    training_binary_loop(test_loader, epoch)\n",
        "    classificador.train()"
      ],
      "execution_count": 58,
      "outputs": [
        {
          "output_type": "stream",
          "name": "stdout",
          "text": [
            "Treinando...\n",
            "Época   1 Finalizada: perda 0.34205 - precisão 0.86654\n",
            "Validando...\n",
            "Época   1 Finalizada: perda 0.83211 - precisão 0.48980\n",
            "Treinando...\n",
            "Época   2 Finalizada: perda 0.27080 - precisão 0.88734\n",
            "Validando...\n",
            "Época   2 Finalizada: perda 0.66065 - precisão 0.64477\n",
            "Treinando...\n",
            "Época   3 Finalizada: perda 0.21510 - precisão 0.90193\n",
            "Validando...\n",
            "Época   3 Finalizada: perda 0.63481 - precisão 0.65306\n",
            "Treinando...\n",
            "Época   4 Finalizada: perda 0.19292 - precisão 0.91376\n",
            "Validando...\n",
            "Época   4 Finalizada: perda 0.62366 - precisão 0.65625\n",
            "Treinando...\n",
            "Época   5 Finalizada: perda 0.20058 - precisão 0.91427\n",
            "Validando...\n",
            "Época   5 Finalizada: perda 0.53846 - precisão 0.75893\n",
            "Treinando...\n",
            "Época   6 Finalizada: perda 0.20135 - precisão 0.91149\n",
            "Validando...\n",
            "Época   6 Finalizada: perda 0.50709 - precisão 0.74872\n",
            "Treinando...\n",
            "Época   7 Finalizada: perda 0.16778 - precisão 0.92727\n",
            "Validando...\n",
            "Época   7 Finalizada: perda 0.48754 - precisão 0.76786\n",
            "Treinando...\n",
            "Época   8 Finalizada: perda 0.17042 - precisão 0.92819\n",
            "Validando...\n",
            "Época   8 Finalizada: perda 0.49784 - precisão 0.73852\n",
            "Treinando...\n",
            "Época   9 Finalizada: perda 0.16865 - precisão 0.92607\n",
            "Validando...\n",
            "Época   9 Finalizada: perda 0.45338 - precisão 0.77423\n",
            "Treinando...\n",
            "Época  10 Finalizada: perda 0.15854 - precisão 0.93005\n",
            "Validando...\n",
            "Época  10 Finalizada: perda 0.41500 - precisão 0.80804\n"
          ]
        }
      ]
    },
    {
      "cell_type": "markdown",
      "metadata": {
        "id": "CvBDynCAiLco"
      },
      "source": [
        "## Validação do treinamendo do modelo para duas imagens "
      ]
    },
    {
      "cell_type": "code",
      "metadata": {
        "id": "yxBUSlx8RmI7"
      },
      "source": [
        "def classificador_de_imagens(fname):\n",
        "  imagem_teste = Image.open(path_teste + '/' + fname)\n",
        "  plt.imshow(imagem_teste)\n",
        "  imagem_teste = imagem_teste.resize((128, 128))\n",
        "  imagem_teste = np.array(imagem_teste.getdata()).reshape(*imagem_teste.size, 3)\n",
        "  imagem_teste = imagem_teste / 255\n",
        "  imagem_teste = imagem_teste.transpose(2, 0, 1)\n",
        "  imagem_teste = torch.tensor(imagem_teste, dtype=torch.float).view(-1, *imagem_teste.shape)\n",
        "\n",
        "  classificador.eval()\n",
        "  imagem_teste = imagem_teste.to(device)\n",
        "  output = classificador.forward(imagem_teste)\n",
        "  if output > 0.5:\n",
        "    output = 1\n",
        "  else:\n",
        "    output = 0\n",
        "  print(\"Previsão:....\", output)\n",
        "\n",
        "  idx_to_class = {value: key for key, value in test_dataset.class_to_idx.items()}\n",
        "\n",
        "  return idx_to_class[output]"
      ],
      "execution_count": 59,
      "outputs": []
    },
    {
      "cell_type": "code",
      "metadata": {
        "id": "DXGZQdyRf__w",
        "colab": {
          "base_uri": "https://localhost:8080/",
          "height": 304
        },
        "outputId": "963292bc-506d-474a-d35b-ae237ba78b5e"
      },
      "source": [
        "imagem = 'yes_tumor/image(1).jpg'\n",
        "classificador_de_imagens(imagem)"
      ],
      "execution_count": 60,
      "outputs": [
        {
          "output_type": "stream",
          "name": "stdout",
          "text": [
            "Previsão:.... 1\n"
          ]
        },
        {
          "output_type": "execute_result",
          "data": {
            "application/vnd.google.colaboratory.intrinsic+json": {
              "type": "string"
            },
            "text/plain": [
              "'yes_tumor'"
            ]
          },
          "metadata": {},
          "execution_count": 60
        },
        {
          "output_type": "display_data",
          "data": {
            "image/png": "[encoded data removed]",
            "text/plain": [
              "<Figure size 432x288 with 1 Axes>"
            ]
          },
          "metadata": {
            "needs_background": "light"
          }
        }
      ]
    },
    {
      "cell_type": "code",
      "metadata": {
        "id": "VZ_KzZRTgWw-",
        "colab": {
          "base_uri": "https://localhost:8080/",
          "height": 304
        },
        "outputId": "9d838065-c205-49ee-84b7-03cf474f6956"
      },
      "source": [
        "imagem = 'no_tumor/image(102).jpg'\n",
        "classificador_de_imagens(imagem)"
      ],
      "execution_count": 61,
      "outputs": [
        {
          "output_type": "stream",
          "name": "stdout",
          "text": [
            "Previsão:.... 0\n"
          ]
        },
        {
          "output_type": "execute_result",
          "data": {
            "application/vnd.google.colaboratory.intrinsic+json": {
              "type": "string"
            },
            "text/plain": [
              "'no_tumor'"
            ]
          },
          "metadata": {},
          "execution_count": 61
        },
        {
          "output_type": "display_data",
          "data": {
            "image/png": "[encoded data removed]",
            "text/plain": [
              "<Figure size 432x288 with 1 Axes>"
            ]
          },
          "metadata": {
            "needs_background": "light"
          }
        }
      ]
    }
  ]
}